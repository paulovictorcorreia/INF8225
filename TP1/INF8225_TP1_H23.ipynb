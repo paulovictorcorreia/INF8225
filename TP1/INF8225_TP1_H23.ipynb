{
  "cells": [
    {
      "cell_type": "markdown",
      "metadata": {
        "id": "OAHWMYJv4xuc"
      },
      "source": [
        "# INF8225 TP1 H23 (v1.1)"
      ]
    },
    {
      "cell_type": "markdown",
      "metadata": {
        "id": "qV-6EDgXO-S9"
      },
      "source": [
        "Paulo Victor - Correia / Matricule 2167525\n",
        "\n",
        "Partie 3 réalisée: [seul(e)] \n",
        "\n",
        "Date limite : 8h30 le 27 février 2023\n",
        "\n",
        "Remettez votre fichier Colab sur Moodle en 2 formats: **.pdf** ET **.ipynb**"
      ]
    },
    {
      "cell_type": "markdown",
      "metadata": {
        "id": "Jo2CPniBeytl"
      },
      "source": [
        "**Comment utiliser**:\n",
        "\n",
        "Il faut copier ce notebook dans vos dossiers pour avoir une version que vous pouvez modifier, voici deux façons de le faire:\n",
        "* File / Save a copy in Drive ...\n",
        "* File / Download .ipynb\n",
        "\n",
        "**Pour utiliser un GPU**\n",
        "\n",
        "Runtime / Change Runtime Type / Hardware Accelerator / GPU"
      ]
    },
    {
      "cell_type": "markdown",
      "metadata": {
        "id": "pCGh-NNm47Tk"
      },
      "source": [
        "# Partie 1 (10 points)\n",
        "\n"
      ]
    },
    {
      "cell_type": "markdown",
      "metadata": {
        "id": "r7tkIgu75Ccd"
      },
      "source": [
        "## Objectif\n",
        "L’objectif de la Partie 1 du travail pratique est de permettre à l’étudiant de se familiariser avec les réseaux Bayésiens et la librairie Numpy."
      ]
    },
    {
      "cell_type": "markdown",
      "metadata": {
        "id": "iongVT7XRegv"
      },
      "source": [
        "## Problème\n"
      ]
    },
    {
      "cell_type": "markdown",
      "metadata": {
        "id": "mAPVItwwbiiG"
      },
      "source": [
        "<img src=\"https://drive.google.com/uc?id=1UhYF6_QGTHGpR5VBg-RKvr8jJWJPN12A\" alt=\"bayes_net\" width=\"600\"/>\n",
        "\n",
        "\n",
        "Voici les tables de probabilités conditionnelles fournies:\n",
        "\n",
        "* La probabilité qu'il est Nuageux: $Pr(N=1)=0.2$\n",
        "* La probabilité que l'arroseur a été utilisé sachant qu'il est nuageux ou non: $Pr(A=1|N=1)=0.01$, $Pr(A=1|N=0)=0.3$ \n",
        "* La probabilité qu'il ait plu, étant donné que le temps est nuageux: $Pr(P=1|N=1)=0.8$, $Pr(P=1|N=0)=0.1$\n",
        "* La probabilité que le gazon de Watson soit mouillé...\n",
        "  * ... sachant qu'il a plu est $Pr(W=1|P=1)=1$\n",
        "  *... sachant qu'il n'a $\\textbf{pas}$ plu: $Pr(W=1|P=0)=0.2$\n",
        "* La probabilité que Holmes remarque que son gazon est mouillé...\n",
        "  * ... sachant que l’arroseur a fonctionné et qu'il n'a $\\textbf{pas}$ plu: $Pr(H=1|P=0, A=1)=0.9$\n",
        "  * ... sachant que l’arroseur n'a $\\textbf{pas}$ fonctionné et qu'il n'a $\\textbf{pas}$ plu: $Pr(H=1|P=0, A=0) = 0$\n",
        "  * ... sachant qu'il a plu, et que l'arroseur ait ou pas fonctionné: $Pr(H=1|P=1, A={0,1})=1$"
      ]
    },
    {
      "cell_type": "markdown",
      "metadata": {
        "id": "Twz4slZ9DY6n"
      },
      "source": [
        "## Trucs et astuces\n",
        "Nous utiliserons des vecteurs multidimensionnels `5d-arrays` dont les `axes` représentent:\n",
        "```\n",
        "axe 0 : temps nuageux (N)\n",
        "axe 1 : pluie (P)\n",
        "axe 2 : arroseur (A)\n",
        "axe 3 : gazon de watson (W)\n",
        "axe 4 : gazon de holmes (H)\n",
        "```\n",
        "Chaque `axe` serait de dimension `2`:\n",
        "```\n",
        "0 : faux\n",
        "1 : vrai\n",
        "```\n",
        "Quelques point à garder en tête:\n",
        "- Utiliser la jointe comme point de départ pour vos calculs (ne pas développer tous les termes à la main).\n",
        "- Attention à l'effet du do-operator sur le graphe.\n",
        "- L'argument \"keepdims=True\" de \"np.sum()\" vous permet conserver les mêmes indices.\n",
        "- Pour un rappel sur les probabilités conditionelles, voir: https://www.probabilitycourse.com/chapter1/1_4_0_conditional_probability.php"
      ]
    },
    {
      "cell_type": "markdown",
      "metadata": {
        "id": "EUjUNqVcTEXP"
      },
      "source": [
        "## 1. Complétez les tables de probabilités ci-dessous"
      ]
    },
    {
      "cell_type": "code",
      "execution_count": null,
      "metadata": {
        "colab": {
          "base_uri": "https://localhost:8080/"
        },
        "id": "D-rxnQmCCCPa",
        "outputId": "ee29dab5-ab44-49bd-9229-b9c930a16791"
      },
      "outputs": [
        {
          "name": "stdout",
          "output_type": "stream",
          "text": [
            "Pr(N)=\n",
            "[0.8 0.2]\n",
            "\n",
            "Pr(P|N)=\n",
            "[[0.9 0.1]\n",
            " [0.6 0.4]]\n",
            "\n",
            "Pr(A|N)=\n",
            "[[0.7  0.3 ]\n",
            " [0.99 0.01]]\n",
            "\n",
            "Pr(W|P)=\n",
            "[[0.8 0.2]\n",
            " [0.  1. ]]\n",
            "\n",
            "Pr(H|P,A)=\n",
            "[[[1.  0. ]\n",
            "  [0.1 0.9]]\n",
            "\n",
            " [[0.  1. ]\n",
            "  [0.  1. ]]]\n",
            "\n"
          ]
        }
      ],
      "source": [
        "import numpy as np\n",
        "\n",
        "# Les tableaux sont bâtis avec les dimensions (N, P, A, W, H)\n",
        "# et chaque dimension est (False, True)\n",
        "\n",
        "Pr_N = np.array([0.8, 0.2]).reshape(2, 1, 1, 1, 1)\n",
        "Pr_P_given_N = np.array([[0.9, 0.1], [0.6, 0.4]]).reshape(2, 2, 1, 1, 1)\n",
        "Pr_A_given_N =  np.array([[0.7, 0.3], [0.99, 0.01]]).reshape(2, 1, 2, 1, 1)\n",
        "Pr_W_given_P = np.array([[0.8, 0.2], [0.0, 1.0]]).reshape(1, 2, 1, 2, 1)\n",
        "Pr_H_given_PA = np.array([[1.0, 0.0], [0.1, 0.9], [0.0, 1.0],[0.0, 1.0]]).reshape(1, 2, 2, 1, 2)\n",
        "\n",
        "\n",
        "\n",
        "\n",
        "print (f\"Pr(N)=\\n{np.squeeze(Pr_N)}\\n\")\n",
        "print (f\"Pr(P|N)=\\n{np.squeeze(Pr_P_given_N)}\\n\")\n",
        "print (f\"Pr(A|N)=\\n{np.squeeze(Pr_A_given_N)}\\n\")\n",
        "print (f\"Pr(W|P)=\\n{np.squeeze(Pr_W_given_P)}\\n\")\n",
        "print (f\"Pr(H|P,A)=\\n{np.squeeze(Pr_H_given_PA)}\\n\")"
      ]
    },
    {
      "cell_type": "markdown",
      "metadata": {
        "id": "PHD6DX-nS6Qt"
      },
      "source": [
        "## 2. À l'aide de ces tables de probabilité conditionnelles, calculez les requêtes ci-dessous. Dans les cas où l'on compare un calcul non interventionnel à un calcul interventionnel, commentez sur l'interprétation physique des deux situations et les résultats obtenus à partir de vos modèles."
      ]
    },
    {
      "cell_type": "code",
      "execution_count": null,
      "metadata": {
        "colab": {
          "base_uri": "https://localhost:8080/"
        },
        "id": "gMPRZsYKZdGl",
        "outputId": "8e1a97b0-f81c-4279-f484-32111f39d102"
      },
      "outputs": [
        {
          "name": "stdout",
          "output_type": "stream",
          "text": [
            "Shape of conjoint: (2, 2, 2, 2, 2)\n",
            "conjoint probabilities: [[[[[4.0320e-01 0.0000e+00]\n",
            "    [1.0080e-01 0.0000e+00]]\n",
            "\n",
            "   [[1.7280e-02 1.5552e-01]\n",
            "    [4.3200e-03 3.8880e-02]]]\n",
            "\n",
            "\n",
            "  [[[0.0000e+00 0.0000e+00]\n",
            "    [0.0000e+00 5.6000e-02]]\n",
            "\n",
            "   [[0.0000e+00 0.0000e+00]\n",
            "    [0.0000e+00 2.4000e-02]]]]\n",
            "\n",
            "\n",
            "\n",
            " [[[[9.5040e-02 0.0000e+00]\n",
            "    [2.3760e-02 0.0000e+00]]\n",
            "\n",
            "   [[9.6000e-05 8.6400e-04]\n",
            "    [2.4000e-05 2.1600e-04]]]\n",
            "\n",
            "\n",
            "  [[[0.0000e+00 0.0000e+00]\n",
            "    [0.0000e+00 7.9200e-02]]\n",
            "\n",
            "   [[0.0000e+00 0.0000e+00]\n",
            "    [0.0000e+00 8.0000e-04]]]]]\n",
            "conjoint probabilities sum: 1.0\n"
          ]
        }
      ],
      "source": [
        "conjoint_all_prob = Pr_N * Pr_P_given_N * Pr_A_given_N * Pr_W_given_P * Pr_H_given_PA\n",
        "print(f\"Shape of conjoint: {conjoint_all_prob.shape}\")\n",
        "print(f\"conjoint probabilities: {conjoint_all_prob}\")\n",
        "print(f\"conjoint probabilities sum: {conjoint_all_prob.sum()}\")"
      ]
    },
    {
      "cell_type": "markdown",
      "metadata": {
        "id": "f-vXI0O279sX"
      },
      "source": [
        "a) $Pr(H=1)$\n",
        "\n",
        "$$\n",
        "Pr(H=1) = \\sum_{n \\in N} \\sum_{p \\in P} \\sum_{a \\in A} \\sum_{w \\in W} = Pr(N=n, P=p, A=a, W=w, H=1)\n",
        "$$"
      ]
    },
    {
      "cell_type": "code",
      "execution_count": null,
      "metadata": {
        "colab": {
          "base_uri": "https://localhost:8080/"
        },
        "id": "lXWtZDsv791d",
        "outputId": "a3d37193-9d38-4ef0-d209-5ce2815be199"
      },
      "outputs": [
        {
          "name": "stdout",
          "output_type": "stream",
          "text": [
            "Pr(H=1)=0.35548\n"
          ]
        }
      ],
      "source": [
        "p_H = conjoint_all_prob.sum(axis=(0, 1, 2, 3))\n",
        "answer = p_H[1]\n",
        "print(f\"Pr(H=1)={answer:.5f}\")"
      ]
    },
    {
      "cell_type": "markdown",
      "metadata": {
        "id": "k7fla36P79_G"
      },
      "source": [
        "b) $Pr(H=1|A=1)$\n",
        "\n",
        "$$\n",
        "Pr(H=1|A=1) = \\frac{Pr(H=1, A=1)}{Pr(A=1)}\n",
        "$$\n"
      ]
    },
    {
      "cell_type": "code",
      "execution_count": null,
      "metadata": {
        "colab": {
          "base_uri": "https://localhost:8080/"
        },
        "id": "1Jp2AGLa7-H_",
        "outputId": "185887f3-df1f-4f69-c726-d5e134a7daa7"
      },
      "outputs": [
        {
          "name": "stdout",
          "output_type": "stream",
          "text": [
            "Pr(H=1|A=1)=0.91025\n"
          ]
        }
      ],
      "source": [
        "conjoint_H_A = conjoint_all_prob[:, :, 1, :, 1].sum()\n",
        "Pr_A = conjoint_all_prob.sum(axis=(0, 1, 3, 4))\n",
        "answer = conjoint_H_A / Pr_A[1] # TODO\n",
        "print(f\"Pr(H=1|A=1)={answer:.5f}\")"
      ]
    },
    {
      "cell_type": "markdown",
      "metadata": {
        "id": "O8mt03aX7-WC"
      },
      "source": [
        "c) $Pr(H=1|do(A=1))$\n",
        "\n",
        "Given that we intervened on the system, $Pr(H=1|do(A=1)) > Pr(H=1|A=1)$."
      ]
    },
    {
      "cell_type": "code",
      "execution_count": null,
      "metadata": {
        "colab": {
          "base_uri": "https://localhost:8080/"
        },
        "id": "CCxSweb67-dx",
        "outputId": "fdc92706-9eb3-4d4b-907a-decda9c48a33"
      },
      "outputs": [
        {
          "name": "stdout",
          "output_type": "stream",
          "text": [
            "Pr(H=1|do(A=1))=0.91600\n"
          ]
        }
      ],
      "source": [
        "Pr_H_given_P_do_A = np.array([[0.1, 0.9],[0.0, 1.0]]).reshape(1, 2, 1, 1, 2)\n",
        "conjoint_intervention_A = Pr_N * Pr_P_given_N * Pr_W_given_P * Pr_H_given_P_do_A\n",
        "prob = conjoint_intervention_A.sum(axis=(0, 1, 3)) \n",
        "answer = prob.flatten()[1] # TODO\n",
        "print(f\"Pr(H=1|do(A=1))={answer:.5f}\")"
      ]
    },
    {
      "cell_type": "markdown",
      "metadata": {
        "id": "dSK8ulij7-m0"
      },
      "source": [
        "d) $Pr(H=1|W=1)$"
      ]
    },
    {
      "cell_type": "code",
      "execution_count": null,
      "metadata": {
        "colab": {
          "base_uri": "https://localhost:8080/"
        },
        "id": "cliFsd8f7-vC",
        "outputId": "87bd474d-e666-4110-ce6e-74f222c32634"
      },
      "outputs": [
        {
          "name": "stdout",
          "output_type": "stream",
          "text": [
            "Pr(H=1|W=1)=0.60700\n"
          ]
        }
      ],
      "source": [
        "conjoint_H_W = conjoint_all_prob[:, :, :, 1, 1].sum()\n",
        "Pr_W = conjoint_all_prob.sum(axis=(0, 1, 2, 4))\n",
        "answer = conjoint_H_W / Pr_W[1] # TODO\n",
        "print(f\"Pr(H=1|W=1)={answer:.5f}\")"
      ]
    },
    {
      "cell_type": "markdown",
      "metadata": {
        "id": "zffAAOW67-5I"
      },
      "source": [
        "e) $Pr(H=1|do(W=1))$\n",
        "\n",
        "Since intervening on W  from the network is the same as removing because it has no descendents, $Pr(H=1|do(W=1)) = Pr(H=1)$. But we can compute with a intervention by removing $Pr(W|P)$ from the conjoint probability computation. This results in:"
      ]
    },
    {
      "cell_type": "code",
      "execution_count": null,
      "metadata": {
        "colab": {
          "base_uri": "https://localhost:8080/"
        },
        "id": "UUUOo-TNCERq",
        "outputId": "1392a6a7-2bd7-4e73-954c-94d2aed1e008"
      },
      "outputs": [
        {
          "name": "stdout",
          "output_type": "stream",
          "text": [
            "Pr(H=1|do(W=1))=0.35548\n"
          ]
        }
      ],
      "source": [
        "conjoint_no_W = Pr_N * Pr_P_given_N * Pr_A_given_N * Pr_H_given_PA\n",
        "prob = conjoint_no_W.sum(axis=(0, 1, 2)).flatten()\n",
        "answer = prob[1]\n",
        "print(f\"Pr(H=1|do(W=1))={answer:.5f}\")"
      ]
    },
    {
      "cell_type": "markdown",
      "metadata": {
        "id": "PeIkZjn47_LZ"
      },
      "source": [
        "f) $Pr(W=1|P=1)$"
      ]
    },
    {
      "cell_type": "code",
      "execution_count": null,
      "metadata": {
        "colab": {
          "base_uri": "https://localhost:8080/"
        },
        "id": "Yscy5bf27_Sq",
        "outputId": "278a1aca-28b7-46a5-b786-007f1e0346e5"
      },
      "outputs": [
        {
          "name": "stdout",
          "output_type": "stream",
          "text": [
            "Pr(W=1|P=1)=1.00000\n"
          ]
        }
      ],
      "source": [
        "conjoint_W_P = conjoint_all_prob[:, 1, :, 1, :].sum()\n",
        "Pr_P =  conjoint_all_prob.sum(axis=(0, 2, 3, 4))\n",
        "answer = conjoint_W_P / Pr_P[1] # TODO\n",
        "print(f\"Pr(W=1|P=1)={answer:.5f}\")"
      ]
    },
    {
      "cell_type": "markdown",
      "metadata": {
        "id": "XbV8cFjU8TxQ"
      },
      "source": [
        "g) $Pr(W=1|do(P=1))$\n",
        "\n",
        "Since $ W \\perp\\!\\!\\!\\perp \\text{pa}(P)~|~P$ is true, $Pr(W=1|do(P=1)) = Pr(W=1|P=1)$"
      ]
    },
    {
      "cell_type": "code",
      "execution_count": null,
      "metadata": {
        "colab": {
          "base_uri": "https://localhost:8080/"
        },
        "id": "7jBgoNDz8T6z",
        "outputId": "f26a8850-8f6d-437d-ce8f-c0c618007ef1"
      },
      "outputs": [
        {
          "name": "stdout",
          "output_type": "stream",
          "text": [
            "Pr(W=1|do(P=1))=1.00000\n"
          ]
        }
      ],
      "source": [
        "conjoint_W_P = conjoint_all_prob[:, 1, :, 1, :].sum()\n",
        "Pr_P =  conjoint_all_prob.sum(axis=(0, 2, 3, 4))\n",
        "answer = conjoint_W_P / Pr_P[1] # TODO\n",
        "print(f\"Pr(W=1|do(P=1))={answer:.5f}\")"
      ]
    },
    {
      "cell_type": "markdown",
      "metadata": {
        "id": "05xm-VaW8UQh"
      },
      "source": [
        "h) $Pr(H=1|P=1)$ "
      ]
    },
    {
      "cell_type": "code",
      "execution_count": null,
      "metadata": {
        "colab": {
          "base_uri": "https://localhost:8080/"
        },
        "id": "shjD8GIL8UZV",
        "outputId": "9dba8c55-0dbb-4760-b033-df291e1c80f5"
      },
      "outputs": [
        {
          "name": "stdout",
          "output_type": "stream",
          "text": [
            "Pr(H=1|P=1)=1.00000\n"
          ]
        }
      ],
      "source": [
        "conjoint_H_P = conjoint_all_prob[:, 1, :, :, 1].sum()\n",
        "answer = conjoint_H_P / Pr_P[1] # TODO\n",
        "print(f\"Pr(H=1|P=1)={answer:.5f}\")"
      ]
    },
    {
      "cell_type": "markdown",
      "metadata": {
        "id": "9i2ahKAj8Umu"
      },
      "source": [
        "i) $Pr(H=1|do(P=1))$\n",
        "\n",
        "Given that we intervened on the system and made it rain, the probability that  Holmes' garden is wet is of 100%. Also, by intervening on P, W is disconnected from the graph and is disconsidered when calculating the conjoint probability of the model."
      ]
    },
    {
      "cell_type": "code",
      "execution_count": null,
      "metadata": {
        "colab": {
          "base_uri": "https://localhost:8080/"
        },
        "id": "2nLKd4c18UuA",
        "outputId": "3ce78ef2-bd01-4e48-dac9-6c7e1809e17c"
      },
      "outputs": [
        {
          "name": "stdout",
          "output_type": "stream",
          "text": [
            "Pr(H=1|do(P=1))=1.00000\n"
          ]
        }
      ],
      "source": [
        "Pr_H_given_A_do_P = np.array([[0.0, 1.0],[0.0, 1.0]]).reshape(1, 1, 2, 1, 2)\n",
        "\n",
        "conjoint_intervention_P = Pr_N * Pr_A_given_N * Pr_H_given_A_do_P\n",
        "prob = conjoint_intervention_P.sum(axis=(0, 2))\n",
        "answer = prob.flatten()[1]\n",
        "print(f\"Pr(H=1|do(P=1))={answer:.5f}\")"
      ]
    },
    {
      "cell_type": "markdown",
      "metadata": {
        "id": "iUc0EpO18eA-"
      },
      "source": [
        "j) $Pr(P=1|W=1,H=1,N=1)$"
      ]
    },
    {
      "cell_type": "code",
      "execution_count": null,
      "metadata": {
        "colab": {
          "base_uri": "https://localhost:8080/"
        },
        "id": "mgDLu0nJ8eM2",
        "outputId": "134b335e-4ba6-404e-f188-913f463fb1d5"
      },
      "outputs": [
        {
          "name": "stdout",
          "output_type": "stream",
          "text": [
            "Pr(P=1|W=1,H=1,N=1)=0.50000\n"
          ]
        }
      ],
      "source": [
        "conjoint_P_W_H_N = conjoint_all_prob[1, 1, :, 1, 1].sum()\n",
        "conjoint_W_H_N = conjoint_all_prob[:, 1, :, 1, 1].sum()\n",
        "answer = conjoint_P_W_H_N / conjoint_W_H_N # TODO\n",
        "print(f\"Pr(P=1|W=1,H=1,N=1)={answer:.5f}\")"
      ]
    },
    {
      "cell_type": "markdown",
      "metadata": {
        "id": "WTRdYkHfGqDu"
      },
      "source": [
        "## 3. Répondez aux questions suivantes et expliquez\n",
        "\n",
        "### a) Vrai ou Faux:\n",
        "\n",
        "#### i) $H \\perp\\!\\!\\!\\perp N \\, | \\, P \\quad$ ?\n",
        "\n",
        "#### ii) $H \\perp\\!\\!\\!\\perp N \\, | \\, A \\quad$ ?\n",
        "\n",
        "#### iii) $W \\perp\\!\\!\\!\\perp H \\, | \\, P \\quad$ ?\n",
        "\n",
        "#### iv) $P \\perp\\!\\!\\!\\perp A \\, | \\, N \\quad$ ?\n",
        "\n",
        "#### v) $P \\perp\\!\\!\\!\\perp A \\, | \\, N, H \\quad$ ?\n",
        "\n",
        "#### vi) $H \\perp\\!\\!\\!\\perp N \\, | \\, A \\quad$ ?"
      ]
    },
    {
      "cell_type": "markdown",
      "metadata": {
        "id": "cpoOrxiaHV43"
      },
      "source": [
        "**Réponse:**\n",
        "\n",
        "#### i) $H \\perp\\!\\!\\!\\perp N \\, | \\, P \\quad$\n",
        "True, because H is conditionally independent from N given P because P is in the markov blanket of H.\n",
        "\n",
        "\n",
        "#### ii) $H \\perp\\!\\!\\!\\perp N \\, | \\, A \\quad$\n",
        "\n",
        "True, because H is conditionally independent from N given A because A is in the markov blanket of H.\n",
        "\n",
        "#### iii) $W \\perp\\!\\!\\!\\perp H \\, | \\, P \\quad$\n",
        "True, because W and H are d-separated by P when P is observed. Hence, W and H meets P in a tail-to-tail connection, therefore the path is blocked and the statement is true.\n",
        "\n",
        "#### iv) $P \\perp\\!\\!\\!\\perp A \\, | \\, N \\quad$\n",
        "True, because P and A are d-separated by N when N is observed. Hence, P and A meets N in a tail-to-tail connection, therefore the path is blocked and the statement is true.\n",
        "\n",
        "#### v) $P \\perp\\!\\!\\!\\perp A \\, | \\, N, H \\quad$\n",
        "False, because even though P and A meets N in a tail-to-tail connection, the connection meets head-to-head in H while H is a descendant of both P and A. Hence, the path is not blocked and the statement is False.\n",
        "\n",
        "#### vi) $H \\perp\\!\\!\\!\\perp N \\, | \\, A \\quad$\n",
        "True, because H and N meets head-to-tail on A and are D-Separated. Therefore, the path is blocked and the statement is True."
      ]
    },
    {
      "cell_type": "markdown",
      "metadata": {
        "id": "upu-oX3L-ObO"
      },
      "source": [
        "### b) Expliquez:\n",
        "\n",
        "#### i) Pourquoi est-ce que $Pr(W|P)=Pr(W|do(P))$ ?\n",
        "\n",
        "\n",
        "#### ii) Pourquoi est-ce que $Pr(H|A)\\neq Pr(H|do(A))$ ?"
      ]
    },
    {
      "cell_type": "markdown",
      "metadata": {
        "id": "N8Xe81T4-OtR"
      },
      "source": [
        "**Réponse:**\n",
        "\n",
        "i) According to the following condition:\n",
        "\n",
        "$$\n",
        "Pr(W|do(P)) = P(W|P) \\quad \\text{if}\\quad W \\perp\\!\\!\\!\\perp \\text{pa}(P)~|~P\n",
        "$$\n",
        "\n",
        "The statement in question  is true if W is conditionally independent from the only parent of P, which is A, so:\n",
        "\n",
        "$$\n",
        "Pr(W|do(P)) = P(W|P) \\quad \\text{if}\\quad W \\perp\\!\\!\\!\\perp N~|~P\n",
        "$$\n",
        "\n",
        "Therefore, $W \\perp\\!\\!\\!\\perp N~|~P$ is true because W and N meets head-to-tail on P, so they are d-separated. And since $W \\perp\\!\\!\\!\\perp N~|~P$ is true, $Pr(W|do(P)) = P(W|P)$ is also true.\n",
        "\n",
        "\n",
        "\n",
        "ii) Now, \n",
        "$$\n",
        "Pr(H|do(A)) = P(H|A) \\quad \\text{if}\\quad H \\perp\\!\\!\\!\\perp N~|~A\n",
        "$$\n",
        "\n",
        "Even though that $H \\perp\\!\\!\\!\\perp N~|~A$ is true, we have the 2 paths  connecting H to A ($H ← A ← N$ and $H ← P ← N$) so the initial statement cannot be true because we sholoud consider all possible shortest paths. To corroborate, the statement i) contains only one path connecting W to N, therefore the condition of D-Separation in that case is true.\n"
      ]
    },
    {
      "cell_type": "markdown",
      "metadata": {
        "id": "fqfqhDoL5CfA"
      },
      "source": [
        "# Partie 2 (20 points)"
      ]
    },
    {
      "cell_type": "markdown",
      "metadata": {
        "id": "ZjIVlyRq5CjA"
      },
      "source": [
        "## Objectif\n",
        "\n",
        "L’objectif de la partie 2 du travail pratique est de permettre à l’étudiant de se familiariser avec l’apprentissage automatique via la régression logistique. Nous allons donc résoudre un problème de classification d'images en utilisant l’approche de descente du gradient (gradient descent) pour optimiser la log-vraisemblance négative (negative log-likelihood) comme fonction de perte.\n",
        "\n",
        "L'algorithme à implémenter est une variation de descente de gradient qui s’appelle l’algorithme de descente de gradient stochastique par mini-ensemble (mini-batch stochastic gradient descent).  Votre objectif est d’écrire un programme en Python pour optimiser les paramètres d’un modèle étant donné un ensemble de données d’apprentissage, en utilisant un ensemble de validation pour déterminer quand arrêter l'optimisation, et finalement de montrer la performance sur l’ensemble du test."
      ]
    },
    {
      "cell_type": "markdown",
      "metadata": {
        "id": "vFxYYRQJ5Cnb"
      },
      "source": [
        "## Théorie: la régression logistique et le calcul du gradient\n",
        "Il est possible d’encoder l’information concernant l’étiquetage avec des vecteurs multinomiaux (one-hot vectors), c.-à-d. un vecteur de zéros avec un seul 1 pour indiquer quand la classe $C=k$ dans la dimension $k$. Par exemple, le vecteur $\\mathbf{y}=[0, 1, 0, \\cdots, 0]^T$ représente la deuxième classe. Les caractéristiques (features) sont données par des vecteurs $\\mathbf{x}_i \\in \\mathbb{R}^{D}$. En définissant les paramètres de notre modèle comme : $\\mathbf{W}=[\\mathbf{w}_1, \\cdots, \\mathbf{w}_K]^T$ et $\\mathbf{b}=[b_1, b_2, \\cdots  b_K]^T$ et la fonction softmax comme fonction de sortie, on peut exprimer notre modèle sous la forme :\n",
        "\\begin{eqnarray}\n",
        "    p(\\mathbf{y}|\\mathbf{x}) \n",
        "    &=& \\frac{\\exp(\\mathbf{y}^T \\mathbf{W} \\mathbf{x} + \\mathbf{y}^T \\mathbf{b})}{\\sum_{\\mathbf{y}_k \\in \\mathcal{Y}} \\exp(\\mathbf{y}_k^T \\mathbf{W} \\mathbf{x} + \\mathbf{y}_k^T \\mathbf{b})} \n",
        "\\end{eqnarray}\n",
        "L'ensemble de données consiste de $n$ paires (label, input) de la forme $\\mathcal{D}:=(\\mathbf{\\tilde{y}}_i, \\mathbf{\\tilde{x}}_i)_{i=1}^n$, où nous utilisons l'astuce de redéfinir $\\mathbf{\\tilde{x}}_i = [\\mathbf{\\tilde{x}}_i^T 1]^T$ et nous redéfinissions la matrice de paramètres $\\boldsymbol{\\theta} \\in \\mathbb{R}^{K\\times(D+1)}$ (voir des notes de cours pour la relation entre $\\boldsymbol{\\theta}$ et $\\mathbf{W}$). Notre fonction de perte, la log-vraisemblance négative des données selon notre modèle est définie comme:\n",
        "\\begin{equation}\n",
        "    \\mathcal{L}\\big( \\boldsymbol{\\theta}, \\mathcal{D} \\big) := -\\log \\prod_{i=1}^N P(\\mathbf{\\tilde{y}}_i|\\mathbf{\\tilde{x}}_i; \\boldsymbol{\\theta})\n",
        "\\end{equation}\n",
        "Pour cette partie du TP, nous avons calculé pour vous le gradient de la fonction de perte par rapport par rapport aux paramètres du modèle:\n",
        "\\begin{eqnarray}\n",
        "    \\frac{\\partial}{\\partial \\boldsymbol{\\theta}} \\mathcal{L}\\big( \\boldsymbol{\\theta}, \\mathcal{D} \\big) \n",
        "    &=& -\\sum_{i=1}^N \\frac{\\partial}{\\partial \\boldsymbol{\\theta}} \\Bigg\\{\\log \\Bigg(\\frac{\\exp(\\mathbf{\\tilde{y}}_i^T \\boldsymbol{\\theta} \\mathbf{\\tilde{x}}_i)}{\\sum_{\\mathbf{y}_k \\in \\mathcal{Y}} \\exp(\\mathbf{y}_k^T \\boldsymbol{\\theta} \\mathbf{\\tilde{x}}_i)} \\Bigg) \\Bigg\\} \\\\\n",
        "    &=& -\\sum_{i=1}^N \\left(\\mathbf{\\tilde{y}}_i \\mathbf{\\tilde{x}}^T_i- \\sum_{\\mathbf{y}_k \\in \\mathcal{Y}} P(\\mathbf{y}_k|\\mathbf{\\tilde{x}}_i,\\boldsymbol{\\theta}) \\mathbf{y}_k \\mathbf{\\tilde{x}}^T_i \\right) \\\\\n",
        "    &=& \\sum_{i=1}^N \\mathbf{\\hat{p}}_i \\mathbf{\\tilde{x}}^T_i - \\sum_{i=1}^N \\mathbf{\\tilde{y}}_i \\mathbf{\\tilde{x}}^T_i\n",
        "\\end{eqnarray}\n",
        "où $\\mathbf{\\hat{p}}_i$ est un vecteur de probabilités produit par le modèle pour l'exemple $\\mathbf{\\tilde{x}}_i$ et $\\mathbf{\\tilde{y}}_i$ est le vrai *label* pour ce même exemple.\n",
        "\n",
        "Finalement, il reste à discuter de l'évaluation du modèle. Pour la tâche d'intérêt, qui est une instance du problème de classification, il existe plusieurs métriques pour mesurer les performances du modèle la précision de classification, l'erreur de classification, le taux de faux/vrai positifs/négatifs, etc. Habituellement dans le contexte de l'apprentissage automatique, la précision est la plus commune.\n",
        "\n",
        "La précision est définie comme le rapport du nombre d'échantillons bien classés sur le nombre total d'échantillons à classer:\n",
        "$$\n",
        "\\tau_{acc} := \\frac{|\\mathcal{C}|}{|\\mathcal{D}|} \n",
        "$$\n",
        "où l'ensemble des échantillons bien classés $\\mathcal{C}$ est:\n",
        "$$\n",
        "\\mathcal{C} := \\lbrace (\\mathbf{x}, \\mathbf{y}) \\in \\mathcal{D} \\, | \\, \\underset{k}{\\arg\\max} \\, \\, P(\\cdot|\\mathbf{\\tilde{x}}_i; \\boldsymbol{\\theta})_k = \\underset{k}{\\arg\\max} \\, \\, \\tilde{y}_{i,k} \\rbrace\n",
        "$$ \n",
        "En mots, il s'agit du sous-ensemble d'échantillons pour lesquels la classe la plus probable selon notre modèle correspond à la vraie classe."
      ]
    },
    {
      "cell_type": "markdown",
      "metadata": {
        "id": "x3wjjnIDGHZj"
      },
      "source": [
        "## Description des tâches\n",
        "\n",
        "#### 1. Code à compléter\n",
        "\n",
        "On vous demande de compléter l'extrait de code ci-dessous pour résoudre ce problème. Vous devez utiliser la librairie PyTorch cette partie du TP: https://pytorch.org/docs/stable/index.html. Mettez à jour les paramètres de votre modèle avec la descente par *mini-batch*. Exécutez des expériences avec trois différents ensembles: un ensemble d’apprentissages avec 90\\% des exemples (choisis au hasard), un ensemble de validation avec 10\\%. Utilisez uniquement l'ensemble de test pour obtenir votre meilleur résultat une fois que vous pensez avoir obtenu votre meilleure stratégie pour entraîner le modèle.\n",
        "\n",
        "#### 2. Rapport à rédiger\n",
        "\n",
        "Présentez vos résultats dans un rapport. Ce rapport devrait inclure:\n",
        "\n",
        "- **Recherche d'hyperparamètres:** Faites une recherche d'hyperparamètres pour différents taux d'apprentissage, e.g. 0.1, 0.01, 0.001, et différentes tailles de mini-batch, e.g. 1, 20, 200, 1000 pour des modèles entrainés avec SGD. Présentez dans un tableau la précision finale du modèle, sur l'*ensemble de validation*, pour ces différentes combinaisons d'hyperparamètres.\n",
        "\n",
        "- **Analyse du meilleur modèle:** Pour votre meilleur modèle, présentez deux figures montrant la progression de son apprentissage sur l'*ensembe d'entrainement et l'ensemble de validation*. La première figure montrant les courbes de log-vraisemblance négative moyenne après chaque epoch, la deuxième montrant la précision du modèle après chaque epoch. Finalement donnez la précision finale sur l'ensemble de test.\n",
        "\n",
        "- Lire l'article de recherche -\n",
        "Adam: a method for stochastic optimization. Kingma, D., \\& Ba, J. (2015). International Conference on Learning Representation (ICLR). \n",
        "https://arxiv.org/pdf/1412.6980.pdf. Implémentez Adam, répétez les deux étapes précédentes (recherche d'hyperparamètres et analyse du meilleur modèle) cette fois en utilisat Adam, et comparez les performances finales avec votre meilleur modèle SGD.\n",
        "\n",
        "**IMPORTANT**\n",
        "\n",
        "L'objectif du TP est de vous faire implémenter la rétropropagation à la main. **Il est donc interdit d'utiliser les capacités de construction de modèles ou de différentiation automatique de pytorch -- par exemple, aucun appels à torch.nn, torch.autograd ou à la méthode .backward().** L'objectif est d'implémenter un modèle de classification logistique ainsi que son entainement en utilisant uniquement des opérations matricielles de base fournies par PyTorch e.g. torch.sum(), torch.matmul(), etc."
      ]
    },
    {
      "cell_type": "markdown",
      "metadata": {
        "id": "oQq0nDgZuMfs"
      },
      "source": [
        "## Fonctions fournies"
      ]
    },
    {
      "cell_type": "code",
      "execution_count": null,
      "metadata": {
        "colab": {
          "base_uri": "https://localhost:8080/",
          "height": 437,
          "referenced_widgets": [
            "cbb345605220469f966eb620b0426173",
            "55375916a9ed46bd813efd4694eace8e",
            "1983031f418c4beaaa791874a2927e73",
            "7cfe89c6efc7412da16b8cbc8b8897b7",
            "f4dc1286fd2f4d5bb17f11bd727ee534",
            "1b603344d5ed4ef0b205f5326fd8bae5",
            "6daf2c34de3b4db49ffecb71f05a1688",
            "4db2dad5b0b14b669cd36c7d7b237522",
            "e7fb08fea8a64c9eb204ed23e644f481",
            "9d08a1abfff240939080034f186fe1e3",
            "6ef57f3f7a2d4caa91c7bec900b38ba0",
            "04cc131326eb4db8945cc30b5d58bd2d",
            "bd8627c6cf4f4f21b0b620c8b609bb20",
            "beebb061f4bd442cbf5d61ecec20dd9b",
            "e5f0a696d5d845be8d927c1ab9c8fc13",
            "4b9ef873821e445ab8546760faf42128",
            "9653eb125c814ab5a0cb602fdc9306d2",
            "cfe31ce168b54d3781c6bc64cafa50b1",
            "55846f1dd4994c099631735d05c2458f",
            "d489c9fa97824eafbbd4c3d1c51516cf",
            "2fa079f83e80401b93d4bd0b85fa0b85",
            "6f8b335564b343a8b1f0223abf080e1f",
            "0a566b4048184b1395b0a49cc419df23",
            "3c2e4152bbf54ee7ae4faf87d4e51993",
            "e1d91d18e270450f9829656c6cfe975a",
            "02c6587df53d4c77bf07ff250dd0fcf1",
            "2b3abb4a43a14ca9a71ef981ee075462",
            "5e89faa01aa640c4be1351f7ee3a561d",
            "57a33110e07a4650b291d2e1d0dcb185",
            "a372d3a1adb54b6a9bc5f753d7c661dc",
            "acfae2c518e24f4f86003f6ef24e4dab",
            "68ae699027ab4bcf9e295fdbe686937d",
            "e9e667a4ad214fb585b12c46116a1f80",
            "9e22c227e8164df996a876ef02f0f6c9",
            "c8c25989968145519eed897124068dd9",
            "15b181b8b19f480ca55dcaad7834a9e7",
            "47ab3d494323438388c29a18d0f04464",
            "68b809b0c4104c0190c695c297d4aa36",
            "ff56d66f54e64d4a889a15f686f4cd78",
            "aeb79ab8f7334b57b16c9b9b7464d014",
            "feeadc77e7b045888ad147be930bd1fe",
            "757d1992e8fe41a2bb72e6bb9930fbbb",
            "e1abb939c50c4dfc92e6d813efdc7cc6",
            "bab33aa5af6e49f1bf58913d666e84fb"
          ]
        },
        "id": "-U_jhXT_0Cbs",
        "outputId": "2667eed4-c3b3-4c2b-f347-31aadb3513dd"
      },
      "outputs": [
        {
          "name": "stdout",
          "output_type": "stream",
          "text": [
            "Downloading http://fashion-mnist.s3-website.eu-central-1.amazonaws.com/train-images-idx3-ubyte.gz\n",
            "Downloading http://fashion-mnist.s3-website.eu-central-1.amazonaws.com/train-images-idx3-ubyte.gz to ./dataset/FashionMNIST/raw/train-images-idx3-ubyte.gz\n"
          ]
        },
        {
          "data": {
            "application/vnd.jupyter.widget-view+json": {
              "model_id": "cbb345605220469f966eb620b0426173",
              "version_major": 2,
              "version_minor": 0
            },
            "text/plain": [
              "  0%|          | 0/26421880 [00:00<?, ?it/s]"
            ]
          },
          "metadata": {},
          "output_type": "display_data"
        },
        {
          "name": "stdout",
          "output_type": "stream",
          "text": [
            "Extracting ./dataset/FashionMNIST/raw/train-images-idx3-ubyte.gz to ./dataset/FashionMNIST/raw\n",
            "\n",
            "Downloading http://fashion-mnist.s3-website.eu-central-1.amazonaws.com/train-labels-idx1-ubyte.gz\n",
            "Downloading http://fashion-mnist.s3-website.eu-central-1.amazonaws.com/train-labels-idx1-ubyte.gz to ./dataset/FashionMNIST/raw/train-labels-idx1-ubyte.gz\n"
          ]
        },
        {
          "data": {
            "application/vnd.jupyter.widget-view+json": {
              "model_id": "04cc131326eb4db8945cc30b5d58bd2d",
              "version_major": 2,
              "version_minor": 0
            },
            "text/plain": [
              "  0%|          | 0/29515 [00:00<?, ?it/s]"
            ]
          },
          "metadata": {},
          "output_type": "display_data"
        },
        {
          "name": "stdout",
          "output_type": "stream",
          "text": [
            "Extracting ./dataset/FashionMNIST/raw/train-labels-idx1-ubyte.gz to ./dataset/FashionMNIST/raw\n",
            "\n",
            "Downloading http://fashion-mnist.s3-website.eu-central-1.amazonaws.com/t10k-images-idx3-ubyte.gz\n",
            "Downloading http://fashion-mnist.s3-website.eu-central-1.amazonaws.com/t10k-images-idx3-ubyte.gz to ./dataset/FashionMNIST/raw/t10k-images-idx3-ubyte.gz\n"
          ]
        },
        {
          "data": {
            "application/vnd.jupyter.widget-view+json": {
              "model_id": "0a566b4048184b1395b0a49cc419df23",
              "version_major": 2,
              "version_minor": 0
            },
            "text/plain": [
              "  0%|          | 0/4422102 [00:00<?, ?it/s]"
            ]
          },
          "metadata": {},
          "output_type": "display_data"
        },
        {
          "name": "stdout",
          "output_type": "stream",
          "text": [
            "Extracting ./dataset/FashionMNIST/raw/t10k-images-idx3-ubyte.gz to ./dataset/FashionMNIST/raw\n",
            "\n",
            "Downloading http://fashion-mnist.s3-website.eu-central-1.amazonaws.com/t10k-labels-idx1-ubyte.gz\n",
            "Downloading http://fashion-mnist.s3-website.eu-central-1.amazonaws.com/t10k-labels-idx1-ubyte.gz to ./dataset/FashionMNIST/raw/t10k-labels-idx1-ubyte.gz\n"
          ]
        },
        {
          "data": {
            "application/vnd.jupyter.widget-view+json": {
              "model_id": "9e22c227e8164df996a876ef02f0f6c9",
              "version_major": 2,
              "version_minor": 0
            },
            "text/plain": [
              "  0%|          | 0/5148 [00:00<?, ?it/s]"
            ]
          },
          "metadata": {},
          "output_type": "display_data"
        },
        {
          "name": "stdout",
          "output_type": "stream",
          "text": [
            "Extracting ./dataset/FashionMNIST/raw/t10k-labels-idx1-ubyte.gz to ./dataset/FashionMNIST/raw\n",
            "\n"
          ]
        }
      ],
      "source": [
        "# fonctions pour charger les ensembles de donnees\n",
        "from torchvision.datasets import FashionMNIST\n",
        "from torchvision import transforms\n",
        "import torch\n",
        "from torch.utils.data import DataLoader, random_split\n",
        "from tqdm import tqdm\n",
        "import matplotlib.pyplot as plt\n",
        "\n",
        "def get_fashion_mnist_dataloaders(val_percentage=0.1, batch_size=1):\n",
        "  dataset = FashionMNIST(\"./dataset\", train=True,  download=True, transform=transforms.Compose([transforms.ToTensor()]))\n",
        "  dataset_test = FashionMNIST(\"./dataset\", train=False,  download=True, transform=transforms.Compose([transforms.ToTensor()]))\n",
        "  len_train = int(len(dataset) * (1.-val_percentage))\n",
        "  len_val = len(dataset) - len_train\n",
        "  dataset_train, dataset_val = random_split(dataset, [len_train, len_val])\n",
        "  data_loader_train = DataLoader(dataset_train, batch_size=batch_size,shuffle=True,num_workers=0)\n",
        "  data_loader_val   = DataLoader(dataset_val, batch_size=batch_size,shuffle=True,num_workers=0)\n",
        "  data_loader_test  = DataLoader(dataset_test, batch_size=batch_size,shuffle=True,num_workers=0)\n",
        "  return data_loader_train, data_loader_val, data_loader_test\n",
        "\n",
        "def reshape_input(x, y):\n",
        "    x = x.view(-1, 784)\n",
        "    y = torch.FloatTensor(len(y), 10).zero_().scatter_(1,y.view(-1,1),1)\n",
        "    return x, y\n",
        "    \n",
        "\n",
        "# call this once first to download the datasets\n",
        "_ = get_fashion_mnist_dataloaders()"
      ]
    },
    {
      "cell_type": "code",
      "execution_count": null,
      "metadata": {
        "id": "9H5BnbgAOpio"
      },
      "outputs": [],
      "source": [
        "# simple logger to track progress during training\n",
        "class Logger:\n",
        "    def __init__(self):\n",
        "        self.losses_train = []\n",
        "        self.losses_valid = []\n",
        "        self.accuracies_train = []\n",
        "        self.accuracies_valid = []\n",
        "\n",
        "    def log(self, accuracy_train=0, loss_train=0, accuracy_valid=0, loss_valid=0):\n",
        "        self.losses_train.append(loss_train)\n",
        "        self.accuracies_train.append(accuracy_train)\n",
        "        self.losses_valid.append(loss_valid)\n",
        "        self.accuracies_valid.append(accuracy_valid)\n",
        "\n",
        "    def plot_loss_and_accuracy(self, train=True, valid=True):\n",
        "\n",
        "        assert train and valid, \"Cannot plot accuracy because neither train nor valid.\"\n",
        "\n",
        "        figure, (ax1, ax2) = plt.subplots(nrows=1, ncols=2,\n",
        "                                            figsize=(12, 6))\n",
        "        \n",
        "        if train:\n",
        "            ax1.plot(self.losses_train, label=\"Training\")\n",
        "            ax2.plot(self.accuracies_train, label=\"Training\")\n",
        "        if valid:\n",
        "            ax1.plot(self.losses_valid, label=\"Validation\")\n",
        "            ax1.set_title(\"CrossEntropy Loss\")\n",
        "            ax2.plot(self.accuracies_valid, label=\"Validation\")\n",
        "            ax2.set_title(\"Accuracy\")\n",
        "        \n",
        "        for ax in figure.axes:\n",
        "            ax.set_xlabel(\"Epoch\")\n",
        "            ax.legend(loc='best')\n",
        "            ax.set_axisbelow(True)\n",
        "            ax.minorticks_on()\n",
        "            ax.grid(True, which=\"major\", linestyle='-')\n",
        "            ax.grid(True, which=\"minor\", linestyle='--', color='lightgrey', alpha=.4)            \n",
        "  \n",
        "    def print_last(self):\n",
        "        print(f\"Epoch {len(self.losses_train):2d}, \\\n",
        "                Train:loss={self.losses_train[-1]:.3f}, accuracy={self.accuracies_train[-1]*100:.1f}%, \\\n",
        "                Valid: loss={self.losses_valid[-1]:.3f}, accuracy={self.losses_valid[-1]*100:.1f}%\", flush=True)"
      ]
    },
    {
      "cell_type": "markdown",
      "metadata": {
        "id": "vAJ5iiRUZw3f"
      },
      "source": [
        "## Aperçu de l'ensemble de données FashionMnist"
      ]
    },
    {
      "cell_type": "code",
      "execution_count": null,
      "metadata": {
        "colab": {
          "base_uri": "https://localhost:8080/",
          "height": 278
        },
        "id": "fK-eNmc8Zv2d",
        "outputId": "c30d4b75-5494-4912-f4af-a3f137cc1792"
      },
      "outputs": [
        {
          "data": {
            "image/png": "[encoded data removed]",
            "text/plain": [
              "<Figure size 540x288 with 10 Axes>"
            ]
          },
          "metadata": {
            "needs_background": "light"
          },
          "output_type": "display_data"
        }
      ],
      "source": [
        "def plot_samples():\n",
        "    a, _, _ = get_fashion_mnist_dataloaders()\n",
        "    num_row = 2\n",
        "    num_col = 5# plot images\n",
        "    num_images = num_row * num_col\n",
        "    fig, axes = plt.subplots(num_row, num_col, figsize=(1.5*num_col,2*num_row))\n",
        "    for i, (x,y) in enumerate(a):\n",
        "        if i >= num_images:\n",
        "            break\n",
        "        ax = axes[i//num_col, i%num_col]\n",
        "        x = (x.numpy().squeeze() * 255).astype(int)\n",
        "        y = y.numpy()[0]\n",
        "        ax.imshow(x, cmap='gray')\n",
        "        ax.set_title(f\"Label: {y}\")\n",
        "      \n",
        "    plt.tight_layout()\n",
        "    plt.show()\n",
        "plot_samples()"
      ]
    },
    {
      "cell_type": "markdown",
      "metadata": {
        "id": "EpZ8NK8_CAqW"
      },
      "source": [
        "## Fonctions à compléter"
      ]
    },
    {
      "cell_type": "code",
      "execution_count": null,
      "metadata": {
        "id": "VSc19WnyQsFv"
      },
      "outputs": [],
      "source": [
        "import numpy as np\n",
        "def accuracy(y, y_pred) :\n",
        "    card_D = y.shape[0] # provavelmente vou mudar isso pq eh softmax\n",
        " \n",
        "    card_C = torch.sum(torch.argmax(y_pred, 1) == torch.argmax(y, 1))\n",
        "    \n",
        "    \n",
        "    acc = card_C / card_D\n",
        "    return acc, (card_C, card_D)\n",
        "\n",
        "def accuracy_and_loss_whole_dataset(data_loader, model):\n",
        "    cardinal = 0\n",
        "    loss     = 0.\n",
        "    n_accurate_preds  = 0.\n",
        "\n",
        "    for x, y in data_loader:\n",
        "        x, y = reshape_input(x, y)\n",
        "        y_pred                = model.forward(x)\n",
        "        xentrp                = cross_entropy(y, y_pred)\n",
        "        _, (n_acc, n_samples) = accuracy(y, y_pred)\n",
        "        cardinal = cardinal + n_samples\n",
        "        loss     = loss + xentrp\n",
        "        n_accurate_preds  = n_accurate_preds + n_acc\n",
        "\n",
        "    loss = loss / float(cardinal)\n",
        "    acc  = n_accurate_preds / float(cardinal)\n",
        "\n",
        "    return acc, loss\n",
        "\n",
        "def cross_entropy(y, y_pred):\n",
        "    xentrp = y*torch.log(y_pred + 1e-8)\n",
        "    loss = -torch.sum(xentrp)\n",
        "    return loss\n",
        "\n",
        "def sigmoid(x,):\n",
        "    return 1 / (1 + torch.exp(-x))\n",
        "\n",
        "def softmax(x, axis=-1):\n",
        "    # assurez vous que la fonction est numeriquement stable\n",
        "    # e.g. softmax(np.array([1000, 10000, 100000], ndim=2))\n",
        "    max = torch.max(x, dim=1)\n",
        "    max = max.values.unsqueeze(1)\n",
        "    num = torch.exp(x - max)\n",
        "    den = num.sum(axis=1).unsqueeze(1)\n",
        "    return num / den\n",
        "  \n",
        "def inputs_tilde(x, axis=-1):\n",
        "    # augments the inputs `x` with ones along `axis`\n",
        "    ones = torch.ones(x.shape[0], 1)\n",
        "    x_tilde = torch.hstack([x, ones])\n",
        "    return x_tilde"
      ]
    },
    {
      "cell_type": "code",
      "execution_count": null,
      "metadata": {
        "id": "ya7J-i89GHnp"
      },
      "outputs": [],
      "source": [
        "class LinearModel:\n",
        "    def __init__(self, num_features, num_classes):\n",
        "        self.params = torch.normal(0, 0.01, (num_features + 1, num_classes))\n",
        "        self.t = 0 \n",
        "        self.m_t = 0 # pour Adam: moyennes mobiles du gradient\n",
        "        self.v_t = 0 # pour Adam: moyennes mobiles du carré du gradient\n",
        "        \n",
        "    def forward(self, x):\n",
        "        inputs = inputs_tilde(x)\n",
        "        outputs = inputs @ self.params\n",
        "        outputs = softmax(outputs)\n",
        "        return outputs\n",
        "\n",
        "    def get_grads(self, y, y_pred, X): \n",
        "        # mini-batched gradient calculation\n",
        "        X = inputs_tilde(X)\n",
        "        X_transposed = X.transpose(0, 1)\n",
        "        grads = X_transposed @ (y_pred - y)\n",
        "        return grads\n",
        "\n",
        "    def sgd_update(self, lr, grads):\n",
        "        self.params = self.params - lr*grads\n",
        "        pass\n",
        "\n",
        "    \n",
        "    def adam_update(self, lr, grads):\n",
        "        self.t += 1\n",
        "        beta_1 = 0.9\n",
        "        beta_2 = 0.999\n",
        "        epsilon = 1e-8\n",
        "        m_t_prev = self.m_t\n",
        "        v_t_prev = self.v_t\n",
        "        self.m_t = beta_1*m_t_prev + (1 - beta_1)*grads\n",
        "        self.v_t = beta_2*v_t_prev + (1-beta_2)*(grads**2)\n",
        "        m_t_corrected = self.m_t/(1 - beta_1**self.t)\n",
        "        v_t_corrected = self.v_t/(1 - beta_2**self.t)\n",
        "        self.params = self.params - lr*m_t_corrected/(torch.sqrt(v_t_corrected) + epsilon)\n",
        "        pass\n",
        "\n",
        "def train(model, lr=0.1, nb_epochs=10, sgd=True, data_loader_train=None, data_loader_val=None):\n",
        "    best_model = None\n",
        "    best_val_accuracy = 0\n",
        "    \n",
        "    best_accuracy = 0\n",
        "    logger = Logger()\n",
        "\n",
        "    for epoch in range(nb_epochs+1):\n",
        "        # at epoch 0 evaluate random initial model\n",
        "        #   then for subsequent epochs, do optimize before evaluation.\n",
        "        if epoch > 0:\n",
        "            for x, y in data_loader_train:\n",
        "                x, y = reshape_input(x, y)\n",
        "                y_pred = model.forward(x)\n",
        "                loss = cross_entropy(y, y_pred)\n",
        "                grads = model.get_grads(y, y_pred, x)\n",
        "                if sgd:\n",
        "                    model.sgd_update(lr, grads)\n",
        "                else:\n",
        "                    model.adam_update(lr, grads)\n",
        "        accuracy_train, loss_train = accuracy_and_loss_whole_dataset(data_loader_train, model)\n",
        "        accuracy_val, loss_val = accuracy_and_loss_whole_dataset(data_loader_val, model)\n",
        "        if accuracy_val > best_accuracy:\n",
        "            best_val_accuracy = accuracy_val\n",
        "            best_accuracy = accuracy_train\n",
        "            best_model = model\n",
        "\n",
        "          \n",
        "\n",
        "        logger.log(accuracy_train, loss_train, accuracy_val, loss_val)\n",
        "        if epoch % 5 == 0: # prints every 5 epochs, you can change it to % 1 for example to print each epoch\n",
        "            print(f\"Epoch {epoch:2d}, \\\n",
        "                    Train: loss={loss_train.item():.3e}, accuracy={accuracy_train.item()*100:.1f}%, \\\n",
        "                    Valid: loss={loss_val.item():.3e}, accuracy={accuracy_val.item()*100:.1f}%\", flush=True)\n",
        "\n",
        "    return best_model, best_val_accuracy, logger\n"
      ]
    },
    {
      "cell_type": "markdown",
      "metadata": {
        "id": "_zUGBmtf9pcA"
      },
      "source": [
        "## Évaluation"
      ]
    },
    {
      "cell_type": "markdown",
      "metadata": {
        "id": "eUuU5n979pcD"
      },
      "source": [
        "### SGD: Recherche d'hyperparamètres"
      ]
    },
    {
      "cell_type": "code",
      "execution_count": null,
      "metadata": {
        "colab": {
          "base_uri": "https://localhost:8080/"
        },
        "id": "4R_6Rxgq9pcE",
        "outputId": "684270cd-6ff2-4c8e-a84b-5f8d25a133af"
      },
      "outputs": [
        {
          "name": "stdout",
          "output_type": "stream",
          "text": [
            "------------------------------------------------------------------\n",
            "Training model with a learning rate of 0.1 and a batch size of 20\n",
            "Epoch  0,                     Train: loss=2.314e+00, accuracy=14.2%,                     Valid: loss=2.313e+00, accuracy=14.5%\n",
            "Epoch  5,                     Train: loss=3.756e+00, accuracy=74.0%,                     Valid: loss=4.032e+00, accuracy=72.3%\n",
            "Epoch 10,                     Train: loss=2.666e+00, accuracy=80.8%,                     Valid: loss=3.047e+00, accuracy=78.4%\n",
            "Epoch 15,                     Train: loss=2.059e+00, accuracy=84.2%,                     Valid: loss=2.513e+00, accuracy=81.7%\n",
            "validation accuracy = 81.500\n",
            "------------------------------------------------------------------\n",
            "Training model with a learning rate of 0.1 and a batch size of 200\n",
            "Epoch  0,                     Train: loss=2.293e+00, accuracy=7.3%,                     Valid: loss=2.292e+00, accuracy=6.6%\n",
            "Epoch  5,                     Train: loss=3.503e+00, accuracy=78.8%,                     Valid: loss=3.542e+00, accuracy=78.2%\n",
            "Epoch 10,                     Train: loss=3.751e+00, accuracy=78.0%,                     Valid: loss=3.925e+00, accuracy=77.3%\n",
            "Epoch 15,                     Train: loss=3.581e+00, accuracy=79.2%,                     Valid: loss=3.724e+00, accuracy=78.3%\n",
            "validation accuracy = 84.800\n",
            "------------------------------------------------------------------\n",
            "Training model with a learning rate of 0.1 and a batch size of 500\n",
            "Epoch  0,                     Train: loss=2.321e+00, accuracy=5.9%,                     Valid: loss=2.318e+00, accuracy=5.6%\n",
            "Epoch  5,                     Train: loss=4.678e+00, accuracy=73.8%,                     Valid: loss=4.839e+00, accuracy=72.9%\n",
            "Epoch 10,                     Train: loss=3.832e+00, accuracy=78.4%,                     Valid: loss=4.097e+00, accuracy=77.0%\n",
            "Epoch 15,                     Train: loss=3.707e+00, accuracy=79.1%,                     Valid: loss=3.864e+00, accuracy=78.4%\n",
            "validation accuracy = 83.600\n",
            "------------------------------------------------------------------\n",
            "Training model with a learning rate of 0.1 and a batch size of 1000\n",
            "Epoch  0,                     Train: loss=2.307e+00, accuracy=8.6%,                     Valid: loss=2.308e+00, accuracy=8.4%\n",
            "Epoch  5,                     Train: loss=4.269e+00, accuracy=76.4%,                     Valid: loss=4.302e+00, accuracy=76.2%\n",
            "Epoch 10,                     Train: loss=3.652e+00, accuracy=79.8%,                     Valid: loss=3.843e+00, accuracy=78.6%\n",
            "Epoch 15,                     Train: loss=4.462e+00, accuracy=75.3%,                     Valid: loss=4.570e+00, accuracy=74.7%\n",
            "validation accuracy = 79.250\n",
            "------------------------------------------------------------------\n",
            "Training model with a learning rate of 0.01 and a batch size of 20\n",
            "Epoch  0,                     Train: loss=2.314e+00, accuracy=8.3%,                     Valid: loss=2.312e+00, accuracy=9.2%\n",
            "Epoch  5,                     Train: loss=4.569e-01, accuracy=85.8%,                     Valid: loss=4.977e-01, accuracy=85.1%\n",
            "Epoch 10,                     Train: loss=5.304e-01, accuracy=84.2%,                     Valid: loss=5.859e-01, accuracy=82.8%\n",
            "Epoch 15,                     Train: loss=5.931e-01, accuracy=83.8%,                     Valid: loss=6.614e-01, accuracy=82.2%\n",
            "validation accuracy = 85.117\n",
            "------------------------------------------------------------------\n",
            "Training model with a learning rate of 0.01 and a batch size of 200\n",
            "Epoch  0,                     Train: loss=2.334e+00, accuracy=9.7%,                     Valid: loss=2.333e+00, accuracy=9.7%\n",
            "Epoch  5,                     Train: loss=1.984e+00, accuracy=77.9%,                     Valid: loss=2.039e+00, accuracy=78.1%\n",
            "Epoch 10,                     Train: loss=2.797e+00, accuracy=76.4%,                     Valid: loss=2.990e+00, accuracy=75.6%\n",
            "Epoch 15,                     Train: loss=2.164e+00, accuracy=79.8%,                     Valid: loss=2.287e+00, accuracy=79.2%\n",
            "validation accuracy = 84.950\n",
            "------------------------------------------------------------------\n",
            "Training model with a learning rate of 0.01 and a batch size of 500\n",
            "Epoch  0,                     Train: loss=2.290e+00, accuracy=13.3%,                     Valid: loss=2.291e+00, accuracy=13.5%\n",
            "Epoch  5,                     Train: loss=3.168e+00, accuracy=77.8%,                     Valid: loss=3.199e+00, accuracy=77.6%\n",
            "Epoch 10,                     Train: loss=1.960e+00, accuracy=84.3%,                     Valid: loss=2.001e+00, accuracy=83.6%\n",
            "Epoch 15,                     Train: loss=2.459e+00, accuracy=80.0%,                     Valid: loss=2.534e+00, accuracy=79.2%\n",
            "validation accuracy = 84.967\n",
            "------------------------------------------------------------------\n",
            "Training model with a learning rate of 0.01 and a batch size of 1000\n",
            "Epoch  0,                     Train: loss=2.386e+00, accuracy=6.5%,                     Valid: loss=2.382e+00, accuracy=7.2%\n",
            "Epoch  5,                     Train: loss=3.859e+00, accuracy=76.1%,                     Valid: loss=3.665e+00, accuracy=76.8%\n",
            "Epoch 10,                     Train: loss=3.449e+00, accuracy=77.4%,                     Valid: loss=3.377e+00, accuracy=77.9%\n",
            "Epoch 15,                     Train: loss=2.631e+00, accuracy=81.8%,                     Valid: loss=2.580e+00, accuracy=82.0%\n",
            "validation accuracy = 82.000\n",
            "------------------------------------------------------------------\n",
            "Training model with a learning rate of 0.001 and a batch size of 20\n",
            "Epoch  0,                     Train: loss=2.290e+00, accuracy=15.4%,                     Valid: loss=2.294e+00, accuracy=15.1%\n",
            "Epoch  5,                     Train: loss=4.345e-01, accuracy=85.2%,                     Valid: loss=4.498e-01, accuracy=84.8%\n",
            "Epoch 10,                     Train: loss=4.093e-01, accuracy=86.0%,                     Valid: loss=4.328e-01, accuracy=85.1%\n",
            "Epoch 15,                     Train: loss=4.131e-01, accuracy=85.9%,                     Valid: loss=4.479e-01, accuracy=85.1%\n",
            "validation accuracy = 85.350\n",
            "------------------------------------------------------------------\n",
            "Training model with a learning rate of 0.001 and a batch size of 200\n",
            "Epoch  0,                     Train: loss=2.339e+00, accuracy=10.9%,                     Valid: loss=2.338e+00, accuracy=10.7%\n",
            "Epoch  5,                     Train: loss=4.430e-01, accuracy=84.8%,                     Valid: loss=4.638e-01, accuracy=84.0%\n",
            "Epoch 10,                     Train: loss=4.136e-01, accuracy=85.9%,                     Valid: loss=4.424e-01, accuracy=84.9%\n",
            "Epoch 15,                     Train: loss=4.172e-01, accuracy=85.5%,                     Valid: loss=4.543e-01, accuracy=84.1%\n",
            "validation accuracy = 84.650\n",
            "------------------------------------------------------------------\n",
            "Training model with a learning rate of 0.001 and a batch size of 500\n",
            "Epoch  0,                     Train: loss=2.314e+00, accuracy=13.3%,                     Valid: loss=2.316e+00, accuracy=13.0%\n",
            "Epoch  5,                     Train: loss=9.809e-01, accuracy=78.0%,                     Valid: loss=9.457e-01, accuracy=78.4%\n",
            "Epoch 10,                     Train: loss=7.631e-01, accuracy=81.3%,                     Valid: loss=7.436e-01, accuracy=81.4%\n",
            "Epoch 15,                     Train: loss=9.400e-01, accuracy=79.3%,                     Valid: loss=9.652e-01, accuracy=79.5%\n",
            "validation accuracy = 85.650\n",
            "------------------------------------------------------------------\n",
            "Training model with a learning rate of 0.001 and a batch size of 1000\n",
            "Epoch  0,                     Train: loss=2.299e+00, accuracy=12.9%,                     Valid: loss=2.301e+00, accuracy=12.6%\n",
            "Epoch  5,                     Train: loss=2.356e+00, accuracy=74.6%,                     Valid: loss=2.449e+00, accuracy=74.1%\n",
            "Epoch 10,                     Train: loss=7.098e-01, accuracy=84.2%,                     Valid: loss=7.344e-01, accuracy=83.6%\n",
            "Epoch 15,                     Train: loss=2.232e+00, accuracy=75.1%,                     Valid: loss=2.306e+00, accuracy=74.8%\n",
            "validation accuracy = 83.617\n"
          ]
        }
      ],
      "source": [
        "# SGD\n",
        "# Montrez les résultats pour différents taux d'apprentissage, e.g. 0.1, 0.01, 0.001, et différentes tailles de mini-batch, e.g. 1, 20, 200, 1000.\n",
        "batch_size_list = [20, 200, 500,1000]   # Define ranges in a list\n",
        "lr_list = [0.1, 0.01, 0.001]           # Define ranges in a list\n",
        "\n",
        "with torch.no_grad():\n",
        "  for lr in lr_list:\n",
        "    for batch_size in batch_size_list:\n",
        "      print(\"------------------------------------------------------------------\")\n",
        "      print(\"Training model with a learning rate of {0} and a batch size of {1}\".format(lr, batch_size))\n",
        "      data_loader_train, data_loader_val, data_loader_test = get_fashion_mnist_dataloaders(val_percentage=0.1, batch_size=batch_size)\n",
        "      \n",
        "      model = LinearModel(num_features=784, num_classes=10)\n",
        "      _, val_accuracy, _ = train(model,lr=lr, nb_epochs=15, sgd=True, data_loader_train=data_loader_train, data_loader_val=data_loader_val)\n",
        "      print(f\"validation accuracy = {val_accuracy*100:.3f}\")"
      ]
    },
    {
      "cell_type": "markdown",
      "metadata": {
        "id": "AmvtxoLo9pcF"
      },
      "source": [
        "#### **Tableau pour la précision sur l'ensemble de validation**\n",
        "N.B. que les lignes correspondent aux valeurs du taux d'apprentisage et les colonnes correspondent au valeur du batch size. Les valeurs ci-dessous sont donné comme exemples; remplacez-les par les valeurs que vous avez utilisées pour votre recherche d'hyperparamètres.\n",
        "\n",
        "learning rate\\batch_size  | 20 | 200 | 500 |1000 \n",
        "-------------------|------------------|------------------|------------------|------------------|\n",
        "**0.1**     | 81.5 | 84.8 | 83.6 | 79.3 |\n",
        "**0.01**    | 85.1 | 85.0 | 85.0 | 82.0 | \n",
        "**0.001**   | 85.4 | 84.7 | **85.7** | 83.6 |"
      ]
    },
    {
      "cell_type": "markdown",
      "metadata": {
        "id": "8PvrqlWt9pcG"
      },
      "source": [
        "### SGD: Analyse du meilleur modèle"
      ]
    },
    {
      "cell_type": "code",
      "execution_count": null,
      "metadata": {
        "colab": {
          "base_uri": "https://localhost:8080/",
          "height": 696
        },
        "id": "uQ8Vc8JM9pcG",
        "outputId": "43807fba-fb97-43cd-cd42-5c91b81f2cf5"
      },
      "outputs": [
        {
          "name": "stdout",
          "output_type": "stream",
          "text": [
            "Epoch  0,                     Train: loss=2.311e+00, accuracy=3.8%,                     Valid: loss=2.311e+00, accuracy=3.5%\n",
            "Epoch  5,                     Train: loss=1.118e+00, accuracy=81.1%,                     Valid: loss=1.107e+00, accuracy=81.1%\n",
            "Epoch 10,                     Train: loss=1.609e+00, accuracy=79.7%,                     Valid: loss=1.599e+00, accuracy=79.5%\n",
            "Epoch 15,                     Train: loss=7.418e-01, accuracy=78.5%,                     Valid: loss=7.394e-01, accuracy=78.6%\n",
            "Epoch 20,                     Train: loss=5.089e-01, accuracy=85.2%,                     Valid: loss=5.227e-01, accuracy=84.9%\n",
            "Epoch 25,                     Train: loss=6.890e-01, accuracy=81.3%,                     Valid: loss=7.142e-01, accuracy=80.5%\n",
            "Epoch 30,                     Train: loss=5.219e-01, accuracy=84.3%,                     Valid: loss=5.400e-01, accuracy=83.6%\n",
            "Epoch 35,                     Train: loss=8.279e-01, accuracy=81.2%,                     Valid: loss=8.458e-01, accuracy=80.6%\n",
            "Epoch 40,                     Train: loss=6.056e-01, accuracy=84.0%,                     Valid: loss=6.508e-01, accuracy=83.3%\n",
            "Epoch 45,                     Train: loss=6.683e-01, accuracy=82.3%,                     Valid: loss=6.970e-01, accuracy=81.5%\n",
            "Epoch 50,                     Train: loss=9.182e-01, accuracy=81.5%,                     Valid: loss=9.674e-01, accuracy=80.9%\n",
            "Best validation accuracy = 85.317\n",
            "Evaluation of the best training model over test set\n",
            "------\n",
            "Loss : 1.024\n",
            "Accuracy : 79.750\n"
          ]
        },
        {
          "data": {
            "image/png": "[encoded data removed]",
            "text/plain": [
              "<Figure size 864x432 with 2 Axes>"
            ]
          },
          "metadata": {},
          "output_type": "display_data"
        }
      ],
      "source": [
        "# SGD\n",
        "# Montrez les résultats pour la meilleure configuration trouvez ci-dessus.\n",
        "batch_size = 500 # TODO: Vous devez modifier cette valeur avec la meilleur que vous avez eu.\n",
        "lr = 0.001         # TODO: Vous devez modifier cette valeur avec la meilleur que vous avez eu.\n",
        "\n",
        "with torch.no_grad():\n",
        "  data_loader_train, data_loader_val, data_loader_test = get_fashion_mnist_dataloaders(val_percentage=0.1, batch_size=batch_size)\n",
        "\n",
        "  model = LinearModel(num_features=784, num_classes=10)\n",
        "  best_model, best_val_accuracy, logger = train(model,lr=lr, nb_epochs=50, sgd=True, \n",
        "                                                data_loader_train=data_loader_train, data_loader_val=data_loader_val)\n",
        "  logger.plot_loss_and_accuracy()\n",
        "  print(f\"Best validation accuracy = {best_val_accuracy*100:.3f}\")\n",
        "\n",
        "  accuracy_test, loss_test = accuracy_and_loss_whole_dataset(data_loader_test, best_model)\n",
        "print(\"Evaluation of the best training model over test set\")\n",
        "print(\"------\")\n",
        "print(f\"Loss : {loss_test:.3f}\")\n",
        "print(f\"Accuracy : {accuracy_test*100.:.3f}\")"
      ]
    },
    {
      "cell_type": "markdown",
      "metadata": {
        "id": "BOZXfA919pcH"
      },
      "source": [
        "### Adam: Recherche d'hyperparamètres\n",
        "\n",
        "Implémentez Adam, répétez les deux étapes précédentes (recherche d'hyperparamètres et analyse du meilleur modèle) cette fois en utilisat Adam, et comparez les performances finales avec votre meilleur modèle SGD."
      ]
    },
    {
      "cell_type": "code",
      "execution_count": null,
      "metadata": {
        "colab": {
          "base_uri": "https://localhost:8080/"
        },
        "id": "Ze9D0Zpi9pcI",
        "outputId": "db80799c-167a-4869-b687-e84695282f31"
      },
      "outputs": [
        {
          "name": "stdout",
          "output_type": "stream",
          "text": [
            "------------------------------------------------------------------\n",
            "Training model with a learning rate of 0.1 and a batch size of 20\n",
            "Epoch  0,                     Train: loss=2.322e+00, accuracy=5.8%,                     Valid: loss=2.323e+00, accuracy=5.7%\n",
            "Epoch  5,                     Train: loss=2.281e+00, accuracy=81.8%,                     Valid: loss=2.575e+00, accuracy=80.2%\n",
            "Epoch 10,                     Train: loss=2.489e+00, accuracy=80.8%,                     Valid: loss=2.847e+00, accuracy=78.9%\n",
            "Epoch 15,                     Train: loss=2.652e+00, accuracy=81.2%,                     Valid: loss=3.012e+00, accuracy=79.0%\n",
            "validation accuracy = 83.600\n",
            "------------------------------------------------------------------\n",
            "Training model with a learning rate of 0.1 and a batch size of 200\n",
            "Epoch  0,                     Train: loss=2.320e+00, accuracy=4.6%,                     Valid: loss=2.319e+00, accuracy=4.7%\n",
            "Epoch  5,                     Train: loss=9.630e-01, accuracy=82.1%,                     Valid: loss=1.165e+00, accuracy=80.5%\n",
            "Epoch 10,                     Train: loss=9.549e-01, accuracy=83.0%,                     Valid: loss=1.183e+00, accuracy=81.2%\n",
            "Epoch 15,                     Train: loss=8.663e-01, accuracy=84.0%,                     Valid: loss=1.128e+00, accuracy=82.1%\n",
            "validation accuracy = 82.833\n",
            "------------------------------------------------------------------\n",
            "Training model with a learning rate of 0.1 and a batch size of 500\n",
            "Epoch  0,                     Train: loss=2.308e+00, accuracy=11.7%,                     Valid: loss=2.308e+00, accuracy=11.5%\n",
            "Epoch  5,                     Train: loss=6.534e-01, accuracy=83.5%,                     Valid: loss=7.135e-01, accuracy=82.1%\n",
            "Epoch 10,                     Train: loss=5.011e-01, accuracy=85.8%,                     Valid: loss=5.993e-01, accuracy=83.6%\n",
            "Epoch 15,                     Train: loss=4.456e-01, accuracy=86.6%,                     Valid: loss=5.751e-01, accuracy=84.6%\n",
            "validation accuracy = 84.383\n",
            "------------------------------------------------------------------\n",
            "Training model with a learning rate of 0.1 and a batch size of 1000\n",
            "Epoch  0,                     Train: loss=2.315e+00, accuracy=4.1%,                     Valid: loss=2.313e+00, accuracy=4.5%\n",
            "Epoch  5,                     Train: loss=4.884e-01, accuracy=84.5%,                     Valid: loss=5.290e-01, accuracy=83.8%\n",
            "Epoch 10,                     Train: loss=5.816e-01, accuracy=83.4%,                     Valid: loss=6.503e-01, accuracy=82.0%\n",
            "Epoch 15,                     Train: loss=4.954e-01, accuracy=84.5%,                     Valid: loss=5.749e-01, accuracy=83.1%\n",
            "validation accuracy = 84.833\n",
            "------------------------------------------------------------------\n",
            "Training model with a learning rate of 0.01 and a batch size of 20\n",
            "Epoch  0,                     Train: loss=2.326e+00, accuracy=11.8%,                     Valid: loss=2.324e+00, accuracy=11.5%\n",
            "Epoch  5,                     Train: loss=5.166e-01, accuracy=85.0%,                     Valid: loss=6.098e-01, accuracy=83.3%\n",
            "Epoch 10,                     Train: loss=6.123e-01, accuracy=82.7%,                     Valid: loss=7.605e-01, accuracy=80.8%\n",
            "Epoch 15,                     Train: loss=5.703e-01, accuracy=84.8%,                     Valid: loss=7.263e-01, accuracy=82.7%\n",
            "validation accuracy = 82.567\n",
            "------------------------------------------------------------------\n",
            "Training model with a learning rate of 0.01 and a batch size of 200\n",
            "Epoch  0,                     Train: loss=2.312e+00, accuracy=9.7%,                     Valid: loss=2.312e+00, accuracy=9.6%\n",
            "Epoch  5,                     Train: loss=4.192e-01, accuracy=85.6%,                     Valid: loss=4.418e-01, accuracy=85.0%\n",
            "Epoch 10,                     Train: loss=4.229e-01, accuracy=85.1%,                     Valid: loss=4.679e-01, accuracy=84.1%\n",
            "Epoch 15,                     Train: loss=4.130e-01, accuracy=85.4%,                     Valid: loss=4.738e-01, accuracy=83.7%\n",
            "validation accuracy = 85.350\n",
            "------------------------------------------------------------------\n",
            "Training model with a learning rate of 0.01 and a batch size of 500\n",
            "Epoch  0,                     Train: loss=2.326e+00, accuracy=5.8%,                     Valid: loss=2.326e+00, accuracy=5.6%\n",
            "Epoch  5,                     Train: loss=4.220e-01, accuracy=85.2%,                     Valid: loss=4.515e-01, accuracy=84.1%\n",
            "Epoch 10,                     Train: loss=3.821e-01, accuracy=86.7%,                     Valid: loss=4.284e-01, accuracy=84.9%\n",
            "Epoch 15,                     Train: loss=3.737e-01, accuracy=86.9%,                     Valid: loss=4.380e-01, accuracy=84.9%\n",
            "validation accuracy = 84.817\n",
            "------------------------------------------------------------------\n",
            "Training model with a learning rate of 0.01 and a batch size of 1000\n",
            "Epoch  0,                     Train: loss=2.314e+00, accuracy=7.3%,                     Valid: loss=2.312e+00, accuracy=7.2%\n",
            "Epoch  5,                     Train: loss=4.145e-01, accuracy=85.9%,                     Valid: loss=4.393e-01, accuracy=85.0%\n",
            "Epoch 10,                     Train: loss=3.955e-01, accuracy=86.3%,                     Valid: loss=4.345e-01, accuracy=84.9%\n",
            "Epoch 15,                     Train: loss=3.872e-01, accuracy=86.4%,                     Valid: loss=4.378e-01, accuracy=85.0%\n",
            "validation accuracy = 85.483\n",
            "------------------------------------------------------------------\n",
            "Training model with a learning rate of 0.001 and a batch size of 20\n",
            "Epoch  0,                     Train: loss=2.306e+00, accuracy=7.9%,                     Valid: loss=2.305e+00, accuracy=8.6%\n",
            "Epoch  5,                     Train: loss=3.968e-01, accuracy=86.3%,                     Valid: loss=4.250e-01, accuracy=85.7%\n",
            "Epoch 10,                     Train: loss=3.745e-01, accuracy=86.9%,                     Valid: loss=4.132e-01, accuracy=85.9%\n",
            "Epoch 15,                     Train: loss=3.778e-01, accuracy=86.6%,                     Valid: loss=4.286e-01, accuracy=85.4%\n",
            "validation accuracy = 85.683\n",
            "------------------------------------------------------------------\n",
            "Training model with a learning rate of 0.001 and a batch size of 200\n",
            "Epoch  0,                     Train: loss=2.319e+00, accuracy=6.2%,                     Valid: loss=2.320e+00, accuracy=6.1%\n",
            "Epoch  5,                     Train: loss=4.454e-01, accuracy=84.9%,                     Valid: loss=4.583e-01, accuracy=85.3%\n",
            "Epoch 10,                     Train: loss=4.128e-01, accuracy=85.8%,                     Valid: loss=4.313e-01, accuracy=85.9%\n",
            "Epoch 15,                     Train: loss=3.947e-01, accuracy=86.4%,                     Valid: loss=4.194e-01, accuracy=86.3%\n",
            "validation accuracy = 86.283\n",
            "------------------------------------------------------------------\n",
            "Training model with a learning rate of 0.001 and a batch size of 500\n",
            "Epoch  0,                     Train: loss=2.310e+00, accuracy=5.0%,                     Valid: loss=2.310e+00, accuracy=4.7%\n",
            "Epoch  5,                     Train: loss=4.955e-01, accuracy=83.6%,                     Valid: loss=4.842e-01, accuracy=84.0%\n",
            "Epoch 10,                     Train: loss=4.482e-01, accuracy=84.9%,                     Valid: loss=4.442e-01, accuracy=84.8%\n",
            "Epoch 15,                     Train: loss=4.218e-01, accuracy=85.7%,                     Valid: loss=4.236e-01, accuracy=85.7%\n",
            "validation accuracy = 85.733\n",
            "------------------------------------------------------------------\n",
            "Training model with a learning rate of 0.001 and a batch size of 1000\n",
            "Epoch  0,                     Train: loss=2.300e+00, accuracy=7.9%,                     Valid: loss=2.301e+00, accuracy=8.2%\n",
            "Epoch  5,                     Train: loss=5.540e-01, accuracy=82.1%,                     Valid: loss=5.730e-01, accuracy=81.9%\n",
            "Epoch 10,                     Train: loss=4.838e-01, accuracy=84.0%,                     Valid: loss=5.056e-01, accuracy=84.0%\n",
            "Epoch 15,                     Train: loss=4.544e-01, accuracy=84.8%,                     Valid: loss=4.767e-01, accuracy=84.5%\n",
            "validation accuracy = 84.567\n"
          ]
        }
      ],
      "source": [
        "# ADAM\n",
        "# Montrez les résultats pour différents taux d'apprentissage, e.g. 0.1, 0.01, 0.001, et différentes tailles de mini-batch, e.g. 1, 20, 200, 1000.\n",
        "batch_size_list = [20, 200, 500, 1000, ]   # Define ranges in a list\n",
        "lr_list = [0.1, 0.01, 0.001]           # Define ranges in a list\n",
        "\n",
        "\n",
        "with torch.no_grad():\n",
        "  for lr in lr_list:\n",
        "    for batch_size in batch_size_list:\n",
        "      print(\"------------------------------------------------------------------\")\n",
        "      print(\"Training model with a learning rate of {0} and a batch size of {1}\".format(lr, batch_size))\n",
        "      data_loader_train, data_loader_val, data_loader_test = get_fashion_mnist_dataloaders(val_percentage=0.1, batch_size=batch_size)\n",
        "      \n",
        "      model = LinearModel(num_features=784, num_classes=10)\n",
        "      _, val_accuracy, _ = train(model,lr=lr, nb_epochs=15, sgd=False, data_loader_train=data_loader_train, data_loader_val=data_loader_val)\n",
        "      print(f\"validation accuracy = {val_accuracy*100:.3f}\")"
      ]
    },
    {
      "cell_type": "markdown",
      "metadata": {
        "id": "Cr9_MzpX_CvO"
      },
      "source": [
        "#### **Tableau pour la précision sur l'ensemble de validation**\n",
        "N.B. que les lignes correspondent aux valeurs du taux d'apprentisage et les colonnes correspondent au valeur du batch size. Les valeurs ci-dessous sont donné comme exemples; remplacez-les par les valeurs que vous avez utilisées pour votre recherche d'hyperparamètres.\n",
        "\n",
        "learning rate\\batch_size  | 20 | 200 | 500 |1000 \n",
        "-------------------|------------------|------------------|------------------|------------------|\n",
        "**0.1**     | 83.6 | 82.8 | 84.4 | 84.8 |\n",
        "**0.01**    | 82.6 | 85.4 | 84.8 | 85.5 |\n",
        "**0.001**   | 85.7 | **86.3** | 85.7 | 84.7 |"
      ]
    },
    {
      "cell_type": "markdown",
      "metadata": {
        "id": "2Me7IOblUrYw"
      },
      "source": [
        "### Adam: Analyse du meilleur modèle"
      ]
    },
    {
      "cell_type": "code",
      "execution_count": null,
      "metadata": {
        "colab": {
          "base_uri": "https://localhost:8080/",
          "height": 696
        },
        "id": "Ndf_GP6XPV-U",
        "outputId": "01dc2902-da1f-45b5-e0ad-742bb0d674a2"
      },
      "outputs": [
        {
          "name": "stdout",
          "output_type": "stream",
          "text": [
            "Epoch  0,                     Train: loss=2.338e+00, accuracy=2.7%,                     Valid: loss=2.339e+00, accuracy=2.4%\n",
            "Epoch  5,                     Train: loss=4.513e-01, accuracy=84.7%,                     Valid: loss=4.498e-01, accuracy=84.9%\n",
            "Epoch 10,                     Train: loss=4.108e-01, accuracy=85.9%,                     Valid: loss=4.137e-01, accuracy=86.1%\n",
            "Epoch 15,                     Train: loss=3.973e-01, accuracy=86.3%,                     Valid: loss=4.074e-01, accuracy=86.3%\n",
            "Epoch 20,                     Train: loss=3.916e-01, accuracy=86.5%,                     Valid: loss=4.085e-01, accuracy=85.8%\n",
            "Epoch 25,                     Train: loss=3.831e-01, accuracy=86.7%,                     Valid: loss=3.995e-01, accuracy=85.9%\n",
            "Epoch 30,                     Train: loss=3.746e-01, accuracy=87.0%,                     Valid: loss=4.022e-01, accuracy=86.2%\n",
            "Epoch 35,                     Train: loss=3.728e-01, accuracy=87.0%,                     Valid: loss=4.035e-01, accuracy=86.1%\n",
            "Epoch 40,                     Train: loss=3.662e-01, accuracy=87.3%,                     Valid: loss=3.979e-01, accuracy=86.2%\n",
            "Epoch 45,                     Train: loss=3.654e-01, accuracy=87.3%,                     Valid: loss=4.014e-01, accuracy=86.0%\n",
            "Epoch 50,                     Train: loss=3.636e-01, accuracy=87.2%,                     Valid: loss=4.028e-01, accuracy=85.9%\n",
            "Best validation accuracy = 86.417\n",
            "Evaluation of the best training model over test set\n",
            "------\n",
            "Loss : 0.441\n",
            "Accuracy : 84.540\n"
          ]
        },
        {
          "data": {
            "image/png": "[encoded data removed]",
            "text/plain": [
              "<Figure size 864x432 with 2 Axes>"
            ]
          },
          "metadata": {},
          "output_type": "display_data"
        }
      ],
      "source": [
        "# ADAM\n",
        "# Montrez les résultats pour la meilleure configuration trouvez ci-dessus.\n",
        "batch_size = 200 # TODO: Vous devez modifier cette valeur avec la meilleur que vous avez eu.\n",
        "lr = 0.001         # TODO: Vous devez modifier cette valeur avec la meilleur que vous avez eu.\n",
        "\n",
        "with torch.no_grad():\n",
        "  data_loader_train, data_loader_val, data_loader_test = get_fashion_mnist_dataloaders(val_percentage=0.1, batch_size=batch_size)\n",
        "\n",
        "  model = LinearModel(num_features=784, num_classes=10)\n",
        "  best_model, best_val_accuracy, logger = train(model,lr=lr, nb_epochs=50, sgd=False, \n",
        "                                                data_loader_train=data_loader_train, data_loader_val=data_loader_val)\n",
        "  logger.plot_loss_and_accuracy()\n",
        "  print(f\"Best validation accuracy = {best_val_accuracy*100:.3f}\")\n",
        "\n",
        "  accuracy_test, loss_test = accuracy_and_loss_whole_dataset(data_loader_test, best_model)\n",
        "print(\"Evaluation of the best training model over test set\")\n",
        "print(\"------\")\n",
        "print(f\"Loss : {loss_test:.3f}\")\n",
        "print(f\"Accuracy : {accuracy_test*100.:.3f}\")"
      ]
    },
    {
      "cell_type": "markdown",
      "metadata": {
        "id": "6LRkxtUD_RVd"
      },
      "source": [
        "### Analyse des Résultats"
      ]
    },
    {
      "cell_type": "markdown",
      "metadata": {
        "id": "8NIRJe-8_fbP"
      },
      "source": [
        "The problem consists in a multiclassification of pictures according to the cloth it represents. In this first part, we used logistic regression, a simple regressor that optimizes an objective function directly from the raw representation of pixels. Also, logistic regression is a convex optimization problem.\n",
        "\n",
        "For this part, we had to implement logistic regression classifier with both stochastic gradient descent and Adam optimizers. The first optimizer consists of calculating the gradient of the current mini-batch and move the parameters to the opposite direction to minimize the objective function. Whereas Adam also performs a similar trick, but accelerates the process by estimating the first and second statistical moments of the gradient.\n",
        "\n",
        "Since we had few hyperparameters to use, mini-batch size and learning rate, we performed a grid search experiment to discover the best combination of parameters. The batch sizes had the distribution of (20, 200, 500, 1000), while the learning rates had the distribution (0.1, 0.01, 0.001).\n",
        "\n",
        "### SGD Results\n",
        "\n",
        "For the SGD experiments, if we fix the batch size and compare the performances for different learning rates, we notice that higher values performed poorer that smaller ones. This performance enhancement happens because larger steps may cause the model to miss the global minimum by moving it around it without never reaching it. While smaller steps makes the model move smoothly to the minimum even if it's a slower convergence.\n",
        "\n",
        "If we fix the learning rate and compare the results of the batch size, we notice that increasing it doesn't necesseraly make the model perform better. It enhances until a point and then makes the performance decrease. By the experiments performed, the optimal batch-size for this task lies between 200 and 500. Higher values made the model perform worse. In the experiments, we obtained the best results have the batch size of 500 and learning rate equals 0.001.\n",
        "\n",
        "Another element to observe is the learning curve of the best model whose parameters were obtained in the grid search. The model has a wiggling beahviour in both training and validation curves. This also happens because of the stochastic behaviour present in the SGD optimization. If we increase the batch-size, we diminish this wiggling behaviour at the cost of slowing the training and the possibility of not converging.\n",
        "\n",
        "The optimal hyperparameters for SGD were:\n",
        "\n",
        "* Batch-size = 500\n",
        "* learning rate = 0.001\n",
        "\n",
        "### Adam Results\n",
        "\n",
        "The Adam optimizer had a similar behaviour when using the same hyperparameters as in SGD. Although, there were some subtle differents. If we fix the batch size and diminish the learning rate, the performance resembles the behavour of SGD experiments. However, fixing the learning rate and increasing the batch size don't see the same behaviour as in SGD. Adam made the convergence more stable and less dependent to the batch size. Although, the performance could decrease if we used larger batch sizes.\n",
        "\n",
        "The optimal value of the batch size obtained in the experiments were 200, while the best learning rate was also of 0.001.\n",
        "\n",
        "Differently from the SGD, the training curve were much smoothier and converged faster. The Adam optimizer really made a difference on the final performance. For comparisson, the SGD best model had 79.8% of test accuracy, and the Adam best performance had 84.5% of test accuracy. Hence Adam is more suitable to build a classifier for this specific task with logistic regression."
      ]
    },
    {
      "cell_type": "markdown",
      "metadata": {
        "id": "IficnxEMMcNo"
      },
      "source": [
        "# Partie 3 (20 points)\n",
        "\n",
        "Pour cette partie, vous pouvez travailler en groupes de 2, mais il faut écrire sa propre dérivation et soumettre son propre rapport. Si vous travaillez avec un partenaire, il faut indiquer leur nom dans votre rapport."
      ]
    },
    {
      "cell_type": "markdown",
      "metadata": {
        "id": "Zmb_putke8pl"
      },
      "source": [
        "### Problème"
      ]
    },
    {
      "cell_type": "markdown",
      "metadata": {
        "id": "CRioLmIDMcP8"
      },
      "source": [
        "![picture](https://drive.google.com/uc?id=17_N7pIrf5pypQKiUh5cM7SX6raZUBcJC)\n",
        "\n",
        "Considérons maintenant un réseau de neurones avec une couche d'entrée avec $D=784$ unités, $L$ couches cachées, chacune avec 300 unités et un vecteur de sortie $\\mathbf{y}$ de dimension $K$. Vous avez $i = 1, .., N$ exemples dans un ensemble d'apprentissage, où chaque ${\\bf x}_i \\in \\mathbb{R}^{784}$ est un vecteur de caractéristiques (features). $\\mathbf{y}$ est un vecteur du type *one-hot* -- un vecteur de zéros avec un seul 1 pour indiquer que la classe $C=k$ dans la dimension $k$. Par exemple, le vecteur $\\mathbf{y}=[0, 1, 0, \\cdots, 0]^T$ représente la deuxième classe. La fonction de perte est donnée par\n",
        "\\begin{equation}\n",
        "\\mathcal{L} = -\\sum_{i=1}^{N}\\sum_{k=1}^{K}y_{k,i}\\log (f_k( {\\bf x}_i )  ) \n",
        "\\end{equation}\n",
        "\n",
        "La fonction d'activation de la couche finale a la forme  ${\\bf f} = [f_1, ..., f_K]$ donné par la fonction d'activation softmax: \n",
        "\\begin{equation}\n",
        "f_k( {\\bf a}^{(L+1)}({\\bf x}_i) ) = \\frac{\\exp(a_k^{(L+1)})}{\\sum_{c=1}^{K}\\exp(a_c^{(L+1)})}, \\;\\;\\;\\;\n",
        "\\nonumber\n",
        "\\end{equation}\n",
        "\n",
        "et les couches cachées utilisent une fonction d'activation de type ReLU:\n",
        "\\begin{equation}\n",
        "  {\\bf h}^{(l)}({\\bf a}^{(l)}({\\bf x}_i)) = \\text{ReLU}({\\bf a}^{(l)}({\\bf x}_i) = \\max\\Big(0, \\, \\, {\\bf a}^{(l)}({\\bf x}_i)\\Big)\n",
        "\\end{equation}\n",
        "\n",
        "où ${\\bf a}^{(l)}$ est le vecteur résultant du calcul de la préactivation habituelle ${\\bf a}^{(l)}={\\bf W}^{(l)}{\\bf h}^{(l-1)} + {\\bf b}^{(l)}$, qui pourrait être simplifiée à ${\\boldsymbol \\theta}^{(l)}\\tilde{\\bf h}^{(l-1)}$ en utilisant l'astuce de définir $\\tilde{\\bf h}$ comme ${\\bf h}$ avec un 1 concaténé à la fin du vecteur.\n",
        "\n"
      ]
    },
    {
      "cell_type": "markdown",
      "metadata": {
        "id": "PzMpz3Zse0t9"
      },
      "source": [
        "### Questions"
      ]
    },
    {
      "cell_type": "markdown",
      "metadata": {
        "id": "wK8gnygxMcSh"
      },
      "source": [
        "* a) (10 points) Donnez le pseudocode incluant des *calculs matriciels—vectoriels* détaillés pour l'algorithme de rétropropagation pour calculer le gradient pour les paramètres de chaque couche **étant donné un exemple d'entraînement**."
      ]
    },
    {
      "cell_type": "markdown",
      "metadata": {
        "id": "Y431_w4gMcX2"
      },
      "source": [
        "* b) (10 points) \n",
        "Implémentez l'optimisation basée sur le gradient de ce réseau en Pytorch.\n",
        "Utilisez le code squelette ci-dessous comme point de départ et implémentez les mathématiques de l'algorithme de rétropropagation que vous avez décrit à la question précédente.Utilisez encore l'ensemble de données de Fashion MNIST (voir Partie 2). **Comparez différents modèles ayant différentes largeurs (nombre d'unités) et profondeurs (nombre de couches)**. Ici encore, n'utilisez l'ensemble de test que pour votre expérience finale lorsque vous pensez avoir obtenu votre meilleur modèle.\n",
        "\n",
        "**IMPORTANT**\n",
        "\n",
        "L'objectif du TP est de vous faire implémenter la rétropropagation à la main. **Il est donc interdit d'utiliser les capacités de construction de modèles ou de différentiation automatique de pytorch -- par exemple, aucun appels à torch.nn, torch.autograd ou à la méthode .backward().** L'objectif est d'implémenter un modèle de classification logistique ainsi que son entainement en utilisant uniquement des opérations matricielles de base fournies par PyTorch e.g. torch.sum(), torch.matmul(), etc."
      ]
    },
    {
      "cell_type": "markdown",
      "metadata": {
        "id": "F1mpuG2cwER-"
      },
      "source": [
        "## Votre pseudocode:"
      ]
    },
    {
      "cell_type": "markdown",
      "metadata": {
        "id": "qY2X9goYwMDs"
      },
      "source": [
        "#### Algorithme de rétropopagation dans un réseau de neurones pour un exemple $\\tilde{x}_i$:\n",
        "\n",
        "\n",
        "1. Apply input vector X to the network and make the feedforward propagation while storing the pre-activation ($a_j$) and activated ($z_j=h(a_j)$) values of all layers and hidden units. \n",
        "\n",
        "2. Compute $δ_k$ for the output layer by computing the difference between real and expected outputs. \n",
        "\n",
        "3. Compute $\\delta_j$ for all hidden layers $j$: $\\delta_j = h'(a_j)\\sum_{k}w_{kj}\\delta_{k}$, with $j$ as the current hidden layer, $k$ the next layer, and $i$ the last layer.\n",
        "\n",
        "\n",
        "4. Compute the gradients of all the hidden layers: $\\frac{\\partial E}{\\partial w_{ji}}=\\delta_j z_i$."
      ]
    },
    {
      "cell_type": "markdown",
      "metadata": {
        "id": "SIQJD-TRwEdo"
      },
      "source": [
        "## Fonctions à compléter"
      ]
    },
    {
      "cell_type": "code",
      "execution_count": null,
      "metadata": {
        "id": "JzIQ0S4qDPKJ"
      },
      "outputs": [],
      "source": [
        "from copy import deepcopy\n",
        "\n",
        "''' Les fonctions dans cette cellule peuvent avoir les mêmes déclarations que celles de la partie 2''' \n",
        "def accuracy(y, y_pred) :\n",
        "    card_D = y.shape[0] # provavelmente vou mudar isso pq eh softmax\n",
        "    card_C = torch.sum(torch.argmax(y_pred, 1) == torch.argmax(y, 1))\n",
        "    acc = card_C / card_D\n",
        "    return acc, (card_C, card_D)\n",
        "\n",
        "def accuracy_and_loss_whole_dataset(data_loader, model):\n",
        "    cardinal = 0\n",
        "    loss = 0.0\n",
        "    n_accurate_preds = 0.0\n",
        "\n",
        "    for x, y in data_loader:\n",
        "        x, y = reshape_input(x, y)\n",
        "        y_pred                = model.forward(x)\n",
        "        xentrp                = cross_entropy(y, y_pred)\n",
        "        _, (n_acc, n_samples) = accuracy(y, y_pred)\n",
        "        cardinal = cardinal + n_samples\n",
        "        loss     = loss + float(xentrp)\n",
        "        n_accurate_preds  = n_accurate_preds + n_acc\n",
        "    loss = loss / float(cardinal)\n",
        "    acc  = n_accurate_preds / float(cardinal)\n",
        "\n",
        "    return acc, loss\n",
        "\n",
        "\n",
        "def inputs_tilde(x, axis=-1):\n",
        "    # augments the inputs `x` with ones along `axis`\n",
        "    ones = torch.ones(x.shape[0], 1)\n",
        "    x_tilde = torch.hstack([x, ones])\n",
        "    return x_tilde\n",
        "\n",
        "def softmax(x, axis=-1):\n",
        "    # assurez vous que la fonction est numeriquement stable\n",
        "    # e.g. softmax(np.array([1000, 10000, 100000], ndim=2))\n",
        "    max = torch.max(x, dim=1).values.unsqueeze(1)\n",
        "    num = torch.exp(x - max)\n",
        "    den = num.sum(axis=1).unsqueeze(1)\n",
        "    return num / den\n",
        "\n",
        "def cross_entropy(y, y_pred):\n",
        "    xentrp = y*torch.log(y_pred + 1e-8)\n",
        "    loss = -torch.sum(xentrp)\n",
        "    return loss\n",
        "\n",
        "def softmax_cross_entropy_backward(y, y_pred):\n",
        "    return (y_pred - y)\n",
        "\n",
        "def relu_forward(x):\n",
        "    x[x < 0] = 0\n",
        "    return x\n",
        "\n",
        "\n",
        "def relu_backward(d_x, x):\n",
        "    d_x[x <= 0] = 0\n",
        "    return d_x\n",
        "    \n",
        "    \n",
        "# Model est une classe representant votre reseaux de neuronnes\n",
        "class MLPModel:\n",
        "    def __init__(self, n_features=784, n_hidden_features=50, n_hidden_layers=4, \n",
        "                 n_classes=10, random_state=42):\n",
        "        self.n_features        = n_features\n",
        "        self.n_hidden_features = n_hidden_features\n",
        "        self.n_hidden_layers   = n_hidden_layers\n",
        "        self.n_classes         = n_classes\n",
        "        torch.manual_seed(random_state) # reproducibility constant\n",
        "        self.parameters = [torch.normal(0, 0.001, (n_features, n_hidden_features))] \\\n",
        "                      + [torch.normal(0, 0.001, (n_hidden_features, n_hidden_features)) for _ in range(n_hidden_layers-1)] \\\n",
        "                      + [torch.normal(0, 0.001, (n_hidden_features, n_classes))]\n",
        "        self.bias   = [torch.normal(0, 0.001, (1, n_hidden_features))] \\\n",
        "                      + [torch.normal(0, 0.001, (1, n_hidden_features)) for _ in range(n_hidden_layers - 1)] \\\n",
        "                      + [torch.normal(0, 0.001, (1, n_classes))]\n",
        "        print(f\"Teta params={[p.shape for p in self.parameters]}\")\n",
        "        print(f\"Teta params={[p.shape for p in self.bias]}\")\n",
        "        print(f\"length of parameters: {len(self.parameters)}\")\n",
        "\n",
        "        self.z = [0 for _ in range(len(self.parameters))] # liste contenant le resultat des multiplications matricielles\n",
        "        self.a = [0 for _ in range(len(self.parameters))] # liste contenant le resultat des fonctions d'activations\n",
        "                \n",
        "        self.t        = 0\n",
        "        self.m_t      = [0 for _ in range(len(self.parameters))] # pour Adam: moyennes mobiles du gradient\n",
        "        self.m_t_bias = [0 for _ in range(len(self.bias))]\n",
        "        self.v_t      = [0 for _ in range(len(self.parameters))] # pour Adam: moyennes mobiles du carré du gradient\n",
        "        self.v_t_bias = [0 for _ in range(len(self.bias))]\n",
        "\n",
        "    def forward(self, x):\n",
        "        z_l = (x @ self.parameters[0]) + self.bias[0]       \n",
        "        a_l = relu_forward(z_l)\n",
        "        self.z[0] = z_l\n",
        "        self.a[0] = a_l\n",
        "        for i in range(1, self.n_hidden_layers, 1):\n",
        "            z_l = (a_l @ self.parameters[i]) + self.bias[i]\n",
        "            a_l = relu_forward(z_l)\n",
        "            self.z[i] = z_l\n",
        "            self.a[i] = a_l\n",
        "        z_l = (a_l @ self.parameters[-1]) + self.bias[-1]\n",
        "        a_l = softmax(z_l)\n",
        "        self.z[-1] = z_l\n",
        "        self.a[-1] = a_l\n",
        "        outputs = a_l\n",
        "        return outputs\n",
        "\n",
        "    def backward(self, y, y_pred, x):\n",
        "        weight_length = len(self.parameters)\n",
        "        batch_length = y_pred.shape[0]\n",
        "        gradients_weights = list()\n",
        "        gradients_bias    = list()\n",
        "        for i in range(weight_length-1, 0, -1):\n",
        "            if i == (weight_length-1):\n",
        "                delta_i = (y_pred - y)\n",
        "                grad = (self.a[i-1].transpose(0, 1) @ delta_i) / batch_length\n",
        "                bias_grad = delta_i.mean(0)\n",
        "                gradients_weights.append(grad)\n",
        "                gradients_bias.append(bias_grad)\n",
        "            else:\n",
        "                delta_weight = (delta_i.to(torch.float32) @ self.parameters[i+1].transpose(0, 1).to(torch.float32))\n",
        "                delta_i      = relu_backward(delta_weight, self.z[i])\n",
        "                grad         = (self.a[i-1].transpose(0, 1) @ delta_i) / batch_length\n",
        "                bias_grad = delta_i.mean(0)\n",
        "                gradients_bias.append(bias_grad)\n",
        "                gradients_weights.append(grad)\n",
        "                pass\n",
        "        delta_weight = (delta_i.to(torch.float32) @ self.parameters[1].transpose(0, 1).to(torch.float32))\n",
        "        delta_i      = relu_backward(delta_weight, self.z[0])\n",
        "        \n",
        "        # Weight Gradients\n",
        "        grad         = (x.transpose(0, 1) @ delta_i) / batch_length\n",
        "        gradients_weights.append(grad)\n",
        "        \n",
        "        # Bias Gradients\n",
        "        bias_grad = delta_i.mean(0)\n",
        "        gradients_bias.append(bias_grad)\n",
        "        \n",
        "        gradients_weights = list(reversed(gradients_weights))\n",
        "        gradients_bias = list(reversed(gradients_bias))\n",
        "\n",
        "        return gradients_weights, gradients_bias\n",
        "\n",
        "    def sgd_update(self, lr, grads, grads_bias):\n",
        "        len_weights = len(self.parameters)\n",
        "\n",
        "        for i in range(len_weights):\n",
        "            self.parameters[i] = self.parameters[i] - (lr * grads[i])\n",
        "            self.bias[i] = self.bias[i] - (lr * grads_bias[i])\n",
        "        \n",
        "    \n",
        "    def adam_update(self, lr, grads, grads_bias):\n",
        "        self.t += 1\n",
        "        \n",
        "        len_weights = len(self.parameters)\n",
        "        beta_1 = 0.9\n",
        "        beta_2 = 0.999\n",
        "        epsilon = 1e-8\n",
        "        m_t_prev      = deepcopy(self.m_t)\n",
        "        m_t_bias_prev = deepcopy(self.m_t_bias)\n",
        "        v_t_prev      = deepcopy(self.v_t)\n",
        "        v_t_bias_prev = deepcopy(self.v_t_bias)\n",
        "\n",
        "\n",
        "        for i in range(len_weights):\n",
        "            self.m_t[i] = beta_1*m_t_prev[i] + (1 - beta_1)*grads[i]\n",
        "            self.m_t_bias[i] = beta_1*m_t_bias_prev[i] + (1 - beta_1)*grads_bias[i]\n",
        "\n",
        "            self.v_t[i] = beta_2*v_t_prev[i] + (1-beta_2)*(grads[i]**2)\n",
        "            self.v_t_bias[i] = beta_2*v_t_bias_prev[i] + (1-beta_2)*(grads_bias[i]**2)\n",
        "\n",
        "            m_t_corrected = self.m_t[i] / (1-(beta_1**self.t))\n",
        "            m_t_bias_corrected = self.m_t_bias[i]/(1 - (beta_1**self.t))\n",
        "            v_t_corrected = torch.abs(self.v_t[i]/(1 - (beta_2**self.t)))\n",
        "            v_t_bias_corrected = torch.abs(self.v_t_bias[i]/(1 - (beta_2**self.t)))\n",
        "\n",
        "            self.parameters[i] = self.parameters[i] - lr * (m_t_corrected/(torch.sqrt(v_t_corrected) + epsilon))\n",
        "            self.bias[i] = self.bias[i] - lr * (m_t_bias_corrected/(torch.sqrt(v_t_bias_corrected) + epsilon))\n",
        "        \n",
        "                    \n",
        "\n",
        "def train(model, lr=0.1, nb_epochs=10, sgd=True, data_loader_train=None, data_loader_val=None):\n",
        "    best_model = None\n",
        "    best_val_accuracy = 0\n",
        "    logger = Logger()\n",
        "\n",
        "    for epoch in range(nb_epochs+1):\n",
        "\n",
        "        # at epoch 0 evaluate random initial model\n",
        "        #   then for subsequent epochs, do optimize before evaluation.\n",
        "        if epoch > 0:\n",
        "            for x, y in data_loader_train:\n",
        "                x, y = reshape_input(x, y)\n",
        "\n",
        "                y_pred = model.forward(x)\n",
        "                grads_, grads_bias_  = model.backward(y, y_pred, x)\n",
        "                \n",
        "                if sgd:\n",
        "                    model.sgd_update(lr, grads_, grads_bias_)\n",
        "                else:\n",
        "                    model.adam_update(lr, grads_, grads_bias_)\n",
        "        \n",
        "        accuracy_train, loss_train = accuracy_and_loss_whole_dataset(data_loader_train, model)\n",
        "        accuracy_val, loss_val = accuracy_and_loss_whole_dataset(data_loader_val, model)\n",
        "        if accuracy_val > best_val_accuracy:\n",
        "            best_val_accuracy = accuracy_val\n",
        "            best_accuracy = accuracy_train\n",
        "            best_model = model\n",
        "\n",
        "        logger.log(accuracy_train, loss_train, accuracy_val, loss_val)\n",
        "        if epoch % 5 == 0: # prints every 5 epochs, you can change it to % 1 for example to print each epoch\n",
        "            print(f\"Epoch {epoch:2d}, \\\n",
        "                    Train:loss={loss_train:.3f}, accuracy={accuracy_train.item()*100:.1f}%, \\\n",
        "                    Valid: loss={loss_val:.3f}, accuracy={accuracy_val.item()*100:.1f}%\", flush=True)\n",
        "\n",
        "    return best_model, best_val_accuracy, logger\n",
        "\n",
        "\n"
      ]
    },
    {
      "cell_type": "markdown",
      "metadata": {
        "id": "tIe9DFvPwuQg"
      },
      "source": [
        "## Évaluation"
      ]
    },
    {
      "cell_type": "markdown",
      "metadata": {
        "id": "ml5jUvG9AUXK"
      },
      "source": [
        "### SGD: Recherche d'hyperparamètres"
      ]
    },
    {
      "cell_type": "code",
      "execution_count": null,
      "metadata": {
        "colab": {
          "background_save": true,
          "base_uri": "https://localhost:8080/"
        },
        "id": "fe7hyN63AUXL",
        "outputId": "2fcd4196-1059-48e5-bc57-a4a18a6e0bd8"
      },
      "outputs": [
        {
          "name": "stdout",
          "output_type": "stream",
          "text": [
            "------------------------------------------------------------------\n",
            "Training model with a depth of 1 layers and a width of 25 units\n",
            "Teta params=[torch.Size([784, 25]), torch.Size([25, 10])]\n",
            "Teta params=[torch.Size([1, 25]), torch.Size([1, 10])]\n",
            "length of parameters: 2\n",
            "Epoch  0,                     Train:loss=2.303, accuracy=10.1%,                     Valid: loss=2.303, accuracy=9.4%\n",
            "Epoch  5,                     Train:loss=2.068, accuracy=18.2%,                     Valid: loss=2.071, accuracy=18.6%\n",
            "Epoch 10,                     Train:loss=1.268, accuracy=54.0%,                     Valid: loss=1.266, accuracy=53.7%\n",
            "Epoch 15,                     Train:loss=0.960, accuracy=65.0%,                     Valid: loss=0.958, accuracy=64.5%\n",
            "Epoch 20,                     Train:loss=0.818, accuracy=69.2%,                     Valid: loss=0.813, accuracy=69.4%\n",
            "Epoch 25,                     Train:loss=0.744, accuracy=72.9%,                     Valid: loss=0.737, accuracy=73.3%\n",
            "Epoch 30,                     Train:loss=0.693, accuracy=75.0%,                     Valid: loss=0.685, accuracy=75.3%\n",
            "Epoch 35,                     Train:loss=0.655, accuracy=76.8%,                     Valid: loss=0.647, accuracy=77.0%\n",
            "Epoch 40,                     Train:loss=0.625, accuracy=78.1%,                     Valid: loss=0.617, accuracy=78.2%\n",
            "validation accuracy = 78.167\n",
            "------------------------------------------------------------------\n",
            "Training model with a depth of 1 layers and a width of 100 units\n",
            "Teta params=[torch.Size([784, 100]), torch.Size([100, 10])]\n",
            "Teta params=[torch.Size([1, 100]), torch.Size([1, 10])]\n",
            "length of parameters: 2\n",
            "Epoch  0,                     Train:loss=2.303, accuracy=10.0%,                     Valid: loss=2.303, accuracy=10.3%\n",
            "Epoch  5,                     Train:loss=1.897, accuracy=36.1%,                     Valid: loss=1.898, accuracy=36.2%\n",
            "Epoch 10,                     Train:loss=1.159, accuracy=58.4%,                     Valid: loss=1.166, accuracy=58.0%\n",
            "Epoch 15,                     Train:loss=0.899, accuracy=66.4%,                     Valid: loss=0.910, accuracy=65.6%\n",
            "Epoch 20,                     Train:loss=0.787, accuracy=70.3%,                     Valid: loss=0.799, accuracy=69.5%\n",
            "Epoch 25,                     Train:loss=0.723, accuracy=73.7%,                     Valid: loss=0.736, accuracy=73.3%\n",
            "Epoch 30,                     Train:loss=0.677, accuracy=75.4%,                     Valid: loss=0.690, accuracy=75.3%\n",
            "Epoch 35,                     Train:loss=0.641, accuracy=77.2%,                     Valid: loss=0.653, accuracy=76.9%\n",
            "Epoch 40,                     Train:loss=0.613, accuracy=78.4%,                     Valid: loss=0.625, accuracy=77.9%\n",
            "validation accuracy = 77.933\n",
            "------------------------------------------------------------------\n",
            "Training model with a depth of 1 layers and a width of 300 units\n",
            "Teta params=[torch.Size([784, 300]), torch.Size([300, 10])]\n",
            "Teta params=[torch.Size([1, 300]), torch.Size([1, 10])]\n",
            "length of parameters: 2\n",
            "Epoch  0,                     Train:loss=2.303, accuracy=10.0%,                     Valid: loss=2.303, accuracy=9.9%\n",
            "Epoch  5,                     Train:loss=1.737, accuracy=39.2%,                     Valid: loss=1.737, accuracy=39.6%\n",
            "Epoch 10,                     Train:loss=1.085, accuracy=60.6%,                     Valid: loss=1.076, accuracy=61.6%\n",
            "Epoch 15,                     Train:loss=0.862, accuracy=67.8%,                     Valid: loss=0.848, accuracy=68.7%\n",
            "Epoch 20,                     Train:loss=0.767, accuracy=71.2%,                     Valid: loss=0.749, accuracy=72.3%\n",
            "Epoch 25,                     Train:loss=0.708, accuracy=74.1%,                     Valid: loss=0.686, accuracy=75.4%\n",
            "Epoch 30,                     Train:loss=0.664, accuracy=76.2%,                     Valid: loss=0.640, accuracy=77.1%\n",
            "Epoch 35,                     Train:loss=0.629, accuracy=78.0%,                     Valid: loss=0.604, accuracy=79.1%\n",
            "Epoch 40,                     Train:loss=0.600, accuracy=79.1%,                     Valid: loss=0.574, accuracy=80.2%\n",
            "validation accuracy = 80.183\n",
            "------------------------------------------------------------------\n",
            "Training model with a depth of 1 layers and a width of 500 units\n",
            "Teta params=[torch.Size([784, 500]), torch.Size([500, 10])]\n",
            "Teta params=[torch.Size([1, 500]), torch.Size([1, 10])]\n",
            "length of parameters: 2\n",
            "Epoch  0,                     Train:loss=2.303, accuracy=10.0%,                     Valid: loss=2.303, accuracy=9.7%\n",
            "Epoch  5,                     Train:loss=1.674, accuracy=40.2%,                     Valid: loss=1.676, accuracy=39.9%\n",
            "Epoch 10,                     Train:loss=1.055, accuracy=61.7%,                     Valid: loss=1.064, accuracy=60.7%\n",
            "Epoch 15,                     Train:loss=0.842, accuracy=68.4%,                     Valid: loss=0.857, accuracy=67.4%\n",
            "Epoch 20,                     Train:loss=0.753, accuracy=71.6%,                     Valid: loss=0.772, accuracy=70.7%\n",
            "Epoch 25,                     Train:loss=0.697, accuracy=74.8%,                     Valid: loss=0.716, accuracy=73.5%\n",
            "Epoch 30,                     Train:loss=0.654, accuracy=76.8%,                     Valid: loss=0.671, accuracy=75.6%\n",
            "Epoch 35,                     Train:loss=0.618, accuracy=78.3%,                     Valid: loss=0.635, accuracy=77.7%\n",
            "Epoch 40,                     Train:loss=0.590, accuracy=79.6%,                     Valid: loss=0.606, accuracy=78.9%\n",
            "validation accuracy = 78.900\n",
            "------------------------------------------------------------------\n",
            "Training model with a depth of 1 layers and a width of 1000 units\n",
            "Teta params=[torch.Size([784, 1000]), torch.Size([1000, 10])]\n",
            "Teta params=[torch.Size([1, 1000]), torch.Size([1, 10])]\n",
            "length of parameters: 2\n",
            "Epoch  0,                     Train:loss=2.303, accuracy=10.0%,                     Valid: loss=2.303, accuracy=10.0%\n",
            "Epoch  5,                     Train:loss=1.593, accuracy=42.2%,                     Valid: loss=1.593, accuracy=42.3%\n",
            "Epoch 10,                     Train:loss=1.012, accuracy=63.7%,                     Valid: loss=1.008, accuracy=62.9%\n",
            "Epoch 15,                     Train:loss=0.821, accuracy=68.5%,                     Valid: loss=0.818, accuracy=67.9%\n",
            "Epoch 20,                     Train:loss=0.739, accuracy=72.5%,                     Valid: loss=0.740, accuracy=72.1%\n",
            "Epoch 25,                     Train:loss=0.684, accuracy=75.4%,                     Valid: loss=0.686, accuracy=74.7%\n",
            "Epoch 30,                     Train:loss=0.640, accuracy=77.5%,                     Valid: loss=0.643, accuracy=77.2%\n",
            "Epoch 35,                     Train:loss=0.605, accuracy=79.0%,                     Valid: loss=0.610, accuracy=78.6%\n",
            "Epoch 40,                     Train:loss=0.578, accuracy=80.2%,                     Valid: loss=0.583, accuracy=79.7%\n",
            "validation accuracy = 79.717\n",
            "------------------------------------------------------------------\n",
            "Training model with a depth of 3 layers and a width of 25 units\n",
            "Teta params=[torch.Size([784, 25]), torch.Size([25, 25]), torch.Size([25, 25]), torch.Size([25, 10])]\n",
            "Teta params=[torch.Size([1, 25]), torch.Size([1, 25]), torch.Size([1, 25]), torch.Size([1, 10])]\n",
            "length of parameters: 4\n",
            "Epoch  0,                     Train:loss=2.303, accuracy=10.0%,                     Valid: loss=2.303, accuracy=10.2%\n",
            "Epoch  5,                     Train:loss=2.303, accuracy=10.1%,                     Valid: loss=2.303, accuracy=9.3%\n",
            "Epoch 10,                     Train:loss=2.303, accuracy=10.1%,                     Valid: loss=2.303, accuracy=9.3%\n",
            "Epoch 15,                     Train:loss=2.303, accuracy=10.1%,                     Valid: loss=2.303, accuracy=9.3%\n",
            "Epoch 20,                     Train:loss=2.303, accuracy=10.1%,                     Valid: loss=2.303, accuracy=9.3%\n",
            "Epoch 25,                     Train:loss=2.303, accuracy=10.1%,                     Valid: loss=2.303, accuracy=9.3%\n",
            "Epoch 30,                     Train:loss=2.303, accuracy=10.1%,                     Valid: loss=2.303, accuracy=9.3%\n",
            "Epoch 35,                     Train:loss=2.303, accuracy=10.1%,                     Valid: loss=2.303, accuracy=9.3%\n",
            "Epoch 40,                     Train:loss=2.303, accuracy=10.1%,                     Valid: loss=2.303, accuracy=9.3%\n",
            "validation accuracy = 10.183\n",
            "------------------------------------------------------------------\n",
            "Training model with a depth of 3 layers and a width of 100 units\n",
            "Teta params=[torch.Size([784, 100]), torch.Size([100, 100]), torch.Size([100, 100]), torch.Size([100, 10])]\n",
            "Teta params=[torch.Size([1, 100]), torch.Size([1, 100]), torch.Size([1, 100]), torch.Size([1, 10])]\n",
            "length of parameters: 4\n",
            "Epoch  0,                     Train:loss=2.303, accuracy=10.0%,                     Valid: loss=2.303, accuracy=9.8%\n",
            "Epoch  5,                     Train:loss=2.303, accuracy=10.1%,                     Valid: loss=2.303, accuracy=9.5%\n",
            "Epoch 10,                     Train:loss=2.303, accuracy=10.1%,                     Valid: loss=2.303, accuracy=9.5%\n",
            "Epoch 15,                     Train:loss=2.303, accuracy=10.1%,                     Valid: loss=2.303, accuracy=9.5%\n",
            "Epoch 20,                     Train:loss=2.303, accuracy=10.1%,                     Valid: loss=2.303, accuracy=9.5%\n",
            "Epoch 25,                     Train:loss=2.303, accuracy=10.1%,                     Valid: loss=2.303, accuracy=9.5%\n",
            "Epoch 30,                     Train:loss=2.303, accuracy=10.1%,                     Valid: loss=2.303, accuracy=9.5%\n",
            "Epoch 35,                     Train:loss=2.303, accuracy=10.1%,                     Valid: loss=2.303, accuracy=9.5%\n",
            "Epoch 40,                     Train:loss=2.303, accuracy=10.1%,                     Valid: loss=2.303, accuracy=9.5%\n",
            "validation accuracy = 9.800\n",
            "------------------------------------------------------------------\n",
            "Training model with a depth of 3 layers and a width of 300 units\n",
            "Teta params=[torch.Size([784, 300]), torch.Size([300, 300]), torch.Size([300, 300]), torch.Size([300, 10])]\n",
            "Teta params=[torch.Size([1, 300]), torch.Size([1, 300]), torch.Size([1, 300]), torch.Size([1, 10])]\n",
            "length of parameters: 4\n",
            "Epoch  0,                     Train:loss=2.303, accuracy=10.1%,                     Valid: loss=2.303, accuracy=9.4%\n",
            "Epoch  5,                     Train:loss=2.303, accuracy=10.1%,                     Valid: loss=2.303, accuracy=9.4%\n",
            "Epoch 10,                     Train:loss=2.303, accuracy=10.1%,                     Valid: loss=2.303, accuracy=9.4%\n",
            "Epoch 15,                     Train:loss=2.303, accuracy=10.1%,                     Valid: loss=2.303, accuracy=9.3%\n",
            "Epoch 20,                     Train:loss=2.303, accuracy=10.1%,                     Valid: loss=2.303, accuracy=9.3%\n",
            "Epoch 25,                     Train:loss=2.303, accuracy=10.1%,                     Valid: loss=2.303, accuracy=9.3%\n",
            "Epoch 30,                     Train:loss=2.303, accuracy=10.1%,                     Valid: loss=2.303, accuracy=9.3%\n",
            "Epoch 35,                     Train:loss=2.303, accuracy=10.1%,                     Valid: loss=2.303, accuracy=9.3%\n",
            "Epoch 40,                     Train:loss=2.303, accuracy=10.1%,                     Valid: loss=2.303, accuracy=9.3%\n",
            "validation accuracy = 9.400\n",
            "------------------------------------------------------------------\n",
            "Training model with a depth of 3 layers and a width of 500 units\n",
            "Teta params=[torch.Size([784, 500]), torch.Size([500, 500]), torch.Size([500, 500]), torch.Size([500, 10])]\n",
            "Teta params=[torch.Size([1, 500]), torch.Size([1, 500]), torch.Size([1, 500]), torch.Size([1, 10])]\n",
            "length of parameters: 4\n",
            "Epoch  0,                     Train:loss=2.303, accuracy=10.0%,                     Valid: loss=2.303, accuracy=10.2%\n",
            "Epoch  5,                     Train:loss=2.303, accuracy=10.1%,                     Valid: loss=2.303, accuracy=9.5%\n",
            "Epoch 10,                     Train:loss=2.303, accuracy=10.1%,                     Valid: loss=2.303, accuracy=9.5%\n",
            "Epoch 15,                     Train:loss=2.303, accuracy=10.1%,                     Valid: loss=2.303, accuracy=9.5%\n",
            "Epoch 20,                     Train:loss=2.303, accuracy=10.1%,                     Valid: loss=2.303, accuracy=9.5%\n",
            "Epoch 25,                     Train:loss=2.303, accuracy=10.1%,                     Valid: loss=2.303, accuracy=9.5%\n",
            "Epoch 30,                     Train:loss=2.303, accuracy=10.1%,                     Valid: loss=2.303, accuracy=9.5%\n",
            "Epoch 35,                     Train:loss=2.303, accuracy=10.0%,                     Valid: loss=2.303, accuracy=9.6%\n",
            "Epoch 40,                     Train:loss=2.303, accuracy=10.1%,                     Valid: loss=2.303, accuracy=9.5%\n",
            "validation accuracy = 10.217\n",
            "------------------------------------------------------------------\n",
            "Training model with a depth of 3 layers and a width of 1000 units\n",
            "Teta params=[torch.Size([784, 1000]), torch.Size([1000, 1000]), torch.Size([1000, 1000]), torch.Size([1000, 10])]\n",
            "Teta params=[torch.Size([1, 1000]), torch.Size([1, 1000]), torch.Size([1, 1000]), torch.Size([1, 10])]\n",
            "length of parameters: 4\n",
            "Epoch  0,                     Train:loss=2.303, accuracy=10.0%,                     Valid: loss=2.303, accuracy=10.0%\n",
            "Epoch  5,                     Train:loss=2.303, accuracy=10.1%,                     Valid: loss=2.303, accuracy=9.5%\n",
            "Epoch 10,                     Train:loss=2.303, accuracy=10.1%,                     Valid: loss=2.303, accuracy=9.5%\n",
            "Epoch 15,                     Train:loss=2.303, accuracy=10.1%,                     Valid: loss=2.303, accuracy=9.5%\n",
            "Epoch 20,                     Train:loss=2.303, accuracy=10.1%,                     Valid: loss=2.303, accuracy=9.5%\n",
            "Epoch 25,                     Train:loss=2.303, accuracy=10.1%,                     Valid: loss=2.303, accuracy=9.5%\n",
            "Epoch 30,                     Train:loss=2.303, accuracy=10.1%,                     Valid: loss=2.303, accuracy=9.5%\n",
            "Epoch 35,                     Train:loss=2.303, accuracy=10.1%,                     Valid: loss=2.303, accuracy=9.5%\n",
            "Epoch 40,                     Train:loss=2.303, accuracy=10.1%,                     Valid: loss=2.303, accuracy=9.5%\n",
            "validation accuracy = 9.950\n",
            "------------------------------------------------------------------\n",
            "Training model with a depth of 5 layers and a width of 25 units\n",
            "Teta params=[torch.Size([784, 25]), torch.Size([25, 25]), torch.Size([25, 25]), torch.Size([25, 25]), torch.Size([25, 25]), torch.Size([25, 10])]\n",
            "Teta params=[torch.Size([1, 25]), torch.Size([1, 25]), torch.Size([1, 25]), torch.Size([1, 25]), torch.Size([1, 25]), torch.Size([1, 10])]\n",
            "length of parameters: 6\n",
            "Epoch  0,                     Train:loss=2.303, accuracy=10.0%,                     Valid: loss=2.303, accuracy=10.1%\n",
            "Epoch  5,                     Train:loss=2.303, accuracy=10.1%,                     Valid: loss=2.303, accuracy=9.3%\n",
            "Epoch 10,                     Train:loss=2.303, accuracy=10.1%,                     Valid: loss=2.303, accuracy=9.3%\n",
            "Epoch 15,                     Train:loss=2.303, accuracy=10.1%,                     Valid: loss=2.303, accuracy=9.3%\n",
            "Epoch 20,                     Train:loss=2.303, accuracy=10.1%,                     Valid: loss=2.303, accuracy=9.3%\n",
            "Epoch 25,                     Train:loss=2.303, accuracy=10.1%,                     Valid: loss=2.303, accuracy=9.3%\n",
            "Epoch 30,                     Train:loss=2.303, accuracy=10.1%,                     Valid: loss=2.303, accuracy=9.3%\n",
            "Epoch 35,                     Train:loss=2.303, accuracy=10.1%,                     Valid: loss=2.303, accuracy=9.3%\n",
            "Epoch 40,                     Train:loss=2.303, accuracy=10.1%,                     Valid: loss=2.303, accuracy=9.3%\n",
            "validation accuracy = 10.117\n",
            "------------------------------------------------------------------\n",
            "Training model with a depth of 5 layers and a width of 100 units\n",
            "Teta params=[torch.Size([784, 100]), torch.Size([100, 100]), torch.Size([100, 100]), torch.Size([100, 100]), torch.Size([100, 100]), torch.Size([100, 10])]\n",
            "Teta params=[torch.Size([1, 100]), torch.Size([1, 100]), torch.Size([1, 100]), torch.Size([1, 100]), torch.Size([1, 100]), torch.Size([1, 10])]\n",
            "length of parameters: 6\n",
            "Epoch  0,                     Train:loss=2.303, accuracy=10.0%,                     Valid: loss=2.303, accuracy=9.8%\n",
            "Epoch  5,                     Train:loss=2.303, accuracy=10.1%,                     Valid: loss=2.303, accuracy=9.4%\n",
            "Epoch 10,                     Train:loss=2.303, accuracy=10.1%,                     Valid: loss=2.303, accuracy=9.4%\n",
            "Epoch 15,                     Train:loss=2.303, accuracy=10.1%,                     Valid: loss=2.303, accuracy=9.4%\n",
            "Epoch 20,                     Train:loss=2.303, accuracy=10.1%,                     Valid: loss=2.303, accuracy=9.4%\n",
            "Epoch 25,                     Train:loss=2.303, accuracy=10.1%,                     Valid: loss=2.303, accuracy=9.4%\n",
            "Epoch 30,                     Train:loss=2.303, accuracy=10.1%,                     Valid: loss=2.303, accuracy=9.4%\n",
            "Epoch 35,                     Train:loss=2.303, accuracy=10.1%,                     Valid: loss=2.303, accuracy=9.4%\n",
            "Epoch 40,                     Train:loss=2.303, accuracy=10.1%,                     Valid: loss=2.303, accuracy=9.4%\n",
            "validation accuracy = 9.783\n",
            "------------------------------------------------------------------\n",
            "Training model with a depth of 5 layers and a width of 300 units\n",
            "Teta params=[torch.Size([784, 300]), torch.Size([300, 300]), torch.Size([300, 300]), torch.Size([300, 300]), torch.Size([300, 300]), torch.Size([300, 10])]\n",
            "Teta params=[torch.Size([1, 300]), torch.Size([1, 300]), torch.Size([1, 300]), torch.Size([1, 300]), torch.Size([1, 300]), torch.Size([1, 10])]\n",
            "length of parameters: 6\n",
            "Epoch  0,                     Train:loss=2.303, accuracy=9.9%,                     Valid: loss=2.303, accuracy=10.6%\n",
            "Epoch  5,                     Train:loss=2.303, accuracy=10.0%,                     Valid: loss=2.303, accuracy=9.7%\n",
            "Epoch 10,                     Train:loss=2.303, accuracy=10.1%,                     Valid: loss=2.303, accuracy=9.3%\n",
            "Epoch 15,                     Train:loss=2.303, accuracy=10.1%,                     Valid: loss=2.303, accuracy=9.3%\n",
            "Epoch 20,                     Train:loss=2.303, accuracy=10.1%,                     Valid: loss=2.303, accuracy=9.3%\n",
            "Epoch 25,                     Train:loss=2.303, accuracy=10.1%,                     Valid: loss=2.303, accuracy=9.3%\n",
            "Epoch 30,                     Train:loss=2.303, accuracy=10.1%,                     Valid: loss=2.303, accuracy=9.3%\n",
            "Epoch 35,                     Train:loss=2.303, accuracy=10.1%,                     Valid: loss=2.303, accuracy=9.3%\n",
            "Epoch 40,                     Train:loss=2.303, accuracy=10.1%,                     Valid: loss=2.303, accuracy=9.3%\n",
            "validation accuracy = 10.617\n",
            "------------------------------------------------------------------\n",
            "Training model with a depth of 5 layers and a width of 500 units\n",
            "Teta params=[torch.Size([784, 500]), torch.Size([500, 500]), torch.Size([500, 500]), torch.Size([500, 500]), torch.Size([500, 500]), torch.Size([500, 10])]\n",
            "Teta params=[torch.Size([1, 500]), torch.Size([1, 500]), torch.Size([1, 500]), torch.Size([1, 500]), torch.Size([1, 500]), torch.Size([1, 10])]\n",
            "length of parameters: 6\n",
            "Epoch  0,                     Train:loss=2.303, accuracy=10.1%,                     Valid: loss=2.303, accuracy=9.5%\n",
            "Epoch  5,                     Train:loss=2.303, accuracy=10.1%,                     Valid: loss=2.303, accuracy=9.0%\n",
            "Epoch 10,                     Train:loss=2.303, accuracy=10.1%,                     Valid: loss=2.303, accuracy=9.0%\n",
            "Epoch 15,                     Train:loss=2.303, accuracy=10.1%,                     Valid: loss=2.303, accuracy=9.0%\n",
            "Epoch 20,                     Train:loss=2.303, accuracy=10.1%,                     Valid: loss=2.303, accuracy=9.0%\n",
            "Epoch 25,                     Train:loss=2.303, accuracy=10.1%,                     Valid: loss=2.303, accuracy=9.0%\n",
            "Epoch 30,                     Train:loss=2.303, accuracy=10.1%,                     Valid: loss=2.303, accuracy=9.0%\n",
            "Epoch 35,                     Train:loss=2.303, accuracy=10.1%,                     Valid: loss=2.303, accuracy=9.0%\n",
            "Epoch 40,                     Train:loss=2.303, accuracy=10.1%,                     Valid: loss=2.303, accuracy=9.0%\n",
            "validation accuracy = 9.517\n",
            "------------------------------------------------------------------\n",
            "Training model with a depth of 5 layers and a width of 1000 units\n",
            "Teta params=[torch.Size([784, 1000]), torch.Size([1000, 1000]), torch.Size([1000, 1000]), torch.Size([1000, 1000]), torch.Size([1000, 1000]), torch.Size([1000, 10])]\n",
            "Teta params=[torch.Size([1, 1000]), torch.Size([1, 1000]), torch.Size([1, 1000]), torch.Size([1, 1000]), torch.Size([1, 1000]), torch.Size([1, 10])]\n",
            "length of parameters: 6\n",
            "Epoch  0,                     Train:loss=2.303, accuracy=10.0%,                     Valid: loss=2.303, accuracy=10.0%\n",
            "Epoch  5,                     Train:loss=2.303, accuracy=10.1%,                     Valid: loss=2.303, accuracy=9.1%\n",
            "Epoch 10,                     Train:loss=2.303, accuracy=10.1%,                     Valid: loss=2.303, accuracy=9.1%\n",
            "Epoch 15,                     Train:loss=2.303, accuracy=10.1%,                     Valid: loss=2.303, accuracy=9.1%\n",
            "Epoch 20,                     Train:loss=2.303, accuracy=10.1%,                     Valid: loss=2.303, accuracy=9.1%\n",
            "Epoch 25,                     Train:loss=2.303, accuracy=10.1%,                     Valid: loss=2.303, accuracy=9.1%\n",
            "Epoch 30,                     Train:loss=2.303, accuracy=10.1%,                     Valid: loss=2.303, accuracy=9.1%\n",
            "Epoch 35,                     Train:loss=2.303, accuracy=10.1%,                     Valid: loss=2.303, accuracy=9.1%\n",
            "Epoch 40,                     Train:loss=2.303, accuracy=10.1%,                     Valid: loss=2.303, accuracy=9.1%\n",
            "validation accuracy = 9.950\n",
            "------------------------------------------------------------------\n",
            "Training model with a depth of 7 layers and a width of 25 units\n",
            "Teta params=[torch.Size([784, 25]), torch.Size([25, 25]), torch.Size([25, 25]), torch.Size([25, 25]), torch.Size([25, 25]), torch.Size([25, 25]), torch.Size([25, 25]), torch.Size([25, 10])]\n",
            "Teta params=[torch.Size([1, 25]), torch.Size([1, 25]), torch.Size([1, 25]), torch.Size([1, 25]), torch.Size([1, 25]), torch.Size([1, 25]), torch.Size([1, 25]), torch.Size([1, 10])]\n",
            "length of parameters: 8\n",
            "Epoch  0,                     Train:loss=2.303, accuracy=9.9%,                     Valid: loss=2.303, accuracy=10.8%\n",
            "Epoch  5,                     Train:loss=2.303, accuracy=10.1%,                     Valid: loss=2.303, accuracy=9.5%\n",
            "Epoch 10,                     Train:loss=2.303, accuracy=10.1%,                     Valid: loss=2.303, accuracy=9.5%\n",
            "Epoch 15,                     Train:loss=2.303, accuracy=10.1%,                     Valid: loss=2.303, accuracy=9.5%\n",
            "Epoch 20,                     Train:loss=2.303, accuracy=10.1%,                     Valid: loss=2.303, accuracy=9.5%\n",
            "Epoch 25,                     Train:loss=2.303, accuracy=10.1%,                     Valid: loss=2.303, accuracy=9.5%\n",
            "Epoch 30,                     Train:loss=2.303, accuracy=10.1%,                     Valid: loss=2.303, accuracy=9.5%\n",
            "Epoch 35,                     Train:loss=2.303, accuracy=10.1%,                     Valid: loss=2.303, accuracy=9.5%\n",
            "Epoch 40,                     Train:loss=2.303, accuracy=10.1%,                     Valid: loss=2.303, accuracy=9.5%\n",
            "validation accuracy = 10.817\n",
            "------------------------------------------------------------------\n",
            "Training model with a depth of 7 layers and a width of 100 units\n",
            "Teta params=[torch.Size([784, 100]), torch.Size([100, 100]), torch.Size([100, 100]), torch.Size([100, 100]), torch.Size([100, 100]), torch.Size([100, 100]), torch.Size([100, 100]), torch.Size([100, 10])]\n",
            "Teta params=[torch.Size([1, 100]), torch.Size([1, 100]), torch.Size([1, 100]), torch.Size([1, 100]), torch.Size([1, 100]), torch.Size([1, 100]), torch.Size([1, 100]), torch.Size([1, 10])]\n",
            "length of parameters: 8\n",
            "Epoch  0,                     Train:loss=2.303, accuracy=10.0%,                     Valid: loss=2.303, accuracy=10.1%\n",
            "Epoch  5,                     Train:loss=2.303, accuracy=10.1%,                     Valid: loss=2.303, accuracy=9.3%\n",
            "Epoch 10,                     Train:loss=2.303, accuracy=10.1%,                     Valid: loss=2.303, accuracy=9.3%\n",
            "Epoch 15,                     Train:loss=2.303, accuracy=10.1%,                     Valid: loss=2.303, accuracy=9.3%\n",
            "Epoch 20,                     Train:loss=2.303, accuracy=10.1%,                     Valid: loss=2.303, accuracy=9.3%\n",
            "Epoch 25,                     Train:loss=2.303, accuracy=10.1%,                     Valid: loss=2.303, accuracy=9.3%\n",
            "Epoch 30,                     Train:loss=2.303, accuracy=10.1%,                     Valid: loss=2.303, accuracy=9.3%\n",
            "Epoch 35,                     Train:loss=2.303, accuracy=10.1%,                     Valid: loss=2.303, accuracy=9.3%\n",
            "Epoch 40,                     Train:loss=2.303, accuracy=10.1%,                     Valid: loss=2.303, accuracy=9.3%\n",
            "validation accuracy = 10.050\n",
            "------------------------------------------------------------------\n",
            "Training model with a depth of 7 layers and a width of 300 units\n",
            "Teta params=[torch.Size([784, 300]), torch.Size([300, 300]), torch.Size([300, 300]), torch.Size([300, 300]), torch.Size([300, 300]), torch.Size([300, 300]), torch.Size([300, 300]), torch.Size([300, 10])]\n",
            "Teta params=[torch.Size([1, 300]), torch.Size([1, 300]), torch.Size([1, 300]), torch.Size([1, 300]), torch.Size([1, 300]), torch.Size([1, 300]), torch.Size([1, 300]), torch.Size([1, 10])]\n",
            "length of parameters: 8\n",
            "Epoch  0,                     Train:loss=2.303, accuracy=9.9%,                     Valid: loss=2.303, accuracy=10.6%\n",
            "Epoch  5,                     Train:loss=2.303, accuracy=10.1%,                     Valid: loss=2.303, accuracy=9.3%\n",
            "Epoch 10,                     Train:loss=2.303, accuracy=10.1%,                     Valid: loss=2.303, accuracy=9.3%\n",
            "Epoch 15,                     Train:loss=2.303, accuracy=10.1%,                     Valid: loss=2.303, accuracy=9.3%\n",
            "Epoch 20,                     Train:loss=2.303, accuracy=10.1%,                     Valid: loss=2.303, accuracy=9.3%\n",
            "Epoch 25,                     Train:loss=2.303, accuracy=10.1%,                     Valid: loss=2.303, accuracy=9.3%\n",
            "Epoch 30,                     Train:loss=2.303, accuracy=10.1%,                     Valid: loss=2.303, accuracy=9.3%\n",
            "Epoch 35,                     Train:loss=2.303, accuracy=10.1%,                     Valid: loss=2.303, accuracy=9.3%\n",
            "Epoch 40,                     Train:loss=2.303, accuracy=10.1%,                     Valid: loss=2.303, accuracy=9.3%\n",
            "validation accuracy = 10.633\n",
            "------------------------------------------------------------------\n",
            "Training model with a depth of 7 layers and a width of 500 units\n",
            "Teta params=[torch.Size([784, 500]), torch.Size([500, 500]), torch.Size([500, 500]), torch.Size([500, 500]), torch.Size([500, 500]), torch.Size([500, 500]), torch.Size([500, 500]), torch.Size([500, 10])]\n",
            "Teta params=[torch.Size([1, 500]), torch.Size([1, 500]), torch.Size([1, 500]), torch.Size([1, 500]), torch.Size([1, 500]), torch.Size([1, 500]), torch.Size([1, 500]), torch.Size([1, 10])]\n",
            "length of parameters: 8\n",
            "Epoch  0,                     Train:loss=2.303, accuracy=10.0%,                     Valid: loss=2.303, accuracy=10.0%\n",
            "Epoch  5,                     Train:loss=2.303, accuracy=10.1%,                     Valid: loss=2.303, accuracy=9.5%\n",
            "Epoch 10,                     Train:loss=2.303, accuracy=10.1%,                     Valid: loss=2.303, accuracy=9.4%\n",
            "Epoch 15,                     Train:loss=2.303, accuracy=10.1%,                     Valid: loss=2.303, accuracy=9.4%\n",
            "Epoch 20,                     Train:loss=2.303, accuracy=10.1%,                     Valid: loss=2.303, accuracy=9.4%\n",
            "Epoch 25,                     Train:loss=2.303, accuracy=10.1%,                     Valid: loss=2.303, accuracy=9.4%\n",
            "Epoch 30,                     Train:loss=2.303, accuracy=10.1%,                     Valid: loss=2.303, accuracy=9.4%\n",
            "Epoch 35,                     Train:loss=2.303, accuracy=10.1%,                     Valid: loss=2.303, accuracy=9.4%\n",
            "Epoch 40,                     Train:loss=2.303, accuracy=10.1%,                     Valid: loss=2.303, accuracy=9.4%\n",
            "validation accuracy = 9.967\n",
            "------------------------------------------------------------------\n",
            "Training model with a depth of 7 layers and a width of 1000 units\n",
            "Teta params=[torch.Size([784, 1000]), torch.Size([1000, 1000]), torch.Size([1000, 1000]), torch.Size([1000, 1000]), torch.Size([1000, 1000]), torch.Size([1000, 1000]), torch.Size([1000, 1000]), torch.Size([1000, 10])]\n",
            "Teta params=[torch.Size([1, 1000]), torch.Size([1, 1000]), torch.Size([1, 1000]), torch.Size([1, 1000]), torch.Size([1, 1000]), torch.Size([1, 1000]), torch.Size([1, 1000]), torch.Size([1, 10])]\n",
            "length of parameters: 8\n",
            "Epoch  0,                     Train:loss=2.303, accuracy=10.0%,                     Valid: loss=2.303, accuracy=10.4%\n",
            "Epoch  5,                     Train:loss=2.303, accuracy=10.0%,                     Valid: loss=2.303, accuracy=9.6%\n",
            "Epoch 10,                     Train:loss=2.303, accuracy=10.0%,                     Valid: loss=2.303, accuracy=9.6%\n",
            "Epoch 15,                     Train:loss=2.303, accuracy=10.0%,                     Valid: loss=2.303, accuracy=9.6%\n",
            "Epoch 20,                     Train:loss=2.303, accuracy=10.0%,                     Valid: loss=2.303, accuracy=9.6%\n",
            "Epoch 25,                     Train:loss=2.303, accuracy=10.0%,                     Valid: loss=2.303, accuracy=9.6%\n",
            "Epoch 30,                     Train:loss=2.303, accuracy=10.0%,                     Valid: loss=2.303, accuracy=9.6%\n",
            "Epoch 35,                     Train:loss=2.303, accuracy=10.0%,                     Valid: loss=2.303, accuracy=9.6%\n",
            "Epoch 40,                     Train:loss=2.303, accuracy=10.0%,                     Valid: loss=2.303, accuracy=9.6%\n",
            "validation accuracy = 10.417\n"
          ]
        }
      ],
      "source": [
        "# SGD\n",
        "# Montrez les résultats pour différents nombre de couche, e.g. 1, 3, 5, et différent nombres de neurone, e.g. 25, 100, 300, 500, 1000.\n",
        "depth_list = [1, 3, 5, 7]   # Define ranges in a list\n",
        "width_list = [25, 100, 300, 500, 1000]   # Define ranges in a list\n",
        "lr = 0.01           # Some value\n",
        "batch_size = 500   # Some value\n",
        "\n",
        "with torch.no_grad():\n",
        "  for depth in depth_list:\n",
        "    for width in width_list:\n",
        "      print(\"------------------------------------------------------------------\")\n",
        "      print(\"Training model with a depth of {0} layers and a width of {1} units\".format(depth, width))\n",
        "      data_loader_train, data_loader_val, data_loader_test = get_fashion_mnist_dataloaders(val_percentage=0.1, batch_size=batch_size)\n",
        "      \n",
        "      MLP_model = MLPModel(n_features=784, n_hidden_features=width, n_hidden_layers=depth, n_classes=10)\n",
        "      _, val_accuracy, _ = train(MLP_model,lr=lr, nb_epochs=40, sgd=True, data_loader_train=data_loader_train, data_loader_val=data_loader_val)\n",
        "      print(f\"validation accuracy = {val_accuracy*100:.3f}\")"
      ]
    },
    {
      "cell_type": "markdown",
      "metadata": {
        "id": "QnDMqFapAUXM"
      },
      "source": [
        "#### **Tableau pour la précision sur l'ensemble de validation**\n",
        "N.B. que les lignes correspondent aux nombre de couche et les colonnes correspondent au nombre de neurone dans chaque couche. Les valeurs ci-dessous sont donné comme exemples; remplacez-les par les valeurs que vous avez utilisées pour votre recherche d'hyperparamètres.\n",
        "\n",
        "depth\\width  | 25 | 100 | 300 | 500 | 1000 \n",
        "-------------------|------------------|------------------|------------------|------------------|------------------|\n",
        "**1**   | 78.1 | 77.9 | **80.2** | 78.9 | 79.7 |\n",
        "**3**   | 10.2 | 9.8 | 9.4 | 10.2 | 9.9 |\n",
        "**5**   | 10.1 | 9.8 | 10.6  | 9.5 | 10.0 |\n",
        "**7**   | 10.8 | 10.1 | 10.6 | 10.0 | 10.4 |"
      ]
    },
    {
      "cell_type": "markdown",
      "metadata": {
        "id": "2wuN-uw7AUXN"
      },
      "source": [
        "### SGD: Analyse du meilleur modèle"
      ]
    },
    {
      "cell_type": "code",
      "execution_count": null,
      "metadata": {
        "colab": {
          "base_uri": "https://localhost:8080/",
          "height": 1000
        },
        "id": "CShZ3VB0AUXN",
        "outputId": "229f68a5-4a04-4f9d-d6d4-7660ef88832b"
      },
      "outputs": [
        {
          "name": "stdout",
          "output_type": "stream",
          "text": [
            "Teta params=[torch.Size([784, 300]), torch.Size([300, 10])]\n",
            "Teta params=[torch.Size([1, 300]), torch.Size([1, 10])]\n",
            "length of parameters: 2\n",
            "Epoch  0,                     Train:loss=2.303, accuracy=10.0%,                     Valid: loss=2.303, accuracy=10.0%\n",
            "Epoch  5,                     Train:loss=1.738, accuracy=39.1%,                     Valid: loss=1.734, accuracy=39.9%\n",
            "Epoch 10,                     Train:loss=1.084, accuracy=61.2%,                     Valid: loss=1.082, accuracy=61.1%\n",
            "Epoch 15,                     Train:loss=0.861, accuracy=67.4%,                     Valid: loss=0.857, accuracy=67.9%\n",
            "Epoch 20,                     Train:loss=0.765, accuracy=71.7%,                     Valid: loss=0.762, accuracy=71.3%\n",
            "Epoch 25,                     Train:loss=0.705, accuracy=74.5%,                     Valid: loss=0.705, accuracy=74.1%\n",
            "Epoch 30,                     Train:loss=0.661, accuracy=76.4%,                     Valid: loss=0.661, accuracy=76.2%\n",
            "Epoch 35,                     Train:loss=0.625, accuracy=78.1%,                     Valid: loss=0.628, accuracy=77.8%\n",
            "Epoch 40,                     Train:loss=0.597, accuracy=79.3%,                     Valid: loss=0.600, accuracy=79.1%\n",
            "Epoch 45,                     Train:loss=0.572, accuracy=80.3%,                     Valid: loss=0.575, accuracy=80.3%\n",
            "Epoch 50,                     Train:loss=0.552, accuracy=81.1%,                     Valid: loss=0.555, accuracy=81.2%\n",
            "Epoch 55,                     Train:loss=0.534, accuracy=81.6%,                     Valid: loss=0.537, accuracy=81.8%\n",
            "Epoch 60,                     Train:loss=0.519, accuracy=82.3%,                     Valid: loss=0.521, accuracy=82.4%\n",
            "Epoch 65,                     Train:loss=0.506, accuracy=82.6%,                     Valid: loss=0.508, accuracy=82.8%\n",
            "Epoch 70,                     Train:loss=0.496, accuracy=82.9%,                     Valid: loss=0.498, accuracy=83.0%\n",
            "Epoch 75,                     Train:loss=0.486, accuracy=83.2%,                     Valid: loss=0.487, accuracy=83.3%\n",
            "Epoch 80,                     Train:loss=0.478, accuracy=83.6%,                     Valid: loss=0.480, accuracy=83.5%\n",
            "Epoch 85,                     Train:loss=0.472, accuracy=83.8%,                     Valid: loss=0.472, accuracy=83.7%\n",
            "Epoch 90,                     Train:loss=0.464, accuracy=84.1%,                     Valid: loss=0.466, accuracy=84.1%\n",
            "Epoch 95,                     Train:loss=0.459, accuracy=84.2%,                     Valid: loss=0.460, accuracy=84.2%\n",
            "Epoch 100,                     Train:loss=0.454, accuracy=84.4%,                     Valid: loss=0.455, accuracy=84.6%\n",
            "Epoch 105,                     Train:loss=0.450, accuracy=84.4%,                     Valid: loss=0.452, accuracy=84.5%\n",
            "Epoch 110,                     Train:loss=0.446, accuracy=84.7%,                     Valid: loss=0.448, accuracy=84.7%\n",
            "Epoch 115,                     Train:loss=0.442, accuracy=84.8%,                     Valid: loss=0.444, accuracy=84.6%\n",
            "Epoch 120,                     Train:loss=0.439, accuracy=84.9%,                     Valid: loss=0.440, accuracy=84.8%\n",
            "Epoch 125,                     Train:loss=0.435, accuracy=85.0%,                     Valid: loss=0.437, accuracy=85.0%\n",
            "Epoch 130,                     Train:loss=0.432, accuracy=85.1%,                     Valid: loss=0.434, accuracy=85.0%\n",
            "Epoch 135,                     Train:loss=0.429, accuracy=85.2%,                     Valid: loss=0.431, accuracy=85.2%\n",
            "Epoch 140,                     Train:loss=0.426, accuracy=85.4%,                     Valid: loss=0.428, accuracy=85.1%\n",
            "Epoch 145,                     Train:loss=0.423, accuracy=85.5%,                     Valid: loss=0.426, accuracy=85.4%\n",
            "Epoch 150,                     Train:loss=0.421, accuracy=85.6%,                     Valid: loss=0.424, accuracy=85.4%\n",
            "Best validation accuracy = 85.433\n",
            "Evaluation of the best training model over test set\n",
            "------\n",
            "Loss : 0.459\n",
            "Accuracy : 83.630\n"
          ]
        },
        {
          "data": {
            "image/png": "[encoded data removed]",
            "text/plain": [
              "<Figure size 864x432 with 2 Axes>"
            ]
          },
          "metadata": {
            "needs_background": "light"
          },
          "output_type": "display_data"
        }
      ],
      "source": [
        "# SGD\n",
        "# Montrez les résultats pour la meilleure configuration trouvez ci-dessus.\n",
        "depth = 1    # TODO: Vous devez modifier cette valeur avec la meilleur que vous avez eu.\n",
        "width = 300    # TODO: Vous devez modifier cette valeur avec la meilleur que vous avez eu.\n",
        "lr = 0.01           # Some value\n",
        "batch_size = 500   # Some value\n",
        "\n",
        "with torch.no_grad():\n",
        "  data_loader_train, data_loader_val, data_loader_test = get_fashion_mnist_dataloaders(val_percentage=0.1, batch_size=batch_size)\n",
        "\n",
        "  MLP_model = MLPModel(n_features=784, n_hidden_features=width, n_hidden_layers=depth, n_classes=10)\n",
        "  best_model, best_val_accuracy, logger = train(MLP_model,lr=lr, nb_epochs=150, sgd=True, \n",
        "                                                data_loader_train=data_loader_train, data_loader_val=data_loader_val)\n",
        "  logger.plot_loss_and_accuracy()\n",
        "  print(f\"Best validation accuracy = {best_val_accuracy*100:.3f}\")\n",
        "\n",
        "  accuracy_test, loss_test = accuracy_and_loss_whole_dataset(data_loader_test, best_model)\n",
        "print(\"Evaluation of the best training model over test set\")\n",
        "print(\"------\")\n",
        "print(f\"Loss : {loss_test:.3f}\")\n",
        "print(f\"Accuracy : {accuracy_test*100.:.3f}\")"
      ]
    },
    {
      "cell_type": "markdown",
      "metadata": {
        "id": "_tPLgZriAUXO"
      },
      "source": [
        "### Adam: Recherche d'hyperparamètres\n",
        "\n",
        "Implémentez Adam, répétez les deux étapes précédentes (recherche d'hyperparamètres et analyse du meilleur modèle) cette fois en utilisat Adam, et comparez les performances finales avec votre meilleur modèle SGD."
      ]
    },
    {
      "cell_type": "code",
      "execution_count": null,
      "metadata": {
        "colab": {
          "base_uri": "https://localhost:8080/"
        },
        "id": "tEVOh1r7AUXO",
        "outputId": "1bb5ccce-8723-480a-95fa-d405d318fe95"
      },
      "outputs": [
        {
          "name": "stdout",
          "output_type": "stream",
          "text": [
            "------------------------------------------------------------------\n",
            "Training model with a depth of 1 layers and a width of 25 units\n",
            "Teta params=[torch.Size([784, 25]), torch.Size([25, 10])]\n",
            "Teta params=[torch.Size([1, 25]), torch.Size([1, 10])]\n",
            "length of parameters: 2\n",
            "Epoch  0,                     Train:loss=2.303, accuracy=10.0%,                     Valid: loss=2.303, accuracy=10.1%\n",
            "Epoch  5,                     Train:loss=0.432, accuracy=85.0%,                     Valid: loss=0.443, accuracy=84.8%\n",
            "Epoch 10,                     Train:loss=0.390, accuracy=86.4%,                     Valid: loss=0.416, accuracy=85.5%\n",
            "Epoch 15,                     Train:loss=0.374, accuracy=86.6%,                     Valid: loss=0.405, accuracy=86.1%\n",
            "Epoch 20,                     Train:loss=0.345, accuracy=87.8%,                     Valid: loss=0.388, accuracy=86.6%\n",
            "Epoch 25,                     Train:loss=0.328, accuracy=88.4%,                     Valid: loss=0.379, accuracy=86.6%\n",
            "validation accuracy = 86.667\n",
            "------------------------------------------------------------------\n",
            "Training model with a depth of 1 layers and a width of 100 units\n",
            "Teta params=[torch.Size([784, 100]), torch.Size([100, 10])]\n",
            "Teta params=[torch.Size([1, 100]), torch.Size([1, 10])]\n",
            "length of parameters: 2\n",
            "Epoch  0,                     Train:loss=2.303, accuracy=10.1%,                     Valid: loss=2.303, accuracy=9.4%\n",
            "Epoch  5,                     Train:loss=0.412, accuracy=85.4%,                     Valid: loss=0.438, accuracy=84.3%\n",
            "Epoch 10,                     Train:loss=0.339, accuracy=88.0%,                     Valid: loss=0.372, accuracy=86.9%\n",
            "Epoch 15,                     Train:loss=0.302, accuracy=89.3%,                     Valid: loss=0.347, accuracy=87.9%\n",
            "Epoch 20,                     Train:loss=0.279, accuracy=90.0%,                     Valid: loss=0.335, accuracy=88.2%\n",
            "Epoch 25,                     Train:loss=0.261, accuracy=90.6%,                     Valid: loss=0.328, accuracy=88.3%\n",
            "validation accuracy = 88.550\n",
            "------------------------------------------------------------------\n",
            "Training model with a depth of 1 layers and a width of 300 units\n",
            "Teta params=[torch.Size([784, 300]), torch.Size([300, 10])]\n",
            "Teta params=[torch.Size([1, 300]), torch.Size([1, 10])]\n",
            "length of parameters: 2\n",
            "Epoch  0,                     Train:loss=2.303, accuracy=10.0%,                     Valid: loss=2.303, accuracy=9.9%\n",
            "Epoch  5,                     Train:loss=0.331, accuracy=88.3%,                     Valid: loss=0.358, accuracy=87.1%\n",
            "Epoch 10,                     Train:loss=0.267, accuracy=90.4%,                     Valid: loss=0.323, accuracy=88.1%\n",
            "Epoch 15,                     Train:loss=0.226, accuracy=91.6%,                     Valid: loss=0.308, accuracy=89.3%\n",
            "Epoch 20,                     Train:loss=0.192, accuracy=93.1%,                     Valid: loss=0.293, accuracy=89.9%\n",
            "Epoch 25,                     Train:loss=0.168, accuracy=93.9%,                     Valid: loss=0.298, accuracy=89.8%\n",
            "validation accuracy = 90.100\n",
            "------------------------------------------------------------------\n",
            "Training model with a depth of 1 layers and a width of 500 units\n",
            "Teta params=[torch.Size([784, 500]), torch.Size([500, 10])]\n",
            "Teta params=[torch.Size([1, 500]), torch.Size([1, 10])]\n",
            "length of parameters: 2\n",
            "Epoch  0,                     Train:loss=2.303, accuracy=10.0%,                     Valid: loss=2.303, accuracy=10.2%\n",
            "Epoch  5,                     Train:loss=0.320, accuracy=88.3%,                     Valid: loss=0.348, accuracy=87.2%\n",
            "Epoch 10,                     Train:loss=0.244, accuracy=91.0%,                     Valid: loss=0.300, accuracy=89.2%\n",
            "Epoch 15,                     Train:loss=0.209, accuracy=92.4%,                     Valid: loss=0.296, accuracy=89.9%\n",
            "Epoch 20,                     Train:loss=0.173, accuracy=93.7%,                     Valid: loss=0.294, accuracy=90.0%\n",
            "Epoch 25,                     Train:loss=0.146, accuracy=94.6%,                     Valid: loss=0.311, accuracy=89.7%\n",
            "validation accuracy = 90.200\n",
            "------------------------------------------------------------------\n",
            "Training model with a depth of 1 layers and a width of 1000 units\n",
            "Teta params=[torch.Size([784, 1000]), torch.Size([1000, 10])]\n",
            "Teta params=[torch.Size([1, 1000]), torch.Size([1, 10])]\n",
            "length of parameters: 2\n",
            "Epoch  0,                     Train:loss=2.303, accuracy=10.1%,                     Valid: loss=2.303, accuracy=9.4%\n",
            "Epoch  5,                     Train:loss=0.312, accuracy=88.8%,                     Valid: loss=0.351, accuracy=87.7%\n",
            "Epoch 10,                     Train:loss=0.227, accuracy=91.7%,                     Valid: loss=0.301, accuracy=88.9%\n",
            "Epoch 15,                     Train:loss=0.189, accuracy=93.1%,                     Valid: loss=0.304, accuracy=89.3%\n",
            "Epoch 20,                     Train:loss=0.167, accuracy=93.9%,                     Valid: loss=0.332, accuracy=89.4%\n",
            "Epoch 25,                     Train:loss=0.130, accuracy=95.4%,                     Valid: loss=0.317, accuracy=90.2%\n",
            "validation accuracy = 90.433\n",
            "------------------------------------------------------------------\n",
            "Training model with a depth of 3 layers and a width of 25 units\n",
            "Teta params=[torch.Size([784, 25]), torch.Size([25, 25]), torch.Size([25, 25]), torch.Size([25, 10])]\n",
            "Teta params=[torch.Size([1, 25]), torch.Size([1, 25]), torch.Size([1, 25]), torch.Size([1, 10])]\n",
            "length of parameters: 4\n",
            "Epoch  0,                     Train:loss=2.303, accuracy=9.9%,                     Valid: loss=2.303, accuracy=10.6%\n",
            "Epoch  5,                     Train:loss=1.062, accuracy=62.9%,                     Valid: loss=1.065, accuracy=62.3%\n",
            "Epoch 10,                     Train:loss=0.741, accuracy=74.7%,                     Valid: loss=0.743, accuracy=73.7%\n",
            "Epoch 15,                     Train:loss=0.558, accuracy=81.3%,                     Valid: loss=0.579, accuracy=80.7%\n",
            "Epoch 20,                     Train:loss=0.481, accuracy=83.6%,                     Valid: loss=0.516, accuracy=82.7%\n",
            "Epoch 25,                     Train:loss=0.437, accuracy=84.7%,                     Valid: loss=0.480, accuracy=83.4%\n",
            "validation accuracy = 83.483\n",
            "------------------------------------------------------------------\n",
            "Training model with a depth of 3 layers and a width of 100 units\n",
            "Teta params=[torch.Size([784, 100]), torch.Size([100, 100]), torch.Size([100, 100]), torch.Size([100, 10])]\n",
            "Teta params=[torch.Size([1, 100]), torch.Size([1, 100]), torch.Size([1, 100]), torch.Size([1, 10])]\n",
            "length of parameters: 4\n",
            "Epoch  0,                     Train:loss=2.303, accuracy=10.0%,                     Valid: loss=2.303, accuracy=9.7%\n",
            "Epoch  5,                     Train:loss=0.748, accuracy=73.0%,                     Valid: loss=0.756, accuracy=72.6%\n",
            "Epoch 10,                     Train:loss=0.630, accuracy=76.8%,                     Valid: loss=0.638, accuracy=76.3%\n",
            "Epoch 15,                     Train:loss=0.431, accuracy=84.7%,                     Valid: loss=0.450, accuracy=83.9%\n",
            "Epoch 20,                     Train:loss=0.346, accuracy=87.8%,                     Valid: loss=0.378, accuracy=86.8%\n",
            "Epoch 25,                     Train:loss=0.311, accuracy=88.9%,                     Valid: loss=0.358, accuracy=87.6%\n",
            "validation accuracy = 87.633\n",
            "------------------------------------------------------------------\n",
            "Training model with a depth of 3 layers and a width of 300 units\n",
            "Teta params=[torch.Size([784, 300]), torch.Size([300, 300]), torch.Size([300, 300]), torch.Size([300, 10])]\n",
            "Teta params=[torch.Size([1, 300]), torch.Size([1, 300]), torch.Size([1, 300]), torch.Size([1, 10])]\n",
            "length of parameters: 4\n",
            "Epoch  0,                     Train:loss=2.303, accuracy=10.0%,                     Valid: loss=2.303, accuracy=10.0%\n",
            "Epoch  5,                     Train:loss=0.394, accuracy=86.0%,                     Valid: loss=0.411, accuracy=85.6%\n",
            "Epoch 10,                     Train:loss=0.325, accuracy=88.1%,                     Valid: loss=0.360, accuracy=87.2%\n",
            "Epoch 15,                     Train:loss=0.262, accuracy=90.4%,                     Valid: loss=0.315, accuracy=88.7%\n",
            "Epoch 20,                     Train:loss=0.230, accuracy=91.6%,                     Valid: loss=0.312, accuracy=89.5%\n",
            "Epoch 25,                     Train:loss=0.192, accuracy=93.0%,                     Valid: loss=0.301, accuracy=89.6%\n",
            "validation accuracy = 89.783\n",
            "------------------------------------------------------------------\n",
            "Training model with a depth of 3 layers and a width of 500 units\n",
            "Teta params=[torch.Size([784, 500]), torch.Size([500, 500]), torch.Size([500, 500]), torch.Size([500, 10])]\n",
            "Teta params=[torch.Size([1, 500]), torch.Size([1, 500]), torch.Size([1, 500]), torch.Size([1, 10])]\n",
            "length of parameters: 4\n",
            "Epoch  0,                     Train:loss=2.303, accuracy=10.1%,                     Valid: loss=2.303, accuracy=8.9%\n",
            "Epoch  5,                     Train:loss=0.382, accuracy=86.3%,                     Valid: loss=0.421, accuracy=84.8%\n",
            "Epoch 10,                     Train:loss=0.290, accuracy=89.5%,                     Valid: loss=0.348, accuracy=87.4%\n",
            "Epoch 15,                     Train:loss=0.256, accuracy=90.7%,                     Valid: loss=0.330, accuracy=87.9%\n",
            "Epoch 20,                     Train:loss=0.218, accuracy=92.0%,                     Valid: loss=0.327, accuracy=88.0%\n",
            "Epoch 25,                     Train:loss=0.187, accuracy=93.1%,                     Valid: loss=0.337, accuracy=89.0%\n",
            "validation accuracy = 89.000\n",
            "------------------------------------------------------------------\n",
            "Training model with a depth of 3 layers and a width of 1000 units\n",
            "Teta params=[torch.Size([784, 1000]), torch.Size([1000, 1000]), torch.Size([1000, 1000]), torch.Size([1000, 10])]\n",
            "Teta params=[torch.Size([1, 1000]), torch.Size([1, 1000]), torch.Size([1, 1000]), torch.Size([1, 10])]\n",
            "length of parameters: 4\n",
            "Epoch  0,                     Train:loss=2.303, accuracy=10.0%,                     Valid: loss=2.303, accuracy=9.9%\n",
            "Epoch  5,                     Train:loss=0.319, accuracy=88.5%,                     Valid: loss=0.364, accuracy=86.6%\n",
            "Epoch 10,                     Train:loss=0.254, accuracy=90.5%,                     Valid: loss=0.322, accuracy=88.5%\n",
            "Epoch 15,                     Train:loss=0.212, accuracy=92.0%,                     Valid: loss=0.317, accuracy=89.0%\n",
            "Epoch 20,                     Train:loss=0.185, accuracy=93.0%,                     Valid: loss=0.332, accuracy=88.8%\n",
            "Epoch 25,                     Train:loss=0.153, accuracy=94.0%,                     Valid: loss=0.339, accuracy=89.6%\n",
            "validation accuracy = 89.783\n",
            "------------------------------------------------------------------\n",
            "Training model with a depth of 5 layers and a width of 25 units\n",
            "Teta params=[torch.Size([784, 25]), torch.Size([25, 25]), torch.Size([25, 25]), torch.Size([25, 25]), torch.Size([25, 25]), torch.Size([25, 10])]\n",
            "Teta params=[torch.Size([1, 25]), torch.Size([1, 25]), torch.Size([1, 25]), torch.Size([1, 25]), torch.Size([1, 25]), torch.Size([1, 10])]\n",
            "length of parameters: 6\n",
            "Epoch  0,                     Train:loss=2.303, accuracy=10.0%,                     Valid: loss=2.303, accuracy=10.1%\n",
            "Epoch  5,                     Train:loss=2.303, accuracy=10.1%,                     Valid: loss=2.303, accuracy=9.0%\n",
            "Epoch 10,                     Train:loss=2.303, accuracy=10.1%,                     Valid: loss=2.303, accuracy=9.0%\n",
            "Epoch 15,                     Train:loss=2.303, accuracy=10.1%,                     Valid: loss=2.303, accuracy=9.0%\n",
            "Epoch 20,                     Train:loss=2.303, accuracy=10.1%,                     Valid: loss=2.303, accuracy=9.0%\n",
            "Epoch 25,                     Train:loss=2.303, accuracy=10.1%,                     Valid: loss=2.303, accuracy=9.0%\n",
            "validation accuracy = 10.050\n",
            "------------------------------------------------------------------\n",
            "Training model with a depth of 5 layers and a width of 100 units\n",
            "Teta params=[torch.Size([784, 100]), torch.Size([100, 100]), torch.Size([100, 100]), torch.Size([100, 100]), torch.Size([100, 100]), torch.Size([100, 10])]\n",
            "Teta params=[torch.Size([1, 100]), torch.Size([1, 100]), torch.Size([1, 100]), torch.Size([1, 100]), torch.Size([1, 100]), torch.Size([1, 10])]\n",
            "length of parameters: 6\n",
            "Epoch  0,                     Train:loss=2.303, accuracy=10.0%,                     Valid: loss=2.303, accuracy=9.7%\n",
            "Epoch  5,                     Train:loss=2.303, accuracy=10.0%,                     Valid: loss=2.303, accuracy=10.0%\n",
            "Epoch 10,                     Train:loss=2.303, accuracy=10.0%,                     Valid: loss=2.303, accuracy=9.7%\n",
            "Epoch 15,                     Train:loss=2.303, accuracy=10.0%,                     Valid: loss=2.303, accuracy=9.7%\n",
            "Epoch 20,                     Train:loss=2.303, accuracy=10.0%,                     Valid: loss=2.303, accuracy=9.6%\n",
            "Epoch 25,                     Train:loss=2.303, accuracy=10.0%,                     Valid: loss=2.303, accuracy=9.7%\n",
            "validation accuracy = 9.950\n",
            "------------------------------------------------------------------\n",
            "Training model with a depth of 5 layers and a width of 300 units\n",
            "Teta params=[torch.Size([784, 300]), torch.Size([300, 300]), torch.Size([300, 300]), torch.Size([300, 300]), torch.Size([300, 300]), torch.Size([300, 10])]\n",
            "Teta params=[torch.Size([1, 300]), torch.Size([1, 300]), torch.Size([1, 300]), torch.Size([1, 300]), torch.Size([1, 300]), torch.Size([1, 10])]\n",
            "length of parameters: 6\n",
            "Epoch  0,                     Train:loss=2.303, accuracy=10.1%,                     Valid: loss=2.303, accuracy=9.5%\n",
            "Epoch  5,                     Train:loss=2.303, accuracy=10.0%,                     Valid: loss=2.303, accuracy=9.9%\n",
            "Epoch 10,                     Train:loss=2.303, accuracy=10.0%,                     Valid: loss=2.303, accuracy=9.7%\n",
            "Epoch 15,                     Train:loss=2.303, accuracy=10.0%,                     Valid: loss=2.303, accuracy=9.9%\n",
            "Epoch 20,                     Train:loss=2.303, accuracy=9.9%,                     Valid: loss=2.303, accuracy=10.5%\n",
            "Epoch 25,                     Train:loss=2.303, accuracy=10.1%,                     Valid: loss=2.303, accuracy=9.5%\n",
            "validation accuracy = 10.467\n",
            "------------------------------------------------------------------\n",
            "Training model with a depth of 5 layers and a width of 500 units\n",
            "Teta params=[torch.Size([784, 500]), torch.Size([500, 500]), torch.Size([500, 500]), torch.Size([500, 500]), torch.Size([500, 500]), torch.Size([500, 10])]\n",
            "Teta params=[torch.Size([1, 500]), torch.Size([1, 500]), torch.Size([1, 500]), torch.Size([1, 500]), torch.Size([1, 500]), torch.Size([1, 10])]\n",
            "length of parameters: 6\n",
            "Epoch  0,                     Train:loss=2.303, accuracy=10.0%,                     Valid: loss=2.303, accuracy=10.1%\n",
            "Epoch  5,                     Train:loss=2.303, accuracy=10.0%,                     Valid: loss=2.303, accuracy=9.6%\n",
            "Epoch 10,                     Train:loss=2.303, accuracy=10.0%,                     Valid: loss=2.303, accuracy=9.6%\n",
            "Epoch 15,                     Train:loss=2.303, accuracy=10.1%,                     Valid: loss=2.303, accuracy=9.5%\n",
            "Epoch 20,                     Train:loss=2.303, accuracy=10.0%,                     Valid: loss=2.303, accuracy=9.6%\n",
            "Epoch 25,                     Train:loss=2.303, accuracy=10.0%,                     Valid: loss=2.303, accuracy=9.9%\n",
            "validation accuracy = 10.150\n",
            "------------------------------------------------------------------\n",
            "Training model with a depth of 5 layers and a width of 1000 units\n",
            "Teta params=[torch.Size([784, 1000]), torch.Size([1000, 1000]), torch.Size([1000, 1000]), torch.Size([1000, 1000]), torch.Size([1000, 1000]), torch.Size([1000, 10])]\n",
            "Teta params=[torch.Size([1, 1000]), torch.Size([1, 1000]), torch.Size([1, 1000]), torch.Size([1, 1000]), torch.Size([1, 1000]), torch.Size([1, 10])]\n",
            "length of parameters: 6\n",
            "Epoch  0,                     Train:loss=2.303, accuracy=10.0%,                     Valid: loss=2.303, accuracy=10.1%\n",
            "Epoch  5,                     Train:loss=0.296, accuracy=88.9%,                     Valid: loss=0.339, accuracy=87.4%\n",
            "Epoch 10,                     Train:loss=0.252, accuracy=90.6%,                     Valid: loss=0.316, accuracy=88.6%\n",
            "Epoch 15,                     Train:loss=0.219, accuracy=91.6%,                     Valid: loss=0.328, accuracy=89.0%\n",
            "Epoch 20,                     Train:loss=0.172, accuracy=93.4%,                     Valid: loss=0.322, accuracy=89.5%\n",
            "Epoch 25,                     Train:loss=0.154, accuracy=94.1%,                     Valid: loss=0.343, accuracy=88.9%\n",
            "validation accuracy = 89.633\n",
            "------------------------------------------------------------------\n",
            "Training model with a depth of 7 layers and a width of 25 units\n",
            "Teta params=[torch.Size([784, 25]), torch.Size([25, 25]), torch.Size([25, 25]), torch.Size([25, 25]), torch.Size([25, 25]), torch.Size([25, 25]), torch.Size([25, 25]), torch.Size([25, 10])]\n",
            "Teta params=[torch.Size([1, 25]), torch.Size([1, 25]), torch.Size([1, 25]), torch.Size([1, 25]), torch.Size([1, 25]), torch.Size([1, 25]), torch.Size([1, 25]), torch.Size([1, 10])]\n",
            "length of parameters: 8\n",
            "Epoch  0,                     Train:loss=2.303, accuracy=10.0%,                     Valid: loss=2.303, accuracy=10.1%\n",
            "Epoch  5,                     Train:loss=2.303, accuracy=10.1%,                     Valid: loss=2.303, accuracy=9.4%\n",
            "Epoch 10,                     Train:loss=2.303, accuracy=10.0%,                     Valid: loss=2.303, accuracy=9.6%\n",
            "Epoch 15,                     Train:loss=2.303, accuracy=10.0%,                     Valid: loss=2.303, accuracy=10.1%\n",
            "Epoch 20,                     Train:loss=2.303, accuracy=10.0%,                     Valid: loss=2.303, accuracy=10.0%\n",
            "Epoch 25,                     Train:loss=2.303, accuracy=10.1%,                     Valid: loss=2.303, accuracy=9.4%\n",
            "validation accuracy = 10.367\n",
            "------------------------------------------------------------------\n",
            "Training model with a depth of 7 layers and a width of 100 units\n",
            "Teta params=[torch.Size([784, 100]), torch.Size([100, 100]), torch.Size([100, 100]), torch.Size([100, 100]), torch.Size([100, 100]), torch.Size([100, 100]), torch.Size([100, 100]), torch.Size([100, 10])]\n",
            "Teta params=[torch.Size([1, 100]), torch.Size([1, 100]), torch.Size([1, 100]), torch.Size([1, 100]), torch.Size([1, 100]), torch.Size([1, 100]), torch.Size([1, 100]), torch.Size([1, 10])]\n",
            "length of parameters: 8\n",
            "Epoch  0,                     Train:loss=2.303, accuracy=10.0%,                     Valid: loss=2.303, accuracy=10.2%\n",
            "Epoch  5,                     Train:loss=2.303, accuracy=10.1%,                     Valid: loss=2.303, accuracy=9.4%\n",
            "Epoch 10,                     Train:loss=2.303, accuracy=10.0%,                     Valid: loss=2.303, accuracy=9.6%\n",
            "Epoch 15,                     Train:loss=2.303, accuracy=10.1%,                     Valid: loss=2.303, accuracy=9.4%\n",
            "Epoch 20,                     Train:loss=2.303, accuracy=10.0%,                     Valid: loss=2.303, accuracy=9.6%\n",
            "Epoch 25,                     Train:loss=2.303, accuracy=10.1%,                     Valid: loss=2.303, accuracy=9.2%\n",
            "validation accuracy = 10.183\n",
            "------------------------------------------------------------------\n",
            "Training model with a depth of 7 layers and a width of 300 units\n",
            "Teta params=[torch.Size([784, 300]), torch.Size([300, 300]), torch.Size([300, 300]), torch.Size([300, 300]), torch.Size([300, 300]), torch.Size([300, 300]), torch.Size([300, 300]), torch.Size([300, 10])]\n",
            "Teta params=[torch.Size([1, 300]), torch.Size([1, 300]), torch.Size([1, 300]), torch.Size([1, 300]), torch.Size([1, 300]), torch.Size([1, 300]), torch.Size([1, 300]), torch.Size([1, 10])]\n",
            "length of parameters: 8\n",
            "Epoch  0,                     Train:loss=2.303, accuracy=10.0%,                     Valid: loss=2.303, accuracy=10.2%\n",
            "Epoch  5,                     Train:loss=2.303, accuracy=10.0%,                     Valid: loss=2.303, accuracy=9.9%\n",
            "Epoch 10,                     Train:loss=2.303, accuracy=10.1%,                     Valid: loss=2.303, accuracy=9.5%\n",
            "Epoch 15,                     Train:loss=2.303, accuracy=10.1%,                     Valid: loss=2.303, accuracy=9.5%\n",
            "Epoch 20,                     Train:loss=2.303, accuracy=10.1%,                     Valid: loss=2.303, accuracy=9.5%\n",
            "Epoch 25,                     Train:loss=2.303, accuracy=10.1%,                     Valid: loss=2.303, accuracy=9.5%\n",
            "validation accuracy = 10.183\n",
            "------------------------------------------------------------------\n",
            "Training model with a depth of 7 layers and a width of 500 units\n",
            "Teta params=[torch.Size([784, 500]), torch.Size([500, 500]), torch.Size([500, 500]), torch.Size([500, 500]), torch.Size([500, 500]), torch.Size([500, 500]), torch.Size([500, 500]), torch.Size([500, 10])]\n",
            "Teta params=[torch.Size([1, 500]), torch.Size([1, 500]), torch.Size([1, 500]), torch.Size([1, 500]), torch.Size([1, 500]), torch.Size([1, 500]), torch.Size([1, 500]), torch.Size([1, 10])]\n",
            "length of parameters: 8\n",
            "Epoch  0,                     Train:loss=2.303, accuracy=10.0%,                     Valid: loss=2.303, accuracy=10.1%\n",
            "Epoch  5,                     Train:loss=2.303, accuracy=10.1%,                     Valid: loss=2.303, accuracy=9.1%\n",
            "Epoch 10,                     Train:loss=2.303, accuracy=10.1%,                     Valid: loss=2.303, accuracy=9.1%\n",
            "Epoch 15,                     Train:loss=2.303, accuracy=10.1%,                     Valid: loss=2.303, accuracy=9.1%\n",
            "Epoch 20,                     Train:loss=2.303, accuracy=10.1%,                     Valid: loss=2.303, accuracy=9.1%\n",
            "Epoch 25,                     Train:loss=2.303, accuracy=10.1%,                     Valid: loss=2.303, accuracy=9.1%\n",
            "validation accuracy = 10.067\n",
            "------------------------------------------------------------------\n",
            "Training model with a depth of 7 layers and a width of 1000 units\n",
            "Teta params=[torch.Size([784, 1000]), torch.Size([1000, 1000]), torch.Size([1000, 1000]), torch.Size([1000, 1000]), torch.Size([1000, 1000]), torch.Size([1000, 1000]), torch.Size([1000, 1000]), torch.Size([1000, 10])]\n",
            "Teta params=[torch.Size([1, 1000]), torch.Size([1, 1000]), torch.Size([1, 1000]), torch.Size([1, 1000]), torch.Size([1, 1000]), torch.Size([1, 1000]), torch.Size([1, 1000]), torch.Size([1, 10])]\n",
            "length of parameters: 8\n",
            "Epoch  0,                     Train:loss=2.303, accuracy=10.0%,                     Valid: loss=2.303, accuracy=9.9%\n",
            "Epoch  5,                     Train:loss=2.303, accuracy=10.0%,                     Valid: loss=2.303, accuracy=9.7%\n",
            "Epoch 10,                     Train:loss=2.303, accuracy=10.0%,                     Valid: loss=2.303, accuracy=9.9%\n",
            "Epoch 15,                     Train:loss=2.303, accuracy=10.1%,                     Valid: loss=2.303, accuracy=9.1%\n",
            "Epoch 20,                     Train:loss=2.303, accuracy=10.1%,                     Valid: loss=2.303, accuracy=9.1%\n",
            "Epoch 25,                     Train:loss=2.303, accuracy=10.1%,                     Valid: loss=2.303, accuracy=9.1%\n",
            "validation accuracy = 9.883\n"
          ]
        }
      ],
      "source": [
        "# ADAM\n",
        "# Montrez les résultats pour différents nombre de couche, e.g. 1, 3, 5, et différent nombres de neurone, e.g. 25, 100, 300, 500, 1000.\n",
        "depth_list = [1, 3, 5, 7]   # Define ranges in a list\n",
        "width_list = [25, 100, 300, 500, 1000]   # Define ranges in a list\n",
        "lr = 0.001           # Some value\n",
        "batch_size = 200   # Some value\n",
        "\n",
        "with torch.no_grad():\n",
        "  for depth in depth_list:\n",
        "    for width in width_list:\n",
        "      print(\"------------------------------------------------------------------\")\n",
        "      print(\"Training model with a depth of {0} layers and a width of {1} units\".format(depth, width))\n",
        "      data_loader_train, data_loader_val, data_loader_test = get_fashion_mnist_dataloaders(val_percentage=0.1, batch_size=batch_size)\n",
        "      \n",
        "      MLP_model = MLPModel(n_features=784, n_hidden_features=width, n_hidden_layers=depth, n_classes=10)\n",
        "      _, val_accuracy, _ = train(MLP_model, lr=lr, nb_epochs=25, sgd=False, data_loader_train=data_loader_train, data_loader_val=data_loader_val)\n",
        "      print(f\"validation accuracy = {val_accuracy*100:.3f}\")"
      ]
    },
    {
      "cell_type": "markdown",
      "metadata": {
        "id": "6LQ6q18CAUXP"
      },
      "source": [
        "#### **Tableau pour la précision sur l'ensemble de validation**\n",
        "N.B. que les lignes correspondent aux nombre de couche et les colonnes correspondent au nombre de neurone dans chaque couche. Les valeurs ci-dessous sont donné comme exemples; remplacez-les par les valeurs que vous avez utilisées pour votre recherche d'hyperparamètres.\n",
        "\n",
        "depth\\width  | 25 | 100 | 300 | 500 | 1000 \n",
        "-------------------|------------------|------------------|------------------|------------------|------------------|\n",
        "**1**   | 86.7 | 88.6 | 90.1 | 90.2 | **90.4** |\n",
        "**3** | 83.5 | 87.6 | 89.8  | 89.0 | 89.8  |\n",
        "**5**  | 10.1 | 10.0 | 10.5 | 10.2 | 89.6 |\n",
        "**7**  | 10.4 | 10.2 | 10.2 | 10.1 | 9.9 |"
      ]
    },
    {
      "cell_type": "markdown",
      "metadata": {
        "id": "df6Y9ziXAUXP"
      },
      "source": [
        "### Adam: Analyse du meilleur modèle"
      ]
    },
    {
      "cell_type": "code",
      "execution_count": null,
      "metadata": {
        "colab": {
          "base_uri": "https://localhost:8080/",
          "height": 934
        },
        "id": "uohnWTtoAUXP",
        "outputId": "a151e896-b45c-4c54-80cc-d3e2f0601a88"
      },
      "outputs": [
        {
          "name": "stdout",
          "output_type": "stream",
          "text": [
            "Teta params=[torch.Size([784, 1000]), torch.Size([1000, 10])]\n",
            "Teta params=[torch.Size([1, 1000]), torch.Size([1, 10])]\n",
            "length of parameters: 2\n",
            "Epoch  0,                     Train:loss=2.303, accuracy=10.1%,                     Valid: loss=2.303, accuracy=9.2%\n",
            "Epoch  5,                     Train:loss=0.332, accuracy=88.1%,                     Valid: loss=0.344, accuracy=87.4%\n",
            "Epoch 10,                     Train:loss=0.263, accuracy=90.6%,                     Valid: loss=0.301, accuracy=89.2%\n",
            "Epoch 15,                     Train:loss=0.224, accuracy=91.9%,                     Valid: loss=0.287, accuracy=89.5%\n",
            "Epoch 20,                     Train:loss=0.224, accuracy=91.6%,                     Valid: loss=0.325, accuracy=88.2%\n",
            "Epoch 25,                     Train:loss=0.164, accuracy=94.1%,                     Valid: loss=0.283, accuracy=90.0%\n",
            "Epoch 30,                     Train:loss=0.148, accuracy=94.7%,                     Valid: loss=0.298, accuracy=89.8%\n",
            "Epoch 35,                     Train:loss=0.126, accuracy=95.6%,                     Valid: loss=0.298, accuracy=90.5%\n",
            "Epoch 40,                     Train:loss=0.113, accuracy=96.0%,                     Valid: loss=0.304, accuracy=90.4%\n",
            "Epoch 45,                     Train:loss=0.100, accuracy=96.6%,                     Valid: loss=0.336, accuracy=90.1%\n",
            "Epoch 50,                     Train:loss=0.082, accuracy=97.3%,                     Valid: loss=0.338, accuracy=90.3%\n",
            "Epoch 55,                     Train:loss=0.063, accuracy=98.0%,                     Valid: loss=0.335, accuracy=90.6%\n",
            "Epoch 60,                     Train:loss=0.063, accuracy=98.0%,                     Valid: loss=0.372, accuracy=90.2%\n",
            "Epoch 65,                     Train:loss=0.057, accuracy=98.0%,                     Valid: loss=0.383, accuracy=90.2%\n",
            "Epoch 70,                     Train:loss=0.046, accuracy=98.6%,                     Valid: loss=0.395, accuracy=90.2%\n",
            "Epoch 75,                     Train:loss=0.060, accuracy=97.6%,                     Valid: loss=0.431, accuracy=89.6%\n",
            "Epoch 80,                     Train:loss=0.029, accuracy=99.2%,                     Valid: loss=0.416, accuracy=90.3%\n",
            "Epoch 85,                     Train:loss=0.033, accuracy=99.0%,                     Valid: loss=0.428, accuracy=90.3%\n",
            "Epoch 90,                     Train:loss=0.034, accuracy=98.9%,                     Valid: loss=0.469, accuracy=90.0%\n",
            "Epoch 95,                     Train:loss=0.022, accuracy=99.4%,                     Valid: loss=0.455, accuracy=90.3%\n",
            "Epoch 100,                     Train:loss=0.022, accuracy=99.4%,                     Valid: loss=0.482, accuracy=90.1%\n",
            "Best validation accuracy = 90.683\n",
            "Evaluation of the best training model over test set\n",
            "------\n",
            "Loss : 0.538\n",
            "Accuracy : 89.570\n"
          ]
        },
        {
          "data": {
            "image/png": "[encoded data removed]",
            "text/plain": [
              "<Figure size 864x432 with 2 Axes>"
            ]
          },
          "metadata": {
            "needs_background": "light"
          },
          "output_type": "display_data"
        }
      ],
      "source": [
        "# ADAM\n",
        "# Montrez les résultats pour la meilleure configuration trouvez ci-dessus.\n",
        "depth = 1    # TODO: Vous devez modifier cette valeur avec la meilleur que vous avez eu.\n",
        "width = 1000    # TODO: Vous devez modifier cette valeur avec la meilleur que vous avez eu.\n",
        "lr = 0.0005           # Some value\n",
        "batch_size = 200   # Some value\n",
        "\n",
        "with torch.no_grad():\n",
        "  data_loader_train, data_loader_val, data_loader_test = get_fashion_mnist_dataloaders(val_percentage=0.1, batch_size=batch_size)\n",
        "\n",
        "  MLP_model = MLPModel(n_features=784, n_hidden_features=width, n_hidden_layers=depth, n_classes=10)\n",
        "  best_model, best_val_accuracy, logger = train(MLP_model,lr=lr, nb_epochs=100, sgd=False, \n",
        "                                                data_loader_train=data_loader_train, data_loader_val=data_loader_val)\n",
        "  logger.plot_loss_and_accuracy()\n",
        "  print(f\"Best validation accuracy = {best_val_accuracy*100:.3f}\")\n",
        "\n",
        "  accuracy_test, loss_test = accuracy_and_loss_whole_dataset(data_loader_test, best_model)\n",
        "print(\"Evaluation of the best training model over test set\")\n",
        "print(\"------\")\n",
        "print(f\"Loss : {loss_test:.3f}\")\n",
        "print(f\"Accuracy : {accuracy_test*100.:.3f}\")"
      ]
    },
    {
      "cell_type": "markdown",
      "metadata": {
        "id": "-wlDcZB-AUXP"
      },
      "source": [
        "### Analyse des Résultats"
      ]
    },
    {
      "cell_type": "markdown",
      "metadata": {
        "id": "M-Wi3CG3AUXP"
      },
      "source": [
        "Multilayer perceptron networks have a slight advantage over logistic regression models, according to the experiments done in this notebook. The key feature of this network is representation learning, which can break down inputs into projections that better separate data. Hence, the best performance on the test data for MLP was better than for logistic regression for either of the optimization algorithms.\n",
        "\n",
        "### SGD Results\n",
        "\n",
        "First, we performed a hyperparameter search for SGD with a network depth distribution of [1, 3, 5, 7] and a hidden layer's width distribution of [25, 100, 300, 500, 1000]. Having these results, we noticed that the model could converge only for a depth of 1. The other experiments did not converge at all because of the SGD algorithm.\n",
        "\n",
        "In MLP training, we first compute the gradients over all the layers before changing the weight parameters. The problem is that the gradients approximate zero as we backpropagate the error to the input layers. Therefore, the parameters close to the input layers barely change with the training if we utilize more than one hidden layer. And the model would have a lot of difficulties converging because most of the parameters remain unchanged.\n",
        "\n",
        "A possible approach to overcome this issue before using Adam would be to use momentum to speed up the training. The momentum approach uses the previous time-step gradient computation multiplied by a constant (usually 0.9) to sum with the current gradient.\n",
        "\n",
        "According to the grid search experiments, the network with the best performance on the test set would have one hidden layer with 300 units. With the validation set, these hyperparameters had 80.2% of accuracy. For the test set, they had an accuracy of 83.6% with a margin to improve yet. This room for improvement comes from the slow converging capabilities of raw SGD, and it would require a lot more time to obtain the same results we will see in the Adam experiments.\n",
        "\n",
        "### Adam Results\n",
        "\n",
        "As expressed in previous sections, Adam speeds up the training by a lot when compared to the raw SGD approach. The results confirm these observations by having a better performance for the set of hyperparameters grid with the same number of epochs to train.\n",
        "\n",
        "We notice that by the experiments, the model could converge for both depths of 1 and 3. Since we not only move the parameters towards the negative direction of the gradient, we speed up the training by a lot, even with more hidden layers.\n",
        "\n",
        "However, the model falls for the same convergence problems stated on the SGD when we increase the number of hidden layers: the first layers remain almost unchanged, and the model loses its capabilities to separate the data into the specified classes. Yet, the model can still converge to good results even in these cases, as we see in the experiment with depth=5 and width=1000, which had a performance of 89.6%. Even better than all the SGD experiments.\n",
        "\n",
        "The best model had the hyperparameters depth=1 and width=1000, resulting in a validation performance of 90.4%. For the test set, it had 89.6% of accuracy.\n",
        "\n",
        "Finally, the results obtained during this TP assert that Adam optimizers thrive over pure SGD optimization. This better performance comes from the fact that Adam computes estimates of the first and second moment of the gradients to change the parameters towards an optimal value. The Adam converged faster than SGD for both logistic regression and MLP models. But MLP performed better than logistic regression because the MLP hidden layers learns project the data to separate them in the best way possible.\n",
        "\n"
      ]
    }
  ],
  "metadata": {
    "colab": {
      "provenance": [],
      "toc_visible": true
    },
    "kernelspec": {
      "display_name": "Python 3",
      "language": "python",
      "name": "python3"
    },
    "language_info": {
      "codemirror_mode": {
        "name": "ipython",
        "version": 3
      },
      "file_extension": ".py",
      "mimetype": "text/x-python",
      "name": "python",
      "nbconvert_exporter": "python",
      "pygments_lexer": "ipython3",
      "version": "3.9.5"
    },
    "vscode": {
      "interpreter": {
        "hash": "5a45add5aa41fc0dce7d9836476c9220d75f339cc7489ed7a3b079f1741f7a49"
      }
    },
    "widgets": {
      "application/vnd.jupyter.widget-state+json": {
        "02c6587df53d4c77bf07ff250dd0fcf1": {
          "model_module": "@jupyter-widgets/controls",
          "model_module_version": "1.5.0",
          "model_name": "HTMLModel",
          "state": {
            "_dom_classes": [],
            "_model_module": "@jupyter-widgets/controls",
            "_model_module_version": "1.5.0",
            "_model_name": "HTMLModel",
            "_view_count": null,
            "_view_module": "@jupyter-widgets/controls",
            "_view_module_version": "1.5.0",
            "_view_name": "HTMLView",
            "description": "",
            "description_tooltip": null,
            "layout": "IPY_MODEL_68ae699027ab4bcf9e295fdbe686937d",
            "placeholder": "​",
            "style": "IPY_MODEL_e9e667a4ad214fb585b12c46116a1f80",
            "value": " 4422102/4422102 [00:00&lt;00:00, 6372462.98it/s]"
          }
        },
        "04cc131326eb4db8945cc30b5d58bd2d": {
          "model_module": "@jupyter-widgets/controls",
          "model_module_version": "1.5.0",
          "model_name": "HBoxModel",
          "state": {
            "_dom_classes": [],
            "_model_module": "@jupyter-widgets/controls",
            "_model_module_version": "1.5.0",
            "_model_name": "HBoxModel",
            "_view_count": null,
            "_view_module": "@jupyter-widgets/controls",
            "_view_module_version": "1.5.0",
            "_view_name": "HBoxView",
            "box_style": "",
            "children": [
              "IPY_MODEL_bd8627c6cf4f4f21b0b620c8b609bb20",
              "IPY_MODEL_beebb061f4bd442cbf5d61ecec20dd9b",
              "IPY_MODEL_e5f0a696d5d845be8d927c1ab9c8fc13"
            ],
            "layout": "IPY_MODEL_4b9ef873821e445ab8546760faf42128"
          }
        },
        "0a566b4048184b1395b0a49cc419df23": {
          "model_module": "@jupyter-widgets/controls",
          "model_module_version": "1.5.0",
          "model_name": "HBoxModel",
          "state": {
            "_dom_classes": [],
            "_model_module": "@jupyter-widgets/controls",
            "_model_module_version": "1.5.0",
            "_model_name": "HBoxModel",
            "_view_count": null,
            "_view_module": "@jupyter-widgets/controls",
            "_view_module_version": "1.5.0",
            "_view_name": "HBoxView",
            "box_style": "",
            "children": [
              "IPY_MODEL_3c2e4152bbf54ee7ae4faf87d4e51993",
              "IPY_MODEL_e1d91d18e270450f9829656c6cfe975a",
              "IPY_MODEL_02c6587df53d4c77bf07ff250dd0fcf1"
            ],
            "layout": "IPY_MODEL_2b3abb4a43a14ca9a71ef981ee075462"
          }
        },
        "15b181b8b19f480ca55dcaad7834a9e7": {
          "model_module": "@jupyter-widgets/controls",
          "model_module_version": "1.5.0",
          "model_name": "FloatProgressModel",
          "state": {
            "_dom_classes": [],
            "_model_module": "@jupyter-widgets/controls",
            "_model_module_version": "1.5.0",
            "_model_name": "FloatProgressModel",
            "_view_count": null,
            "_view_module": "@jupyter-widgets/controls",
            "_view_module_version": "1.5.0",
            "_view_name": "ProgressView",
            "bar_style": "success",
            "description": "",
            "description_tooltip": null,
            "layout": "IPY_MODEL_feeadc77e7b045888ad147be930bd1fe",
            "max": 5148,
            "min": 0,
            "orientation": "horizontal",
            "style": "IPY_MODEL_757d1992e8fe41a2bb72e6bb9930fbbb",
            "value": 5148
          }
        },
        "1983031f418c4beaaa791874a2927e73": {
          "model_module": "@jupyter-widgets/controls",
          "model_module_version": "1.5.0",
          "model_name": "FloatProgressModel",
          "state": {
            "_dom_classes": [],
            "_model_module": "@jupyter-widgets/controls",
            "_model_module_version": "1.5.0",
            "_model_name": "FloatProgressModel",
            "_view_count": null,
            "_view_module": "@jupyter-widgets/controls",
            "_view_module_version": "1.5.0",
            "_view_name": "ProgressView",
            "bar_style": "success",
            "description": "",
            "description_tooltip": null,
            "layout": "IPY_MODEL_4db2dad5b0b14b669cd36c7d7b237522",
            "max": 26421880,
            "min": 0,
            "orientation": "horizontal",
            "style": "IPY_MODEL_e7fb08fea8a64c9eb204ed23e644f481",
            "value": 26421880
          }
        },
        "1b603344d5ed4ef0b205f5326fd8bae5": {
          "model_module": "@jupyter-widgets/base",
          "model_module_version": "1.2.0",
          "model_name": "LayoutModel",
          "state": {
            "_model_module": "@jupyter-widgets/base",
            "_model_module_version": "1.2.0",
            "_model_name": "LayoutModel",
            "_view_count": null,
            "_view_module": "@jupyter-widgets/base",
            "_view_module_version": "1.2.0",
            "_view_name": "LayoutView",
            "align_content": null,
            "align_items": null,
            "align_self": null,
            "border": null,
            "bottom": null,
            "display": null,
            "flex": null,
            "flex_flow": null,
            "grid_area": null,
            "grid_auto_columns": null,
            "grid_auto_flow": null,
            "grid_auto_rows": null,
            "grid_column": null,
            "grid_gap": null,
            "grid_row": null,
            "grid_template_areas": null,
            "grid_template_columns": null,
            "grid_template_rows": null,
            "height": null,
            "justify_content": null,
            "justify_items": null,
            "left": null,
            "margin": null,
            "max_height": null,
            "max_width": null,
            "min_height": null,
            "min_width": null,
            "object_fit": null,
            "object_position": null,
            "order": null,
            "overflow": null,
            "overflow_x": null,
            "overflow_y": null,
            "padding": null,
            "right": null,
            "top": null,
            "visibility": null,
            "width": null
          }
        },
        "2b3abb4a43a14ca9a71ef981ee075462": {
          "model_module": "@jupyter-widgets/base",
          "model_module_version": "1.2.0",
          "model_name": "LayoutModel",
          "state": {
            "_model_module": "@jupyter-widgets/base",
            "_model_module_version": "1.2.0",
            "_model_name": "LayoutModel",
            "_view_count": null,
            "_view_module": "@jupyter-widgets/base",
            "_view_module_version": "1.2.0",
            "_view_name": "LayoutView",
            "align_content": null,
            "align_items": null,
            "align_self": null,
            "border": null,
            "bottom": null,
            "display": null,
            "flex": null,
            "flex_flow": null,
            "grid_area": null,
            "grid_auto_columns": null,
            "grid_auto_flow": null,
            "grid_auto_rows": null,
            "grid_column": null,
            "grid_gap": null,
            "grid_row": null,
            "grid_template_areas": null,
            "grid_template_columns": null,
            "grid_template_rows": null,
            "height": null,
            "justify_content": null,
            "justify_items": null,
            "left": null,
            "margin": null,
            "max_height": null,
            "max_width": null,
            "min_height": null,
            "min_width": null,
            "object_fit": null,
            "object_position": null,
            "order": null,
            "overflow": null,
            "overflow_x": null,
            "overflow_y": null,
            "padding": null,
            "right": null,
            "top": null,
            "visibility": null,
            "width": null
          }
        },
        "2fa079f83e80401b93d4bd0b85fa0b85": {
          "model_module": "@jupyter-widgets/base",
          "model_module_version": "1.2.0",
          "model_name": "LayoutModel",
          "state": {
            "_model_module": "@jupyter-widgets/base",
            "_model_module_version": "1.2.0",
            "_model_name": "LayoutModel",
            "_view_count": null,
            "_view_module": "@jupyter-widgets/base",
            "_view_module_version": "1.2.0",
            "_view_name": "LayoutView",
            "align_content": null,
            "align_items": null,
            "align_self": null,
            "border": null,
            "bottom": null,
            "display": null,
            "flex": null,
            "flex_flow": null,
            "grid_area": null,
            "grid_auto_columns": null,
            "grid_auto_flow": null,
            "grid_auto_rows": null,
            "grid_column": null,
            "grid_gap": null,
            "grid_row": null,
            "grid_template_areas": null,
            "grid_template_columns": null,
            "grid_template_rows": null,
            "height": null,
            "justify_content": null,
            "justify_items": null,
            "left": null,
            "margin": null,
            "max_height": null,
            "max_width": null,
            "min_height": null,
            "min_width": null,
            "object_fit": null,
            "object_position": null,
            "order": null,
            "overflow": null,
            "overflow_x": null,
            "overflow_y": null,
            "padding": null,
            "right": null,
            "top": null,
            "visibility": null,
            "width": null
          }
        },
        "3c2e4152bbf54ee7ae4faf87d4e51993": {
          "model_module": "@jupyter-widgets/controls",
          "model_module_version": "1.5.0",
          "model_name": "HTMLModel",
          "state": {
            "_dom_classes": [],
            "_model_module": "@jupyter-widgets/controls",
            "_model_module_version": "1.5.0",
            "_model_name": "HTMLModel",
            "_view_count": null,
            "_view_module": "@jupyter-widgets/controls",
            "_view_module_version": "1.5.0",
            "_view_name": "HTMLView",
            "description": "",
            "description_tooltip": null,
            "layout": "IPY_MODEL_5e89faa01aa640c4be1351f7ee3a561d",
            "placeholder": "​",
            "style": "IPY_MODEL_57a33110e07a4650b291d2e1d0dcb185",
            "value": "100%"
          }
        },
        "47ab3d494323438388c29a18d0f04464": {
          "model_module": "@jupyter-widgets/controls",
          "model_module_version": "1.5.0",
          "model_name": "HTMLModel",
          "state": {
            "_dom_classes": [],
            "_model_module": "@jupyter-widgets/controls",
            "_model_module_version": "1.5.0",
            "_model_name": "HTMLModel",
            "_view_count": null,
            "_view_module": "@jupyter-widgets/controls",
            "_view_module_version": "1.5.0",
            "_view_name": "HTMLView",
            "description": "",
            "description_tooltip": null,
            "layout": "IPY_MODEL_e1abb939c50c4dfc92e6d813efdc7cc6",
            "placeholder": "​",
            "style": "IPY_MODEL_bab33aa5af6e49f1bf58913d666e84fb",
            "value": " 5148/5148 [00:00&lt;00:00, 76828.27it/s]"
          }
        },
        "4b9ef873821e445ab8546760faf42128": {
          "model_module": "@jupyter-widgets/base",
          "model_module_version": "1.2.0",
          "model_name": "LayoutModel",
          "state": {
            "_model_module": "@jupyter-widgets/base",
            "_model_module_version": "1.2.0",
            "_model_name": "LayoutModel",
            "_view_count": null,
            "_view_module": "@jupyter-widgets/base",
            "_view_module_version": "1.2.0",
            "_view_name": "LayoutView",
            "align_content": null,
            "align_items": null,
            "align_self": null,
            "border": null,
            "bottom": null,
            "display": null,
            "flex": null,
            "flex_flow": null,
            "grid_area": null,
            "grid_auto_columns": null,
            "grid_auto_flow": null,
            "grid_auto_rows": null,
            "grid_column": null,
            "grid_gap": null,
            "grid_row": null,
            "grid_template_areas": null,
            "grid_template_columns": null,
            "grid_template_rows": null,
            "height": null,
            "justify_content": null,
            "justify_items": null,
            "left": null,
            "margin": null,
            "max_height": null,
            "max_width": null,
            "min_height": null,
            "min_width": null,
            "object_fit": null,
            "object_position": null,
            "order": null,
            "overflow": null,
            "overflow_x": null,
            "overflow_y": null,
            "padding": null,
            "right": null,
            "top": null,
            "visibility": null,
            "width": null
          }
        },
        "4db2dad5b0b14b669cd36c7d7b237522": {
          "model_module": "@jupyter-widgets/base",
          "model_module_version": "1.2.0",
          "model_name": "LayoutModel",
          "state": {
            "_model_module": "@jupyter-widgets/base",
            "_model_module_version": "1.2.0",
            "_model_name": "LayoutModel",
            "_view_count": null,
            "_view_module": "@jupyter-widgets/base",
            "_view_module_version": "1.2.0",
            "_view_name": "LayoutView",
            "align_content": null,
            "align_items": null,
            "align_self": null,
            "border": null,
            "bottom": null,
            "display": null,
            "flex": null,
            "flex_flow": null,
            "grid_area": null,
            "grid_auto_columns": null,
            "grid_auto_flow": null,
            "grid_auto_rows": null,
            "grid_column": null,
            "grid_gap": null,
            "grid_row": null,
            "grid_template_areas": null,
            "grid_template_columns": null,
            "grid_template_rows": null,
            "height": null,
            "justify_content": null,
            "justify_items": null,
            "left": null,
            "margin": null,
            "max_height": null,
            "max_width": null,
            "min_height": null,
            "min_width": null,
            "object_fit": null,
            "object_position": null,
            "order": null,
            "overflow": null,
            "overflow_x": null,
            "overflow_y": null,
            "padding": null,
            "right": null,
            "top": null,
            "visibility": null,
            "width": null
          }
        },
        "55375916a9ed46bd813efd4694eace8e": {
          "model_module": "@jupyter-widgets/controls",
          "model_module_version": "1.5.0",
          "model_name": "HTMLModel",
          "state": {
            "_dom_classes": [],
            "_model_module": "@jupyter-widgets/controls",
            "_model_module_version": "1.5.0",
            "_model_name": "HTMLModel",
            "_view_count": null,
            "_view_module": "@jupyter-widgets/controls",
            "_view_module_version": "1.5.0",
            "_view_name": "HTMLView",
            "description": "",
            "description_tooltip": null,
            "layout": "IPY_MODEL_1b603344d5ed4ef0b205f5326fd8bae5",
            "placeholder": "​",
            "style": "IPY_MODEL_6daf2c34de3b4db49ffecb71f05a1688",
            "value": "100%"
          }
        },
        "55846f1dd4994c099631735d05c2458f": {
          "model_module": "@jupyter-widgets/base",
          "model_module_version": "1.2.0",
          "model_name": "LayoutModel",
          "state": {
            "_model_module": "@jupyter-widgets/base",
            "_model_module_version": "1.2.0",
            "_model_name": "LayoutModel",
            "_view_count": null,
            "_view_module": "@jupyter-widgets/base",
            "_view_module_version": "1.2.0",
            "_view_name": "LayoutView",
            "align_content": null,
            "align_items": null,
            "align_self": null,
            "border": null,
            "bottom": null,
            "display": null,
            "flex": null,
            "flex_flow": null,
            "grid_area": null,
            "grid_auto_columns": null,
            "grid_auto_flow": null,
            "grid_auto_rows": null,
            "grid_column": null,
            "grid_gap": null,
            "grid_row": null,
            "grid_template_areas": null,
            "grid_template_columns": null,
            "grid_template_rows": null,
            "height": null,
            "justify_content": null,
            "justify_items": null,
            "left": null,
            "margin": null,
            "max_height": null,
            "max_width": null,
            "min_height": null,
            "min_width": null,
            "object_fit": null,
            "object_position": null,
            "order": null,
            "overflow": null,
            "overflow_x": null,
            "overflow_y": null,
            "padding": null,
            "right": null,
            "top": null,
            "visibility": null,
            "width": null
          }
        },
        "57a33110e07a4650b291d2e1d0dcb185": {
          "model_module": "@jupyter-widgets/controls",
          "model_module_version": "1.5.0",
          "model_name": "DescriptionStyleModel",
          "state": {
            "_model_module": "@jupyter-widgets/controls",
            "_model_module_version": "1.5.0",
            "_model_name": "DescriptionStyleModel",
            "_view_count": null,
            "_view_module": "@jupyter-widgets/base",
            "_view_module_version": "1.2.0",
            "_view_name": "StyleView",
            "description_width": ""
          }
        },
        "5e89faa01aa640c4be1351f7ee3a561d": {
          "model_module": "@jupyter-widgets/base",
          "model_module_version": "1.2.0",
          "model_name": "LayoutModel",
          "state": {
            "_model_module": "@jupyter-widgets/base",
            "_model_module_version": "1.2.0",
            "_model_name": "LayoutModel",
            "_view_count": null,
            "_view_module": "@jupyter-widgets/base",
            "_view_module_version": "1.2.0",
            "_view_name": "LayoutView",
            "align_content": null,
            "align_items": null,
            "align_self": null,
            "border": null,
            "bottom": null,
            "display": null,
            "flex": null,
            "flex_flow": null,
            "grid_area": null,
            "grid_auto_columns": null,
            "grid_auto_flow": null,
            "grid_auto_rows": null,
            "grid_column": null,
            "grid_gap": null,
            "grid_row": null,
            "grid_template_areas": null,
            "grid_template_columns": null,
            "grid_template_rows": null,
            "height": null,
            "justify_content": null,
            "justify_items": null,
            "left": null,
            "margin": null,
            "max_height": null,
            "max_width": null,
            "min_height": null,
            "min_width": null,
            "object_fit": null,
            "object_position": null,
            "order": null,
            "overflow": null,
            "overflow_x": null,
            "overflow_y": null,
            "padding": null,
            "right": null,
            "top": null,
            "visibility": null,
            "width": null
          }
        },
        "68ae699027ab4bcf9e295fdbe686937d": {
          "model_module": "@jupyter-widgets/base",
          "model_module_version": "1.2.0",
          "model_name": "LayoutModel",
          "state": {
            "_model_module": "@jupyter-widgets/base",
            "_model_module_version": "1.2.0",
            "_model_name": "LayoutModel",
            "_view_count": null,
            "_view_module": "@jupyter-widgets/base",
            "_view_module_version": "1.2.0",
            "_view_name": "LayoutView",
            "align_content": null,
            "align_items": null,
            "align_self": null,
            "border": null,
            "bottom": null,
            "display": null,
            "flex": null,
            "flex_flow": null,
            "grid_area": null,
            "grid_auto_columns": null,
            "grid_auto_flow": null,
            "grid_auto_rows": null,
            "grid_column": null,
            "grid_gap": null,
            "grid_row": null,
            "grid_template_areas": null,
            "grid_template_columns": null,
            "grid_template_rows": null,
            "height": null,
            "justify_content": null,
            "justify_items": null,
            "left": null,
            "margin": null,
            "max_height": null,
            "max_width": null,
            "min_height": null,
            "min_width": null,
            "object_fit": null,
            "object_position": null,
            "order": null,
            "overflow": null,
            "overflow_x": null,
            "overflow_y": null,
            "padding": null,
            "right": null,
            "top": null,
            "visibility": null,
            "width": null
          }
        },
        "68b809b0c4104c0190c695c297d4aa36": {
          "model_module": "@jupyter-widgets/base",
          "model_module_version": "1.2.0",
          "model_name": "LayoutModel",
          "state": {
            "_model_module": "@jupyter-widgets/base",
            "_model_module_version": "1.2.0",
            "_model_name": "LayoutModel",
            "_view_count": null,
            "_view_module": "@jupyter-widgets/base",
            "_view_module_version": "1.2.0",
            "_view_name": "LayoutView",
            "align_content": null,
            "align_items": null,
            "align_self": null,
            "border": null,
            "bottom": null,
            "display": null,
            "flex": null,
            "flex_flow": null,
            "grid_area": null,
            "grid_auto_columns": null,
            "grid_auto_flow": null,
            "grid_auto_rows": null,
            "grid_column": null,
            "grid_gap": null,
            "grid_row": null,
            "grid_template_areas": null,
            "grid_template_columns": null,
            "grid_template_rows": null,
            "height": null,
            "justify_content": null,
            "justify_items": null,
            "left": null,
            "margin": null,
            "max_height": null,
            "max_width": null,
            "min_height": null,
            "min_width": null,
            "object_fit": null,
            "object_position": null,
            "order": null,
            "overflow": null,
            "overflow_x": null,
            "overflow_y": null,
            "padding": null,
            "right": null,
            "top": null,
            "visibility": null,
            "width": null
          }
        },
        "6daf2c34de3b4db49ffecb71f05a1688": {
          "model_module": "@jupyter-widgets/controls",
          "model_module_version": "1.5.0",
          "model_name": "DescriptionStyleModel",
          "state": {
            "_model_module": "@jupyter-widgets/controls",
            "_model_module_version": "1.5.0",
            "_model_name": "DescriptionStyleModel",
            "_view_count": null,
            "_view_module": "@jupyter-widgets/base",
            "_view_module_version": "1.2.0",
            "_view_name": "StyleView",
            "description_width": ""
          }
        },
        "6ef57f3f7a2d4caa91c7bec900b38ba0": {
          "model_module": "@jupyter-widgets/controls",
          "model_module_version": "1.5.0",
          "model_name": "DescriptionStyleModel",
          "state": {
            "_model_module": "@jupyter-widgets/controls",
            "_model_module_version": "1.5.0",
            "_model_name": "DescriptionStyleModel",
            "_view_count": null,
            "_view_module": "@jupyter-widgets/base",
            "_view_module_version": "1.2.0",
            "_view_name": "StyleView",
            "description_width": ""
          }
        },
        "6f8b335564b343a8b1f0223abf080e1f": {
          "model_module": "@jupyter-widgets/controls",
          "model_module_version": "1.5.0",
          "model_name": "DescriptionStyleModel",
          "state": {
            "_model_module": "@jupyter-widgets/controls",
            "_model_module_version": "1.5.0",
            "_model_name": "DescriptionStyleModel",
            "_view_count": null,
            "_view_module": "@jupyter-widgets/base",
            "_view_module_version": "1.2.0",
            "_view_name": "StyleView",
            "description_width": ""
          }
        },
        "757d1992e8fe41a2bb72e6bb9930fbbb": {
          "model_module": "@jupyter-widgets/controls",
          "model_module_version": "1.5.0",
          "model_name": "ProgressStyleModel",
          "state": {
            "_model_module": "@jupyter-widgets/controls",
            "_model_module_version": "1.5.0",
            "_model_name": "ProgressStyleModel",
            "_view_count": null,
            "_view_module": "@jupyter-widgets/base",
            "_view_module_version": "1.2.0",
            "_view_name": "StyleView",
            "bar_color": null,
            "description_width": ""
          }
        },
        "7cfe89c6efc7412da16b8cbc8b8897b7": {
          "model_module": "@jupyter-widgets/controls",
          "model_module_version": "1.5.0",
          "model_name": "HTMLModel",
          "state": {
            "_dom_classes": [],
            "_model_module": "@jupyter-widgets/controls",
            "_model_module_version": "1.5.0",
            "_model_name": "HTMLModel",
            "_view_count": null,
            "_view_module": "@jupyter-widgets/controls",
            "_view_module_version": "1.5.0",
            "_view_name": "HTMLView",
            "description": "",
            "description_tooltip": null,
            "layout": "IPY_MODEL_9d08a1abfff240939080034f186fe1e3",
            "placeholder": "​",
            "style": "IPY_MODEL_6ef57f3f7a2d4caa91c7bec900b38ba0",
            "value": " 26421880/26421880 [00:01&lt;00:00, 26215986.13it/s]"
          }
        },
        "9653eb125c814ab5a0cb602fdc9306d2": {
          "model_module": "@jupyter-widgets/base",
          "model_module_version": "1.2.0",
          "model_name": "LayoutModel",
          "state": {
            "_model_module": "@jupyter-widgets/base",
            "_model_module_version": "1.2.0",
            "_model_name": "LayoutModel",
            "_view_count": null,
            "_view_module": "@jupyter-widgets/base",
            "_view_module_version": "1.2.0",
            "_view_name": "LayoutView",
            "align_content": null,
            "align_items": null,
            "align_self": null,
            "border": null,
            "bottom": null,
            "display": null,
            "flex": null,
            "flex_flow": null,
            "grid_area": null,
            "grid_auto_columns": null,
            "grid_auto_flow": null,
            "grid_auto_rows": null,
            "grid_column": null,
            "grid_gap": null,
            "grid_row": null,
            "grid_template_areas": null,
            "grid_template_columns": null,
            "grid_template_rows": null,
            "height": null,
            "justify_content": null,
            "justify_items": null,
            "left": null,
            "margin": null,
            "max_height": null,
            "max_width": null,
            "min_height": null,
            "min_width": null,
            "object_fit": null,
            "object_position": null,
            "order": null,
            "overflow": null,
            "overflow_x": null,
            "overflow_y": null,
            "padding": null,
            "right": null,
            "top": null,
            "visibility": null,
            "width": null
          }
        },
        "9d08a1abfff240939080034f186fe1e3": {
          "model_module": "@jupyter-widgets/base",
          "model_module_version": "1.2.0",
          "model_name": "LayoutModel",
          "state": {
            "_model_module": "@jupyter-widgets/base",
            "_model_module_version": "1.2.0",
            "_model_name": "LayoutModel",
            "_view_count": null,
            "_view_module": "@jupyter-widgets/base",
            "_view_module_version": "1.2.0",
            "_view_name": "LayoutView",
            "align_content": null,
            "align_items": null,
            "align_self": null,
            "border": null,
            "bottom": null,
            "display": null,
            "flex": null,
            "flex_flow": null,
            "grid_area": null,
            "grid_auto_columns": null,
            "grid_auto_flow": null,
            "grid_auto_rows": null,
            "grid_column": null,
            "grid_gap": null,
            "grid_row": null,
            "grid_template_areas": null,
            "grid_template_columns": null,
            "grid_template_rows": null,
            "height": null,
            "justify_content": null,
            "justify_items": null,
            "left": null,
            "margin": null,
            "max_height": null,
            "max_width": null,
            "min_height": null,
            "min_width": null,
            "object_fit": null,
            "object_position": null,
            "order": null,
            "overflow": null,
            "overflow_x": null,
            "overflow_y": null,
            "padding": null,
            "right": null,
            "top": null,
            "visibility": null,
            "width": null
          }
        },
        "9e22c227e8164df996a876ef02f0f6c9": {
          "model_module": "@jupyter-widgets/controls",
          "model_module_version": "1.5.0",
          "model_name": "HBoxModel",
          "state": {
            "_dom_classes": [],
            "_model_module": "@jupyter-widgets/controls",
            "_model_module_version": "1.5.0",
            "_model_name": "HBoxModel",
            "_view_count": null,
            "_view_module": "@jupyter-widgets/controls",
            "_view_module_version": "1.5.0",
            "_view_name": "HBoxView",
            "box_style": "",
            "children": [
              "IPY_MODEL_c8c25989968145519eed897124068dd9",
              "IPY_MODEL_15b181b8b19f480ca55dcaad7834a9e7",
              "IPY_MODEL_47ab3d494323438388c29a18d0f04464"
            ],
            "layout": "IPY_MODEL_68b809b0c4104c0190c695c297d4aa36"
          }
        },
        "a372d3a1adb54b6a9bc5f753d7c661dc": {
          "model_module": "@jupyter-widgets/base",
          "model_module_version": "1.2.0",
          "model_name": "LayoutModel",
          "state": {
            "_model_module": "@jupyter-widgets/base",
            "_model_module_version": "1.2.0",
            "_model_name": "LayoutModel",
            "_view_count": null,
            "_view_module": "@jupyter-widgets/base",
            "_view_module_version": "1.2.0",
            "_view_name": "LayoutView",
            "align_content": null,
            "align_items": null,
            "align_self": null,
            "border": null,
            "bottom": null,
            "display": null,
            "flex": null,
            "flex_flow": null,
            "grid_area": null,
            "grid_auto_columns": null,
            "grid_auto_flow": null,
            "grid_auto_rows": null,
            "grid_column": null,
            "grid_gap": null,
            "grid_row": null,
            "grid_template_areas": null,
            "grid_template_columns": null,
            "grid_template_rows": null,
            "height": null,
            "justify_content": null,
            "justify_items": null,
            "left": null,
            "margin": null,
            "max_height": null,
            "max_width": null,
            "min_height": null,
            "min_width": null,
            "object_fit": null,
            "object_position": null,
            "order": null,
            "overflow": null,
            "overflow_x": null,
            "overflow_y": null,
            "padding": null,
            "right": null,
            "top": null,
            "visibility": null,
            "width": null
          }
        },
        "acfae2c518e24f4f86003f6ef24e4dab": {
          "model_module": "@jupyter-widgets/controls",
          "model_module_version": "1.5.0",
          "model_name": "ProgressStyleModel",
          "state": {
            "_model_module": "@jupyter-widgets/controls",
            "_model_module_version": "1.5.0",
            "_model_name": "ProgressStyleModel",
            "_view_count": null,
            "_view_module": "@jupyter-widgets/base",
            "_view_module_version": "1.2.0",
            "_view_name": "StyleView",
            "bar_color": null,
            "description_width": ""
          }
        },
        "aeb79ab8f7334b57b16c9b9b7464d014": {
          "model_module": "@jupyter-widgets/controls",
          "model_module_version": "1.5.0",
          "model_name": "DescriptionStyleModel",
          "state": {
            "_model_module": "@jupyter-widgets/controls",
            "_model_module_version": "1.5.0",
            "_model_name": "DescriptionStyleModel",
            "_view_count": null,
            "_view_module": "@jupyter-widgets/base",
            "_view_module_version": "1.2.0",
            "_view_name": "StyleView",
            "description_width": ""
          }
        },
        "bab33aa5af6e49f1bf58913d666e84fb": {
          "model_module": "@jupyter-widgets/controls",
          "model_module_version": "1.5.0",
          "model_name": "DescriptionStyleModel",
          "state": {
            "_model_module": "@jupyter-widgets/controls",
            "_model_module_version": "1.5.0",
            "_model_name": "DescriptionStyleModel",
            "_view_count": null,
            "_view_module": "@jupyter-widgets/base",
            "_view_module_version": "1.2.0",
            "_view_name": "StyleView",
            "description_width": ""
          }
        },
        "bd8627c6cf4f4f21b0b620c8b609bb20": {
          "model_module": "@jupyter-widgets/controls",
          "model_module_version": "1.5.0",
          "model_name": "HTMLModel",
          "state": {
            "_dom_classes": [],
            "_model_module": "@jupyter-widgets/controls",
            "_model_module_version": "1.5.0",
            "_model_name": "HTMLModel",
            "_view_count": null,
            "_view_module": "@jupyter-widgets/controls",
            "_view_module_version": "1.5.0",
            "_view_name": "HTMLView",
            "description": "",
            "description_tooltip": null,
            "layout": "IPY_MODEL_9653eb125c814ab5a0cb602fdc9306d2",
            "placeholder": "​",
            "style": "IPY_MODEL_cfe31ce168b54d3781c6bc64cafa50b1",
            "value": "100%"
          }
        },
        "beebb061f4bd442cbf5d61ecec20dd9b": {
          "model_module": "@jupyter-widgets/controls",
          "model_module_version": "1.5.0",
          "model_name": "FloatProgressModel",
          "state": {
            "_dom_classes": [],
            "_model_module": "@jupyter-widgets/controls",
            "_model_module_version": "1.5.0",
            "_model_name": "FloatProgressModel",
            "_view_count": null,
            "_view_module": "@jupyter-widgets/controls",
            "_view_module_version": "1.5.0",
            "_view_name": "ProgressView",
            "bar_style": "success",
            "description": "",
            "description_tooltip": null,
            "layout": "IPY_MODEL_55846f1dd4994c099631735d05c2458f",
            "max": 29515,
            "min": 0,
            "orientation": "horizontal",
            "style": "IPY_MODEL_d489c9fa97824eafbbd4c3d1c51516cf",
            "value": 29515
          }
        },
        "c8c25989968145519eed897124068dd9": {
          "model_module": "@jupyter-widgets/controls",
          "model_module_version": "1.5.0",
          "model_name": "HTMLModel",
          "state": {
            "_dom_classes": [],
            "_model_module": "@jupyter-widgets/controls",
            "_model_module_version": "1.5.0",
            "_model_name": "HTMLModel",
            "_view_count": null,
            "_view_module": "@jupyter-widgets/controls",
            "_view_module_version": "1.5.0",
            "_view_name": "HTMLView",
            "description": "",
            "description_tooltip": null,
            "layout": "IPY_MODEL_ff56d66f54e64d4a889a15f686f4cd78",
            "placeholder": "​",
            "style": "IPY_MODEL_aeb79ab8f7334b57b16c9b9b7464d014",
            "value": "100%"
          }
        },
        "cbb345605220469f966eb620b0426173": {
          "model_module": "@jupyter-widgets/controls",
          "model_module_version": "1.5.0",
          "model_name": "HBoxModel",
          "state": {
            "_dom_classes": [],
            "_model_module": "@jupyter-widgets/controls",
            "_model_module_version": "1.5.0",
            "_model_name": "HBoxModel",
            "_view_count": null,
            "_view_module": "@jupyter-widgets/controls",
            "_view_module_version": "1.5.0",
            "_view_name": "HBoxView",
            "box_style": "",
            "children": [
              "IPY_MODEL_55375916a9ed46bd813efd4694eace8e",
              "IPY_MODEL_1983031f418c4beaaa791874a2927e73",
              "IPY_MODEL_7cfe89c6efc7412da16b8cbc8b8897b7"
            ],
            "layout": "IPY_MODEL_f4dc1286fd2f4d5bb17f11bd727ee534"
          }
        },
        "cfe31ce168b54d3781c6bc64cafa50b1": {
          "model_module": "@jupyter-widgets/controls",
          "model_module_version": "1.5.0",
          "model_name": "DescriptionStyleModel",
          "state": {
            "_model_module": "@jupyter-widgets/controls",
            "_model_module_version": "1.5.0",
            "_model_name": "DescriptionStyleModel",
            "_view_count": null,
            "_view_module": "@jupyter-widgets/base",
            "_view_module_version": "1.2.0",
            "_view_name": "StyleView",
            "description_width": ""
          }
        },
        "d489c9fa97824eafbbd4c3d1c51516cf": {
          "model_module": "@jupyter-widgets/controls",
          "model_module_version": "1.5.0",
          "model_name": "ProgressStyleModel",
          "state": {
            "_model_module": "@jupyter-widgets/controls",
            "_model_module_version": "1.5.0",
            "_model_name": "ProgressStyleModel",
            "_view_count": null,
            "_view_module": "@jupyter-widgets/base",
            "_view_module_version": "1.2.0",
            "_view_name": "StyleView",
            "bar_color": null,
            "description_width": ""
          }
        },
        "e1abb939c50c4dfc92e6d813efdc7cc6": {
          "model_module": "@jupyter-widgets/base",
          "model_module_version": "1.2.0",
          "model_name": "LayoutModel",
          "state": {
            "_model_module": "@jupyter-widgets/base",
            "_model_module_version": "1.2.0",
            "_model_name": "LayoutModel",
            "_view_count": null,
            "_view_module": "@jupyter-widgets/base",
            "_view_module_version": "1.2.0",
            "_view_name": "LayoutView",
            "align_content": null,
            "align_items": null,
            "align_self": null,
            "border": null,
            "bottom": null,
            "display": null,
            "flex": null,
            "flex_flow": null,
            "grid_area": null,
            "grid_auto_columns": null,
            "grid_auto_flow": null,
            "grid_auto_rows": null,
            "grid_column": null,
            "grid_gap": null,
            "grid_row": null,
            "grid_template_areas": null,
            "grid_template_columns": null,
            "grid_template_rows": null,
            "height": null,
            "justify_content": null,
            "justify_items": null,
            "left": null,
            "margin": null,
            "max_height": null,
            "max_width": null,
            "min_height": null,
            "min_width": null,
            "object_fit": null,
            "object_position": null,
            "order": null,
            "overflow": null,
            "overflow_x": null,
            "overflow_y": null,
            "padding": null,
            "right": null,
            "top": null,
            "visibility": null,
            "width": null
          }
        },
        "e1d91d18e270450f9829656c6cfe975a": {
          "model_module": "@jupyter-widgets/controls",
          "model_module_version": "1.5.0",
          "model_name": "FloatProgressModel",
          "state": {
            "_dom_classes": [],
            "_model_module": "@jupyter-widgets/controls",
            "_model_module_version": "1.5.0",
            "_model_name": "FloatProgressModel",
            "_view_count": null,
            "_view_module": "@jupyter-widgets/controls",
            "_view_module_version": "1.5.0",
            "_view_name": "ProgressView",
            "bar_style": "success",
            "description": "",
            "description_tooltip": null,
            "layout": "IPY_MODEL_a372d3a1adb54b6a9bc5f753d7c661dc",
            "max": 4422102,
            "min": 0,
            "orientation": "horizontal",
            "style": "IPY_MODEL_acfae2c518e24f4f86003f6ef24e4dab",
            "value": 4422102
          }
        },
        "e5f0a696d5d845be8d927c1ab9c8fc13": {
          "model_module": "@jupyter-widgets/controls",
          "model_module_version": "1.5.0",
          "model_name": "HTMLModel",
          "state": {
            "_dom_classes": [],
            "_model_module": "@jupyter-widgets/controls",
            "_model_module_version": "1.5.0",
            "_model_name": "HTMLModel",
            "_view_count": null,
            "_view_module": "@jupyter-widgets/controls",
            "_view_module_version": "1.5.0",
            "_view_name": "HTMLView",
            "description": "",
            "description_tooltip": null,
            "layout": "IPY_MODEL_2fa079f83e80401b93d4bd0b85fa0b85",
            "placeholder": "​",
            "style": "IPY_MODEL_6f8b335564b343a8b1f0223abf080e1f",
            "value": " 29515/29515 [00:00&lt;00:00, 296860.26it/s]"
          }
        },
        "e7fb08fea8a64c9eb204ed23e644f481": {
          "model_module": "@jupyter-widgets/controls",
          "model_module_version": "1.5.0",
          "model_name": "ProgressStyleModel",
          "state": {
            "_model_module": "@jupyter-widgets/controls",
            "_model_module_version": "1.5.0",
            "_model_name": "ProgressStyleModel",
            "_view_count": null,
            "_view_module": "@jupyter-widgets/base",
            "_view_module_version": "1.2.0",
            "_view_name": "StyleView",
            "bar_color": null,
            "description_width": ""
          }
        },
        "e9e667a4ad214fb585b12c46116a1f80": {
          "model_module": "@jupyter-widgets/controls",
          "model_module_version": "1.5.0",
          "model_name": "DescriptionStyleModel",
          "state": {
            "_model_module": "@jupyter-widgets/controls",
            "_model_module_version": "1.5.0",
            "_model_name": "DescriptionStyleModel",
            "_view_count": null,
            "_view_module": "@jupyter-widgets/base",
            "_view_module_version": "1.2.0",
            "_view_name": "StyleView",
            "description_width": ""
          }
        },
        "f4dc1286fd2f4d5bb17f11bd727ee534": {
          "model_module": "@jupyter-widgets/base",
          "model_module_version": "1.2.0",
          "model_name": "LayoutModel",
          "state": {
            "_model_module": "@jupyter-widgets/base",
            "_model_module_version": "1.2.0",
            "_model_name": "LayoutModel",
            "_view_count": null,
            "_view_module": "@jupyter-widgets/base",
            "_view_module_version": "1.2.0",
            "_view_name": "LayoutView",
            "align_content": null,
            "align_items": null,
            "align_self": null,
            "border": null,
            "bottom": null,
            "display": null,
            "flex": null,
            "flex_flow": null,
            "grid_area": null,
            "grid_auto_columns": null,
            "grid_auto_flow": null,
            "grid_auto_rows": null,
            "grid_column": null,
            "grid_gap": null,
            "grid_row": null,
            "grid_template_areas": null,
            "grid_template_columns": null,
            "grid_template_rows": null,
            "height": null,
            "justify_content": null,
            "justify_items": null,
            "left": null,
            "margin": null,
            "max_height": null,
            "max_width": null,
            "min_height": null,
            "min_width": null,
            "object_fit": null,
            "object_position": null,
            "order": null,
            "overflow": null,
            "overflow_x": null,
            "overflow_y": null,
            "padding": null,
            "right": null,
            "top": null,
            "visibility": null,
            "width": null
          }
        },
        "feeadc77e7b045888ad147be930bd1fe": {
          "model_module": "@jupyter-widgets/base",
          "model_module_version": "1.2.0",
          "model_name": "LayoutModel",
          "state": {
            "_model_module": "@jupyter-widgets/base",
            "_model_module_version": "1.2.0",
            "_model_name": "LayoutModel",
            "_view_count": null,
            "_view_module": "@jupyter-widgets/base",
            "_view_module_version": "1.2.0",
            "_view_name": "LayoutView",
            "align_content": null,
            "align_items": null,
            "align_self": null,
            "border": null,
            "bottom": null,
            "display": null,
            "flex": null,
            "flex_flow": null,
            "grid_area": null,
            "grid_auto_columns": null,
            "grid_auto_flow": null,
            "grid_auto_rows": null,
            "grid_column": null,
            "grid_gap": null,
            "grid_row": null,
            "grid_template_areas": null,
            "grid_template_columns": null,
            "grid_template_rows": null,
            "height": null,
            "justify_content": null,
            "justify_items": null,
            "left": null,
            "margin": null,
            "max_height": null,
            "max_width": null,
            "min_height": null,
            "min_width": null,
            "object_fit": null,
            "object_position": null,
            "order": null,
            "overflow": null,
            "overflow_x": null,
            "overflow_y": null,
            "padding": null,
            "right": null,
            "top": null,
            "visibility": null,
            "width": null
          }
        },
        "ff56d66f54e64d4a889a15f686f4cd78": {
          "model_module": "@jupyter-widgets/base",
          "model_module_version": "1.2.0",
          "model_name": "LayoutModel",
          "state": {
            "_model_module": "@jupyter-widgets/base",
            "_model_module_version": "1.2.0",
            "_model_name": "LayoutModel",
            "_view_count": null,
            "_view_module": "@jupyter-widgets/base",
            "_view_module_version": "1.2.0",
            "_view_name": "LayoutView",
            "align_content": null,
            "align_items": null,
            "align_self": null,
            "border": null,
            "bottom": null,
            "display": null,
            "flex": null,
            "flex_flow": null,
            "grid_area": null,
            "grid_auto_columns": null,
            "grid_auto_flow": null,
            "grid_auto_rows": null,
            "grid_column": null,
            "grid_gap": null,
            "grid_row": null,
            "grid_template_areas": null,
            "grid_template_columns": null,
            "grid_template_rows": null,
            "height": null,
            "justify_content": null,
            "justify_items": null,
            "left": null,
            "margin": null,
            "max_height": null,
            "max_width": null,
            "min_height": null,
            "min_width": null,
            "object_fit": null,
            "object_position": null,
            "order": null,
            "overflow": null,
            "overflow_x": null,
            "overflow_y": null,
            "padding": null,
            "right": null,
            "top": null,
            "visibility": null,
            "width": null
          }
        }
      }
    }
  },
  "nbformat": 4,
  "nbformat_minor": 0
}