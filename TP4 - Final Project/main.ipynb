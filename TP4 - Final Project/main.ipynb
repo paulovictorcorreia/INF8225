{
 "cells": [
  {
   "attachments": {},
   "cell_type": "markdown",
   "metadata": {},
   "source": [
    "# Introduction\n",
    "\n",
    "We are building a machine learning pipeline for classification of EEG signals.\n",
    "\n",
    "Preprocessing files will be run separetely from this notebook, and we will import their variables.\n",
    "\n",
    "This notebook will focus on creating the pipeline for assessing the best model to detect seizures in EEG signals. We will use three main strategies:\n",
    "\n",
    "* Res2Net Transformer\n",
    "* 1D-CNN + LSTM \n",
    "* Gated 2 Tower Transformer "
   ]
  },
  {
   "attachments": {},
   "cell_type": "markdown",
   "metadata": {},
   "source": [
    "# Importing Packages"
   ]
  },
  {
   "cell_type": "code",
   "execution_count": 56,
   "metadata": {},
   "outputs": [
    {
     "name": "stdout",
     "output_type": "stream",
     "text": [
      "True\n",
      "2.0.0+cu118\n"
     ]
    }
   ],
   "source": [
    "import numpy as np\n",
    "import pandas as pd\n",
    "import matplotlib.pyplot as plt\n",
    "\n",
    "import torch\n",
    "from torch import nn\n",
    "from torch.optim import Adam\n",
    "from torch.utils.data import Dataset, DataLoader\n",
    "import lightning.pytorch as pl\n",
    "import pickle\n",
    "import copy\n",
    "\n",
    "print(torch.cuda.is_available())\n",
    "print(torch.__version__)\n",
    "\n",
    "\n",
    "plt.style.use(\"ggplot\")"
   ]
  },
  {
   "attachments": {},
   "cell_type": "markdown",
   "metadata": {},
   "source": [
    "# Importing and Preprocessing Data"
   ]
  },
  {
   "cell_type": "code",
   "execution_count": 2,
   "metadata": {},
   "outputs": [],
   "source": [
    "%run ./preprocessing.py"
   ]
  },
  {
   "cell_type": "code",
   "execution_count": 3,
   "metadata": {},
   "outputs": [],
   "source": [
    "X_train = torch.FloatTensor(X_train)\n",
    "X_test = torch.FloatTensor(X_test)\n",
    "X_val = torch.FloatTensor(X_val)\n",
    "y_train = torch.FloatTensor(y_train).unsqueeze(1)\n",
    "y_test = torch.FloatTensor(y_test).unsqueeze(1)\n",
    "y_val = torch.FloatTensor(y_val).unsqueeze(1)"
   ]
  },
  {
   "cell_type": "code",
   "execution_count": 4,
   "metadata": {},
   "outputs": [
    {
     "data": {
      "text/plain": [
       "(tensor([0., 1.]), tensor([6440, 1610]))"
      ]
     },
     "execution_count": 4,
     "metadata": {},
     "output_type": "execute_result"
    }
   ],
   "source": [
    "y_train.unique(return_counts=True)"
   ]
  },
  {
   "cell_type": "code",
   "execution_count": 10,
   "metadata": {},
   "outputs": [],
   "source": [
    "class EEGDataset(Dataset):\n",
    "    def __init__(self, features, target) -> None:\n",
    "        super().__init__()\n",
    "        self.features = features\n",
    "        self.target = target\n",
    "\n",
    "    def __getitem__(self, index):\n",
    "        data = {}\n",
    "        features = self.features[index]\n",
    "        target = self.target[index]\n",
    "        data[\"X\"] = features\n",
    "        data[\"y\"] = target\n",
    "        return data\n",
    "\n",
    "    def __len__(self):\n",
    "        return len(self.features)\n",
    "\n",
    "\n",
    "BATCH_SIZE = 64\n",
    "DEVICE = \"cuda:0\" if torch.cuda.is_available() else \"cpu\"\n",
    "train_dataloader = DataLoader(EEGDataset(X_train, y_train), batch_size=BATCH_SIZE, shuffle=True)\n",
    "val_dataloader = DataLoader(EEGDataset(X_val, y_val), batch_size=BATCH_SIZE, shuffle=False)\n",
    "final_train_dataloader = DataLoader(EEGDataset(torch.cat((X_train, X_val), 0), torch.cat((y_train, y_val), 0)), batch_size=BATCH_SIZE, shuffle=True)\n",
    "test_dataloader = DataLoader(EEGDataset(X_test, y_test), batch_size=BATCH_SIZE, shuffle=False)"
   ]
  },
  {
   "attachments": {},
   "cell_type": "markdown",
   "metadata": {},
   "source": [
    "# Creating Models"
   ]
  },
  {
   "attachments": {},
   "cell_type": "markdown",
   "metadata": {},
   "source": [
    "## Training code"
   ]
  },
  {
   "cell_type": "code",
   "execution_count": 63,
   "metadata": {},
   "outputs": [],
   "source": [
    "\n",
    "\n",
    "def training(\n",
    "        model, train_dataloader=None, val_dataloader=None,\n",
    "        epochs=5, lr=0.001, device='cpu', earlystopping_tolerance=5):\n",
    "    model = model.to(device)\n",
    "    optimizer = Adam(model.parameters(), lr=lr)\n",
    "    criterion = nn.BCEWithLogitsLoss(pos_weight=torch.FloatTensor([9200/2300]).to(device))\n",
    "    # criterion = nn.BCELoss()\n",
    "    model_state = {\n",
    "        \"model\": None,\n",
    "        \"train_loss\": [],\n",
    "        \"val_loss\": [],\n",
    "    }\n",
    "    best_validation = np.inf\n",
    "    best_model = None\n",
    "    count_tolerance = 0\n",
    "\n",
    "\n",
    "    for epoch in range(epochs):\n",
    "        training_loss = 0\n",
    "        for i, data in enumerate(train_dataloader, 1):\n",
    "            # get the inputs; data is a list of [inputs, labels]\n",
    "            X, y = data[\"X\"].to(device), data[\"y\"].to(device)\n",
    "\n",
    "            # zero the parameter gradients\n",
    "            optimizer.zero_grad()\n",
    "\n",
    "            # forward + backward + optimize\n",
    "            outputs = model(X)\n",
    "            train_loss = criterion(outputs, y)\n",
    "            train_loss.backward()\n",
    "            optimizer.step()\n",
    "\n",
    "            # print statistics\n",
    "            training_loss += train_loss.item()\n",
    "        \n",
    "        training_loss /= i\n",
    "        \n",
    "        if isinstance(val_dataloader, DataLoader):\n",
    "            validation_loss = 0\n",
    "            for j, data in enumerate(val_dataloader, 1):\n",
    "                # get the inputs; data is a list of [inputs, labels]\n",
    "                X, y = data[\"X\"].to(device), data[\"y\"].to(device)\n",
    "\n",
    "\n",
    "                # forward + backward + optimize\n",
    "                with torch.no_grad():\n",
    "                    outputs = model(X)\n",
    "                    val_loss = criterion(outputs, y)\n",
    "                    # print statistics\n",
    "                    validation_loss += val_loss.item()\n",
    "\n",
    "            validation_loss /= j\n",
    "            \n",
    "            if (validation_loss) < best_validation:\n",
    "                count_tolerance = 0\n",
    "                best_validation = validation_loss\n",
    "                best_model = copy.deepcopy(model)\n",
    "            \n",
    "            count_tolerance += 1\n",
    "            print(f\"Epoch: {epoch}\\tTraining loss: {training_loss:.5f}\\t\\t Validation Loss: {validation_loss:.5f}\")\n",
    "            model_state[\"train_loss\"].append(training_loss)\n",
    "            model_state[\"val_loss\"].append(validation_loss)\n",
    "\n",
    "            if count_tolerance >= earlystopping_tolerance:\n",
    "                break\n",
    "            \n",
    "        else:\n",
    "            print(f\"Epoch: {epoch}\\tTraining loss: {training_loss:.5f}\")\n",
    "            model_state[\"train_loss\"].append(training_loss)\n",
    "            best_model = copy.deepcopy(model)\n",
    "        \n",
    "    \n",
    "    model_state[\"model\"] = best_model\n",
    "    save_model(model_state)\n",
    "    return model_state\n",
    "\n",
    "def save_model(model_state):\n",
    "    with open(f\"models/{ model_state['model'].to_string() }.pkl\", \"wb\") as fp:\n",
    "        model_state[\"model\"] = model_state[\"model\"].to(\"cpu\").state_dict()\n",
    "        pickle.dump(model_state, fp)\n",
    "        print(\"Saved model successfully!\")"
   ]
  },
  {
   "attachments": {},
   "cell_type": "markdown",
   "metadata": {},
   "source": [
    "## 1D CNN-LSTM Model"
   ]
  },
  {
   "cell_type": "code",
   "execution_count": 65,
   "metadata": {},
   "outputs": [
    {
     "name": "stdout",
     "output_type": "stream",
     "text": [
      "Epoch: 0\tTraining loss: 1.10888\t\t Validation Loss: 1.10872\n",
      "Epoch: 1\tTraining loss: 1.10554\t\t Validation Loss: 1.06402\n",
      "Epoch: 2\tTraining loss: 0.83110\t\t Validation Loss: 0.86627\n",
      "Epoch: 3\tTraining loss: 0.60076\t\t Validation Loss: 0.49241\n",
      "Epoch: 4\tTraining loss: 0.50622\t\t Validation Loss: 0.39568\n",
      "Epoch: 5\tTraining loss: 0.43333\t\t Validation Loss: 0.32331\n",
      "Epoch: 6\tTraining loss: 0.37710\t\t Validation Loss: 0.29778\n",
      "Epoch: 7\tTraining loss: 0.33673\t\t Validation Loss: 0.24449\n",
      "Epoch: 8\tTraining loss: 0.29040\t\t Validation Loss: 0.27316\n",
      "Epoch: 9\tTraining loss: 0.28996\t\t Validation Loss: 0.22532\n",
      "Epoch: 10\tTraining loss: 0.24394\t\t Validation Loss: 0.24303\n",
      "Epoch: 11\tTraining loss: 0.22964\t\t Validation Loss: 0.21420\n",
      "Epoch: 12\tTraining loss: 0.22563\t\t Validation Loss: 0.25625\n",
      "Epoch: 13\tTraining loss: 0.20938\t\t Validation Loss: 0.19447\n",
      "Epoch: 14\tTraining loss: 0.20150\t\t Validation Loss: 0.20015\n",
      "Epoch: 15\tTraining loss: 0.15896\t\t Validation Loss: 0.19160\n",
      "Epoch: 16\tTraining loss: 0.15580\t\t Validation Loss: 0.17218\n",
      "Epoch: 17\tTraining loss: 0.17564\t\t Validation Loss: 0.18863\n",
      "Epoch: 18\tTraining loss: 0.16225\t\t Validation Loss: 0.21609\n",
      "Epoch: 19\tTraining loss: 0.15495\t\t Validation Loss: 0.17022\n",
      "Epoch: 20\tTraining loss: 0.14627\t\t Validation Loss: 0.18575\n",
      "Epoch: 21\tTraining loss: 0.12211\t\t Validation Loss: 0.14985\n",
      "Epoch: 22\tTraining loss: 0.11030\t\t Validation Loss: 0.18416\n",
      "Epoch: 23\tTraining loss: 0.13840\t\t Validation Loss: 0.29089\n",
      "Epoch: 24\tTraining loss: 0.13717\t\t Validation Loss: 0.19148\n",
      "Saved model successfully!\n"
     ]
    }
   ],
   "source": [
    "class CNN_LSTM_Classifier(pl.LightningModule):\n",
    "    def __init__(self,):\n",
    "        super().__init__()\n",
    "        self.device_ = \"cuda:0\" if torch.cuda.is_available() else \"cpu\"\n",
    "        self.conv_1 = nn.Conv1d(1, 64, 3)\n",
    "        self.relu = nn.ReLU()\n",
    "        self.max_pool = nn.MaxPool1d(2, 2)\n",
    "        self.conv_layers = nn.Sequential(\n",
    "            nn.Conv1d(64, 128, 3),\n",
    "            nn.ReLU(),\n",
    "            nn.Conv1d(128, 512, 3),\n",
    "            nn.ReLU(),\n",
    "            nn.Conv1d(512, 1024, 3),\n",
    "            nn.ReLU()\n",
    "        )\n",
    "        self.flatten_layer = nn.Linear(82, 256)\n",
    "        dropout = 0.2\n",
    "        self.dropout = nn.Dropout(dropout)\n",
    "\n",
    "        self.lstm = nn.LSTM(1024, 64, 2, batch_first=True, dropout=dropout)\n",
    "\n",
    "        self.fc_out = nn.Sequential(\n",
    "            nn.Linear(64, 256),\n",
    "            nn.ReLU(),\n",
    "            nn.Linear(256, 128),\n",
    "            nn.ReLU(),\n",
    "            nn.Linear(128, 64),\n",
    "            nn.ReLU(),\n",
    "            nn.Linear(64, 1),\n",
    "        )\n",
    "\n",
    "\n",
    "    def forward(self, X: torch.FloatTensor, y=None):\n",
    "        X = X.transpose(1, 2)\n",
    "        out = self.relu(self.conv_1(X))\n",
    "        out = self.max_pool(out)\n",
    "        out = self.conv_layers(out)\n",
    "        out = self.flatten_layer(out)\n",
    "        out = out.transpose(1, 2)\n",
    "        out, (_, _) = self.lstm(out)\n",
    "        out = out[:, -1, :]\n",
    "        out = self.fc_out(out)\n",
    "        return out\n",
    "    \n",
    "    def predict_batch(self, X: torch.FloatTensor):\n",
    "        pred = (torch.sigmoid(self(X)) > 0.5).int()\n",
    "        return pred\n",
    "\n",
    "    def predict(self, dataloader: DataLoader):\n",
    "        predictions = list()\n",
    "        for i, data in enumerate(dataloader, 1):\n",
    "            # get the inputs; data is a list of [inputs, labels]\n",
    "            with torch.no_grad():\n",
    "                X = data[\"X\"]\n",
    "                y_pred = self.predict_batch(X)\n",
    "                predictions.append(y_pred)\n",
    "        predictions = torch.cat(predictions, 0)\n",
    "        return predictions\n",
    "\n",
    "    def to_string(self):\n",
    "        return \"CNN_LSTM_Classifier\"\n",
    "\n",
    "\n",
    "    \n",
    "model = CNN_LSTM_Classifier()\n",
    "state = training(model, train_dataloader, val_dataloader, device=DEVICE, epochs=25, lr=0.0001)\n",
    "# state[\"model\"]\n",
    "# model.predict(test_dataloader).shape"
   ]
  },
  {
   "cell_type": "code",
   "execution_count": 67,
   "metadata": {},
   "outputs": [
    {
     "data": {
      "image/png": "[encoded data removed]",
      "text/plain": [
       "<Figure size 800x600 with 1 Axes>"
      ]
     },
     "metadata": {},
     "output_type": "display_data"
    }
   ],
   "source": [
    "plt.figure(figsize=(8, 6))\n",
    "plt.plot(state[\"train_loss\"], label=\"Training Loss\")\n",
    "plt.plot(state[\"val_loss\"], label=\"Validation Loss\")\n",
    "plt.legend(loc=\"best\")\n",
    "plt.title(\"Training x Validation Losses\")\n",
    "plt.xlabel(\"Epochs\")\n",
    "plt.ylabel(\"Binary Cross Entropy Loss\")\n",
    "plt.show()"
   ]
  }
 ],
 "metadata": {
  "kernelspec": {
   "display_name": "inf8225",
   "language": "python",
   "name": "python3"
  },
  "language_info": {
   "codemirror_mode": {
    "name": "ipython",
    "version": 3
   },
   "file_extension": ".py",
   "mimetype": "text/x-python",
   "name": "python",
   "nbconvert_exporter": "python",
   "pygments_lexer": "ipython3",
   "version": "3.10.9"
  },
  "orig_nbformat": 4
 },
 "nbformat": 4,
 "nbformat_minor": 2
}
